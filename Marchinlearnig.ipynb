{
  "nbformat": 4,
  "nbformat_minor": 0,
  "metadata": {
    "anaconda-cloud": {},
    "kernelspec": {
      "display_name": "Python 3",
      "language": "python",
      "name": "python3"
    },
    "language_info": {
      "codemirror_mode": {
        "name": "ipython",
        "version": 3
      },
      "file_extension": ".py",
      "mimetype": "text/x-python",
      "name": "python",
      "nbconvert_exporter": "python",
      "pygments_lexer": "ipython3",
      "version": "3.6.5"
    },
    "colab": {
      "name": "Marchinlearnig.ipynb",
      "provenance": [],
      "collapsed_sections": [],
      "toc_visible": true,
      "include_colab_link": true
    }
  },
  "cells": [
    {
      "cell_type": "markdown",
      "metadata": {
        "id": "view-in-github",
        "colab_type": "text"
      },
      "source": [
        "<a href=\"https://colab.research.google.com/github/allantak/Price_Boston/blob/main/Marchinlearnig.ipynb\" target=\"_parent\"><img src=\"https://colab.research.google.com/assets/colab-badge.svg\" alt=\"Open In Colab\"/></a>"
      ]
    },
    {
      "cell_type": "code",
      "metadata": {
        "id": "Pra_pLjfAW3d",
        "colab": {
          "base_uri": "https://localhost:8080/",
          "height": 122
        },
        "outputId": "0dffaa3e-0e4a-41b7-c704-84f4083f4fee"
      },
      "source": [
        "from google.colab import drive\n",
        "drive.mount('/content/drive')"
      ],
      "execution_count": null,
      "outputs": [
        {
          "output_type": "stream",
          "text": [
            "Go to this URL in a browser: https://accounts.google.com/o/oauth2/auth?client_id=947318989803-6bn6qk8qdgf4n4g3pfee6491hc0brc4i.apps.googleusercontent.com&redirect_uri=urn%3aietf%3awg%3aoauth%3a2.0%3aoob&response_type=code&scope=email%20https%3a%2f%2fwww.googleapis.com%2fauth%2fdocs.test%20https%3a%2f%2fwww.googleapis.com%2fauth%2fdrive%20https%3a%2f%2fwww.googleapis.com%2fauth%2fdrive.photos.readonly%20https%3a%2f%2fwww.googleapis.com%2fauth%2fpeopleapi.readonly\n",
            "\n",
            "Enter your authorization code:\n",
            "··········\n",
            "Mounted at /content/drive\n"
          ],
          "name": "stdout"
        }
      ]
    },
    {
      "cell_type": "markdown",
      "metadata": {
        "id": "LpI7iiKFVv85"
      },
      "source": [
        "Importando as bibliotecas básicas"
      ]
    },
    {
      "cell_type": "code",
      "metadata": {
        "id": "KrCFI6wjVy8r",
        "colab": {
          "base_uri": "https://localhost:8080/",
          "height": 71
        },
        "outputId": "aa5ed08b-b352-4bef-81ea-1ae2a27e5d83"
      },
      "source": [
        "import pandas as pd\n",
        "import seaborn as sns\n",
        "import numpy as np\n",
        "import matplotlib.pyplot as plt"
      ],
      "execution_count": null,
      "outputs": [
        {
          "output_type": "stream",
          "text": [
            "/usr/local/lib/python3.6/dist-packages/statsmodels/tools/_testing.py:19: FutureWarning: pandas.util.testing is deprecated. Use the functions in the public API at pandas.testing instead.\n",
            "  import pandas.util.testing as tm\n"
          ],
          "name": "stderr"
        }
      ]
    },
    {
      "cell_type": "markdown",
      "metadata": {
        "id": "pN6MI_aOdLkK"
      },
      "source": [
        "Carregando a Base de Dados"
      ]
    },
    {
      "cell_type": "code",
      "metadata": {
        "id": "fH08VuIvDYqC"
      },
      "source": [
        "# carrega o dataset\n",
        "from sklearn.datasets import load_boston\n",
        "boston = load_boston()"
      ],
      "execution_count": null,
      "outputs": []
    },
    {
      "cell_type": "code",
      "metadata": {
        "id": "vdncFGtm9EZe",
        "colab": {
          "base_uri": "https://localhost:8080/",
          "height": 904
        },
        "outputId": "fca0ec94-034b-46a3-a26a-3e1f16f5eaed"
      },
      "source": [
        "# descrição do dataset\n",
        "print (boston.DESCR)"
      ],
      "execution_count": null,
      "outputs": [
        {
          "output_type": "stream",
          "text": [
            ".. _boston_dataset:\n",
            "\n",
            "Boston house prices dataset\n",
            "---------------------------\n",
            "\n",
            "**Data Set Characteristics:**  \n",
            "\n",
            "    :Number of Instances: 506 \n",
            "\n",
            "    :Number of Attributes: 13 numeric/categorical predictive. Median Value (attribute 14) is usually the target.\n",
            "\n",
            "    :Attribute Information (in order):\n",
            "        - CRIM     per capita crime rate by town\n",
            "        - ZN       proportion of residential land zoned for lots over 25,000 sq.ft.\n",
            "        - INDUS    proportion of non-retail business acres per town\n",
            "        - CHAS     Charles River dummy variable (= 1 if tract bounds river; 0 otherwise)\n",
            "        - NOX      nitric oxides concentration (parts per 10 million)\n",
            "        - RM       average number of rooms per dwelling\n",
            "        - AGE      proportion of owner-occupied units built prior to 1940\n",
            "        - DIS      weighted distances to five Boston employment centres\n",
            "        - RAD      index of accessibility to radial highways\n",
            "        - TAX      full-value property-tax rate per $10,000\n",
            "        - PTRATIO  pupil-teacher ratio by town\n",
            "        - B        1000(Bk - 0.63)^2 where Bk is the proportion of blacks by town\n",
            "        - LSTAT    % lower status of the population\n",
            "        - MEDV     Median value of owner-occupied homes in $1000's\n",
            "\n",
            "    :Missing Attribute Values: None\n",
            "\n",
            "    :Creator: Harrison, D. and Rubinfeld, D.L.\n",
            "\n",
            "This is a copy of UCI ML housing dataset.\n",
            "https://archive.ics.uci.edu/ml/machine-learning-databases/housing/\n",
            "\n",
            "\n",
            "This dataset was taken from the StatLib library which is maintained at Carnegie Mellon University.\n",
            "\n",
            "The Boston house-price data of Harrison, D. and Rubinfeld, D.L. 'Hedonic\n",
            "prices and the demand for clean air', J. Environ. Economics & Management,\n",
            "vol.5, 81-102, 1978.   Used in Belsley, Kuh & Welsch, 'Regression diagnostics\n",
            "...', Wiley, 1980.   N.B. Various transformations are used in the table on\n",
            "pages 244-261 of the latter.\n",
            "\n",
            "The Boston house-price data has been used in many machine learning papers that address regression\n",
            "problems.   \n",
            "     \n",
            ".. topic:: References\n",
            "\n",
            "   - Belsley, Kuh & Welsch, 'Regression diagnostics: Identifying Influential Data and Sources of Collinearity', Wiley, 1980. 244-261.\n",
            "   - Quinlan,R. (1993). Combining Instance-Based and Model-Based Learning. In Proceedings on the Tenth International Conference of Machine Learning, 236-243, University of Massachusetts, Amherst. Morgan Kaufmann.\n",
            "\n"
          ],
          "name": "stdout"
        }
      ]
    },
    {
      "cell_type": "code",
      "metadata": {
        "id": "e1d1cfElD_aD"
      },
      "source": [
        "# cria um dataframe pandas\n",
        "data = pd.DataFrame(boston.data, columns=boston.feature_names)"
      ],
      "execution_count": null,
      "outputs": []
    },
    {
      "cell_type": "markdown",
      "metadata": {
        "id": "2DqDhU9Gdkme"
      },
      "source": [
        "Adicionando a coluna que será nossa variável alvo"
      ]
    },
    {
      "cell_type": "code",
      "metadata": {
        "id": "WaGqRi0vElWS"
      },
      "source": [
        "# adiciona a variável MEDV\n",
        "data['MEDV'] = boston.target"
      ],
      "execution_count": null,
      "outputs": []
    },
    {
      "cell_type": "code",
      "metadata": {
        "id": "caKPkl_SFil0"
      },
      "source": [
        "# filtra os top 16 maiores registro da coluna MEDV\n",
        "top16 = data.nlargest(16, 'MEDV').index"
      ],
      "execution_count": null,
      "outputs": []
    },
    {
      "cell_type": "code",
      "metadata": {
        "id": "cicsUFf4OELZ"
      },
      "source": [
        "# remove os valores listados em top16\n",
        "data.drop(top16, inplace=True)"
      ],
      "execution_count": null,
      "outputs": []
    },
    {
      "cell_type": "markdown",
      "metadata": {
        "id": "X2mMG-H_xfCU"
      },
      "source": [
        "**Definindo um Baseline**\n",
        "\n",
        "- `Uma baseline é importante para ter marcos no projeto`.\n",
        "- `Permite uma explicação fácil para todos os envolvidos`.\n",
        "- `É algo que sempre tentaremos ganhar na medida do possível`."
      ]
    },
    {
      "cell_type": "code",
      "metadata": {
        "id": "q-k-jC68Tmra"
      },
      "source": [
        "# converte os dados\n",
        "data.RM = data.RM.astype(int)"
      ],
      "execution_count": null,
      "outputs": []
    },
    {
      "cell_type": "code",
      "metadata": {
        "id": "cA9VCNRnUOPi",
        "colab": {
          "base_uri": "https://localhost:8080/",
          "height": 374
        },
        "outputId": "3039e0fc-e7ab-4380-97af-f2e8fbbc0480"
      },
      "source": [
        "data.info()"
      ],
      "execution_count": null,
      "outputs": [
        {
          "output_type": "stream",
          "text": [
            "<class 'pandas.core.frame.DataFrame'>\n",
            "Int64Index: 490 entries, 0 to 505\n",
            "Data columns (total 14 columns):\n",
            " #   Column   Non-Null Count  Dtype  \n",
            "---  ------   --------------  -----  \n",
            " 0   CRIM     490 non-null    float64\n",
            " 1   ZN       490 non-null    float64\n",
            " 2   INDUS    490 non-null    float64\n",
            " 3   CHAS     490 non-null    float64\n",
            " 4   NOX      490 non-null    float64\n",
            " 5   RM       490 non-null    int64  \n",
            " 6   AGE      490 non-null    float64\n",
            " 7   DIS      490 non-null    float64\n",
            " 8   RAD      490 non-null    float64\n",
            " 9   TAX      490 non-null    float64\n",
            " 10  PTRATIO  490 non-null    float64\n",
            " 11  B        490 non-null    float64\n",
            " 12  LSTAT    490 non-null    float64\n",
            " 13  MEDV     490 non-null    float64\n",
            "dtypes: float64(13), int64(1)\n",
            "memory usage: 57.4 KB\n"
          ],
          "name": "stdout"
        }
      ]
    },
    {
      "cell_type": "code",
      "metadata": {
        "id": "K_-mp-6WtUee",
        "colab": {
          "base_uri": "https://localhost:8080/",
          "height": 170
        },
        "outputId": "a1de6c10-eeb2-4552-9669-8f29c59a2c2a"
      },
      "source": [
        "# estatística descritiva da coluna numero de quartos\n",
        "data.RM.describe()"
      ],
      "execution_count": null,
      "outputs": [
        {
          "output_type": "execute_result",
          "data": {
            "text/plain": [
              "count    490.000000\n",
              "mean       5.740816\n",
              "std        0.737657\n",
              "min        3.000000\n",
              "25%        5.000000\n",
              "50%        6.000000\n",
              "75%        6.000000\n",
              "max        8.000000\n",
              "Name: RM, dtype: float64"
            ]
          },
          "metadata": {
            "tags": []
          },
          "execution_count": 11
        }
      ]
    },
    {
      "cell_type": "code",
      "metadata": {
        "id": "HIknobGdtUQR"
      },
      "source": [
        "# definindo a regra para categorizar os dados\n",
        "categorias = []"
      ],
      "execution_count": null,
      "outputs": []
    },
    {
      "cell_type": "code",
      "metadata": {
        "id": "faL-8m1onPP2"
      },
      "source": [
        "# alimenta a lista categorias\n",
        "for i in data.RM.iteritems():\n",
        "  valor = (i[1])\n",
        "  if valor <= 4:\n",
        "    categorias.append('Pequeno')\n",
        "  elif valor < 7:\n",
        "    categorias.append('Medio')\n",
        "  else:\n",
        "    categorias.append('Grande')"
      ],
      "execution_count": null,
      "outputs": []
    },
    {
      "cell_type": "code",
      "metadata": {
        "id": "-nEk0wXeNFWE"
      },
      "source": [
        "# cria a coluna categorias\n",
        "data['categorias'] = categorias"
      ],
      "execution_count": null,
      "outputs": []
    },
    {
      "cell_type": "code",
      "metadata": {
        "id": "i-iVO76sR-am",
        "colab": {
          "base_uri": "https://localhost:8080/",
          "height": 85
        },
        "outputId": "d63d4134-6880-4e51-8bca-d1e85d9bac64"
      },
      "source": [
        "# imprime a contagem de categorias\n",
        "data.categorias.value_counts()"
      ],
      "execution_count": null,
      "outputs": [
        {
          "output_type": "execute_result",
          "data": {
            "text/plain": [
              "Medio      424\n",
              "Grande      52\n",
              "Pequeno     14\n",
              "Name: categorias, dtype: int64"
            ]
          },
          "metadata": {
            "tags": []
          },
          "execution_count": 15
        }
      ]
    },
    {
      "cell_type": "code",
      "metadata": {
        "id": "Gxa6OrD8Ht-0"
      },
      "source": [
        "# agrupa as categorias e calcula as médias\n",
        "medias_categorias = data.groupby(by='categorias')['MEDV'].mean()"
      ],
      "execution_count": null,
      "outputs": []
    },
    {
      "cell_type": "code",
      "metadata": {
        "id": "zYMhxnzDIM2X",
        "colab": {
          "base_uri": "https://localhost:8080/",
          "height": 102
        },
        "outputId": "b24a03b2-87dd-4616-ac03-d26d5a24e911"
      },
      "source": [
        "# visualizando a variável medias_categorias\n",
        "medias_categorias"
      ],
      "execution_count": null,
      "outputs": [
        {
          "output_type": "execute_result",
          "data": {
            "text/plain": [
              "categorias\n",
              "Grande     35.719231\n",
              "Medio      20.130425\n",
              "Pequeno    14.921429\n",
              "Name: MEDV, dtype: float64"
            ]
          },
          "metadata": {
            "tags": []
          },
          "execution_count": 17
        }
      ]
    },
    {
      "cell_type": "code",
      "metadata": {
        "id": "wJHkQXozHcYN"
      },
      "source": [
        "# criando o dicionario com chaves medio, grande e pequeno e seus valores\n",
        "dic_baseline = {'Grande': medias_categorias[0], 'Medio': medias_categorias[1], 'Pequeno': medias_categorias[2]}"
      ],
      "execution_count": null,
      "outputs": []
    },
    {
      "cell_type": "code",
      "metadata": {
        "id": "AMrYkM_T7eqS",
        "colab": {
          "base_uri": "https://localhost:8080/",
          "height": 68
        },
        "outputId": "ff92b120-1ee6-495f-c603-5b6edbf84080"
      },
      "source": [
        "# imprime dicionario\n",
        "dic_baseline"
      ],
      "execution_count": null,
      "outputs": [
        {
          "output_type": "execute_result",
          "data": {
            "text/plain": [
              "{'Grande': 35.71923076923077,\n",
              " 'Medio': 20.1304245283019,\n",
              " 'Pequeno': 14.921428571428574}"
            ]
          },
          "metadata": {
            "tags": []
          },
          "execution_count": 19
        }
      ]
    },
    {
      "cell_type": "code",
      "metadata": {
        "id": "7lfDPAmL8kjX"
      },
      "source": [
        "# cria a função retorna baseline\n",
        "def retorna_baseline(num_quartos):\n",
        "  if num_quartos <= 4:\n",
        "    return dic_baseline.get('Pequeno')\n",
        "  elif num_quartos < 7:\n",
        "    return dic_baseline.get('Medio')\n",
        "  else:\n",
        "    return dic_baseline.get('Grande')"
      ],
      "execution_count": null,
      "outputs": []
    },
    {
      "cell_type": "code",
      "metadata": {
        "id": "um5I8oQ2Arhe",
        "colab": {
          "base_uri": "https://localhost:8080/",
          "height": 34
        },
        "outputId": "74f04cb0-5cb3-4c9b-9ea5-795a015e57d1"
      },
      "source": [
        "# chama a função retorna baseline\n",
        "retorna_baseline(7)"
      ],
      "execution_count": null,
      "outputs": [
        {
          "output_type": "execute_result",
          "data": {
            "text/plain": [
              "35.71923076923077"
            ]
          },
          "metadata": {
            "tags": []
          },
          "execution_count": 21
        }
      ]
    },
    {
      "cell_type": "code",
      "metadata": {
        "id": "785EhcLuCoqw",
        "colab": {
          "base_uri": "https://localhost:8080/",
          "height": 1000
        },
        "outputId": "457415cd-1181-4c8d-fa23-65bc6ad12790"
      },
      "source": [
        "for i in data.RM.iteritems():\n",
        "  n_quartos = i[1]\n",
        "  print('Número de quartos é: {} , Valor médio: {}'.format(n_quartos,retorna_baseline(n_quartos)))"
      ],
      "execution_count": null,
      "outputs": [
        {
          "output_type": "stream",
          "text": [
            "Número de quartos é: 6 , Valor médio: 20.1304245283019\n",
            "Número de quartos é: 6 , Valor médio: 20.1304245283019\n",
            "Número de quartos é: 7 , Valor médio: 35.71923076923077\n",
            "Número de quartos é: 6 , Valor médio: 20.1304245283019\n",
            "Número de quartos é: 7 , Valor médio: 35.71923076923077\n",
            "Número de quartos é: 6 , Valor médio: 20.1304245283019\n",
            "Número de quartos é: 6 , Valor médio: 20.1304245283019\n",
            "Número de quartos é: 6 , Valor médio: 20.1304245283019\n",
            "Número de quartos é: 5 , Valor médio: 20.1304245283019\n",
            "Número de quartos é: 6 , Valor médio: 20.1304245283019\n",
            "Número de quartos é: 6 , Valor médio: 20.1304245283019\n",
            "Número de quartos é: 6 , Valor médio: 20.1304245283019\n",
            "Número de quartos é: 5 , Valor médio: 20.1304245283019\n",
            "Número de quartos é: 5 , Valor médio: 20.1304245283019\n",
            "Número de quartos é: 6 , Valor médio: 20.1304245283019\n",
            "Número de quartos é: 5 , Valor médio: 20.1304245283019\n",
            "Número de quartos é: 5 , Valor médio: 20.1304245283019\n",
            "Número de quartos é: 5 , Valor médio: 20.1304245283019\n",
            "Número de quartos é: 5 , Valor médio: 20.1304245283019\n",
            "Número de quartos é: 5 , Valor médio: 20.1304245283019\n",
            "Número de quartos é: 5 , Valor médio: 20.1304245283019\n",
            "Número de quartos é: 5 , Valor médio: 20.1304245283019\n",
            "Número de quartos é: 6 , Valor médio: 20.1304245283019\n",
            "Número de quartos é: 5 , Valor médio: 20.1304245283019\n",
            "Número de quartos é: 5 , Valor médio: 20.1304245283019\n",
            "Número de quartos é: 5 , Valor médio: 20.1304245283019\n",
            "Número de quartos é: 5 , Valor médio: 20.1304245283019\n",
            "Número de quartos é: 6 , Valor médio: 20.1304245283019\n",
            "Número de quartos é: 6 , Valor médio: 20.1304245283019\n",
            "Número de quartos é: 6 , Valor médio: 20.1304245283019\n",
            "Número de quartos é: 5 , Valor médio: 20.1304245283019\n",
            "Número de quartos é: 6 , Valor médio: 20.1304245283019\n",
            "Número de quartos é: 5 , Valor médio: 20.1304245283019\n",
            "Número de quartos é: 5 , Valor médio: 20.1304245283019\n",
            "Número de quartos é: 6 , Valor médio: 20.1304245283019\n",
            "Número de quartos é: 5 , Valor médio: 20.1304245283019\n",
            "Número de quartos é: 5 , Valor médio: 20.1304245283019\n",
            "Número de quartos é: 5 , Valor médio: 20.1304245283019\n",
            "Número de quartos é: 5 , Valor médio: 20.1304245283019\n",
            "Número de quartos é: 6 , Valor médio: 20.1304245283019\n",
            "Número de quartos é: 7 , Valor médio: 35.71923076923077\n",
            "Número de quartos é: 6 , Valor médio: 20.1304245283019\n",
            "Número de quartos é: 6 , Valor médio: 20.1304245283019\n",
            "Número de quartos é: 6 , Valor médio: 20.1304245283019\n",
            "Número de quartos é: 6 , Valor médio: 20.1304245283019\n",
            "Número de quartos é: 5 , Valor médio: 20.1304245283019\n",
            "Número de quartos é: 5 , Valor médio: 20.1304245283019\n",
            "Número de quartos é: 6 , Valor médio: 20.1304245283019\n",
            "Número de quartos é: 5 , Valor médio: 20.1304245283019\n",
            "Número de quartos é: 5 , Valor médio: 20.1304245283019\n",
            "Número de quartos é: 5 , Valor médio: 20.1304245283019\n",
            "Número de quartos é: 6 , Valor médio: 20.1304245283019\n",
            "Número de quartos é: 6 , Valor médio: 20.1304245283019\n",
            "Número de quartos é: 5 , Valor médio: 20.1304245283019\n",
            "Número de quartos é: 5 , Valor médio: 20.1304245283019\n",
            "Número de quartos é: 7 , Valor médio: 35.71923076923077\n",
            "Número de quartos é: 6 , Valor médio: 20.1304245283019\n",
            "Número de quartos é: 6 , Valor médio: 20.1304245283019\n",
            "Número de quartos é: 6 , Valor médio: 20.1304245283019\n",
            "Número de quartos é: 5 , Valor médio: 20.1304245283019\n",
            "Número de quartos é: 5 , Valor médio: 20.1304245283019\n",
            "Número de quartos é: 5 , Valor médio: 20.1304245283019\n",
            "Número de quartos é: 6 , Valor médio: 20.1304245283019\n",
            "Número de quartos é: 6 , Valor médio: 20.1304245283019\n",
            "Número de quartos é: 7 , Valor médio: 35.71923076923077\n",
            "Número de quartos é: 6 , Valor médio: 20.1304245283019\n",
            "Número de quartos é: 5 , Valor médio: 20.1304245283019\n",
            "Número de quartos é: 5 , Valor médio: 20.1304245283019\n",
            "Número de quartos é: 5 , Valor médio: 20.1304245283019\n",
            "Número de quartos é: 5 , Valor médio: 20.1304245283019\n",
            "Número de quartos é: 6 , Valor médio: 20.1304245283019\n",
            "Número de quartos é: 5 , Valor médio: 20.1304245283019\n",
            "Número de quartos é: 6 , Valor médio: 20.1304245283019\n",
            "Número de quartos é: 6 , Valor médio: 20.1304245283019\n",
            "Número de quartos é: 6 , Valor médio: 20.1304245283019\n",
            "Número de quartos é: 6 , Valor médio: 20.1304245283019\n",
            "Número de quartos é: 6 , Valor médio: 20.1304245283019\n",
            "Número de quartos é: 6 , Valor médio: 20.1304245283019\n",
            "Número de quartos é: 6 , Valor médio: 20.1304245283019\n",
            "Número de quartos é: 5 , Valor médio: 20.1304245283019\n",
            "Número de quartos é: 6 , Valor médio: 20.1304245283019\n",
            "Número de quartos é: 6 , Valor médio: 20.1304245283019\n",
            "Número de quartos é: 6 , Valor médio: 20.1304245283019\n",
            "Número de quartos é: 6 , Valor médio: 20.1304245283019\n",
            "Número de quartos é: 6 , Valor médio: 20.1304245283019\n",
            "Número de quartos é: 6 , Valor médio: 20.1304245283019\n",
            "Número de quartos é: 6 , Valor médio: 20.1304245283019\n",
            "Número de quartos é: 6 , Valor médio: 20.1304245283019\n",
            "Número de quartos é: 7 , Valor médio: 35.71923076923077\n",
            "Número de quartos é: 7 , Valor médio: 35.71923076923077\n",
            "Número de quartos é: 6 , Valor médio: 20.1304245283019\n",
            "Número de quartos é: 6 , Valor médio: 20.1304245283019\n",
            "Número de quartos é: 6 , Valor médio: 20.1304245283019\n",
            "Número de quartos é: 6 , Valor médio: 20.1304245283019\n",
            "Número de quartos é: 6 , Valor médio: 20.1304245283019\n",
            "Número de quartos é: 6 , Valor médio: 20.1304245283019\n",
            "Número de quartos é: 6 , Valor médio: 20.1304245283019\n",
            "Número de quartos é: 8 , Valor médio: 35.71923076923077\n",
            "Número de quartos é: 7 , Valor médio: 35.71923076923077\n",
            "Número de quartos é: 7 , Valor médio: 35.71923076923077\n",
            "Número de quartos é: 6 , Valor médio: 20.1304245283019\n",
            "Número de quartos é: 6 , Valor médio: 20.1304245283019\n",
            "Número de quartos é: 6 , Valor médio: 20.1304245283019\n",
            "Número de quartos é: 6 , Valor médio: 20.1304245283019\n",
            "Número de quartos é: 6 , Valor médio: 20.1304245283019\n",
            "Número de quartos é: 5 , Valor médio: 20.1304245283019\n",
            "Número de quartos é: 5 , Valor médio: 20.1304245283019\n",
            "Número de quartos é: 6 , Valor médio: 20.1304245283019\n",
            "Número de quartos é: 6 , Valor médio: 20.1304245283019\n",
            "Número de quartos é: 6 , Valor médio: 20.1304245283019\n",
            "Número de quartos é: 6 , Valor médio: 20.1304245283019\n",
            "Número de quartos é: 6 , Valor médio: 20.1304245283019\n",
            "Número de quartos é: 5 , Valor médio: 20.1304245283019\n",
            "Número de quartos é: 6 , Valor médio: 20.1304245283019\n",
            "Número de quartos é: 6 , Valor médio: 20.1304245283019\n",
            "Número de quartos é: 5 , Valor médio: 20.1304245283019\n",
            "Número de quartos é: 6 , Valor médio: 20.1304245283019\n",
            "Número de quartos é: 6 , Valor médio: 20.1304245283019\n",
            "Número de quartos é: 5 , Valor médio: 20.1304245283019\n",
            "Número de quartos é: 5 , Valor médio: 20.1304245283019\n",
            "Número de quartos é: 5 , Valor médio: 20.1304245283019\n",
            "Número de quartos é: 6 , Valor médio: 20.1304245283019\n",
            "Número de quartos é: 5 , Valor médio: 20.1304245283019\n",
            "Número de quartos é: 5 , Valor médio: 20.1304245283019\n",
            "Número de quartos é: 5 , Valor médio: 20.1304245283019\n",
            "Número de quartos é: 5 , Valor médio: 20.1304245283019\n",
            "Número de quartos é: 5 , Valor médio: 20.1304245283019\n",
            "Número de quartos é: 5 , Valor médio: 20.1304245283019\n",
            "Número de quartos é: 6 , Valor médio: 20.1304245283019\n",
            "Número de quartos é: 5 , Valor médio: 20.1304245283019\n",
            "Número de quartos é: 6 , Valor médio: 20.1304245283019\n",
            "Número de quartos é: 6 , Valor médio: 20.1304245283019\n",
            "Número de quartos é: 6 , Valor médio: 20.1304245283019\n",
            "Número de quartos é: 5 , Valor médio: 20.1304245283019\n",
            "Número de quartos é: 5 , Valor médio: 20.1304245283019\n",
            "Número de quartos é: 6 , Valor médio: 20.1304245283019\n",
            "Número de quartos é: 5 , Valor médio: 20.1304245283019\n",
            "Número de quartos é: 6 , Valor médio: 20.1304245283019\n",
            "Número de quartos é: 5 , Valor médio: 20.1304245283019\n",
            "Número de quartos é: 6 , Valor médio: 20.1304245283019\n",
            "Número de quartos é: 6 , Valor médio: 20.1304245283019\n",
            "Número de quartos é: 5 , Valor médio: 20.1304245283019\n",
            "Número de quartos é: 5 , Valor médio: 20.1304245283019\n",
            "Número de quartos é: 5 , Valor médio: 20.1304245283019\n",
            "Número de quartos é: 4 , Valor médio: 14.921428571428574\n",
            "Número de quartos é: 6 , Valor médio: 20.1304245283019\n",
            "Número de quartos é: 5 , Valor médio: 20.1304245283019\n",
            "Número de quartos é: 4 , Valor médio: 14.921428571428574\n",
            "Número de quartos é: 5 , Valor médio: 20.1304245283019\n",
            "Número de quartos é: 5 , Valor médio: 20.1304245283019\n",
            "Número de quartos é: 6 , Valor médio: 20.1304245283019\n",
            "Número de quartos é: 5 , Valor médio: 20.1304245283019\n",
            "Número de quartos é: 5 , Valor médio: 20.1304245283019\n",
            "Número de quartos é: 5 , Valor médio: 20.1304245283019\n",
            "Número de quartos é: 6 , Valor médio: 20.1304245283019\n",
            "Número de quartos é: 6 , Valor médio: 20.1304245283019\n",
            "Número de quartos é: 5 , Valor médio: 20.1304245283019\n",
            "Número de quartos é: 6 , Valor médio: 20.1304245283019\n",
            "Número de quartos é: 6 , Valor médio: 20.1304245283019\n",
            "Número de quartos é: 6 , Valor médio: 20.1304245283019\n",
            "Número de quartos é: 6 , Valor médio: 20.1304245283019\n",
            "Número de quartos é: 5 , Valor médio: 20.1304245283019\n",
            "Número de quartos é: 6 , Valor médio: 20.1304245283019\n",
            "Número de quartos é: 5 , Valor médio: 20.1304245283019\n",
            "Número de quartos é: 6 , Valor médio: 20.1304245283019\n",
            "Número de quartos é: 6 , Valor médio: 20.1304245283019\n",
            "Número de quartos é: 5 , Valor médio: 20.1304245283019\n",
            "Número de quartos é: 5 , Valor médio: 20.1304245283019\n",
            "Número de quartos é: 5 , Valor médio: 20.1304245283019\n",
            "Número de quartos é: 6 , Valor médio: 20.1304245283019\n",
            "Número de quartos é: 5 , Valor médio: 20.1304245283019\n",
            "Número de quartos é: 6 , Valor médio: 20.1304245283019\n",
            "Número de quartos é: 6 , Valor médio: 20.1304245283019\n",
            "Número de quartos é: 6 , Valor médio: 20.1304245283019\n",
            "Número de quartos é: 6 , Valor médio: 20.1304245283019\n",
            "Número de quartos é: 6 , Valor médio: 20.1304245283019\n",
            "Número de quartos é: 7 , Valor médio: 35.71923076923077\n",
            "Número de quartos é: 6 , Valor médio: 20.1304245283019\n",
            "Número de quartos é: 7 , Valor médio: 35.71923076923077\n",
            "Número de quartos é: 6 , Valor médio: 20.1304245283019\n",
            "Número de quartos é: 5 , Valor médio: 20.1304245283019\n",
            "Número de quartos é: 6 , Valor médio: 20.1304245283019\n",
            "Número de quartos é: 6 , Valor médio: 20.1304245283019\n",
            "Número de quartos é: 6 , Valor médio: 20.1304245283019\n",
            "Número de quartos é: 7 , Valor médio: 35.71923076923077\n",
            "Número de quartos é: 6 , Valor médio: 20.1304245283019\n",
            "Número de quartos é: 6 , Valor médio: 20.1304245283019\n",
            "Número de quartos é: 7 , Valor médio: 35.71923076923077\n",
            "Número de quartos é: 6 , Valor médio: 20.1304245283019\n",
            "Número de quartos é: 6 , Valor médio: 20.1304245283019\n",
            "Número de quartos é: 7 , Valor médio: 35.71923076923077\n",
            "Número de quartos é: 7 , Valor médio: 35.71923076923077\n",
            "Número de quartos é: 7 , Valor médio: 35.71923076923077\n",
            "Número de quartos é: 6 , Valor médio: 20.1304245283019\n",
            "Número de quartos é: 7 , Valor médio: 35.71923076923077\n",
            "Número de quartos é: 6 , Valor médio: 20.1304245283019\n",
            "Número de quartos é: 7 , Valor médio: 35.71923076923077\n",
            "Número de quartos é: 7 , Valor médio: 35.71923076923077\n",
            "Número de quartos é: 5 , Valor médio: 20.1304245283019\n",
            "Número de quartos é: 6 , Valor médio: 20.1304245283019\n",
            "Número de quartos é: 5 , Valor médio: 20.1304245283019\n",
            "Número de quartos é: 6 , Valor médio: 20.1304245283019\n",
            "Número de quartos é: 5 , Valor médio: 20.1304245283019\n",
            "Número de quartos é: 5 , Valor médio: 20.1304245283019\n",
            "Número de quartos é: 5 , Valor médio: 20.1304245283019\n",
            "Número de quartos é: 5 , Valor médio: 20.1304245283019\n",
            "Número de quartos é: 6 , Valor médio: 20.1304245283019\n",
            "Número de quartos é: 5 , Valor médio: 20.1304245283019\n",
            "Número de quartos é: 6 , Valor médio: 20.1304245283019\n",
            "Número de quartos é: 5 , Valor médio: 20.1304245283019\n",
            "Número de quartos é: 6 , Valor médio: 20.1304245283019\n",
            "Número de quartos é: 5 , Valor médio: 20.1304245283019\n",
            "Número de quartos é: 6 , Valor médio: 20.1304245283019\n",
            "Número de quartos é: 6 , Valor médio: 20.1304245283019\n",
            "Número de quartos é: 6 , Valor médio: 20.1304245283019\n",
            "Número de quartos é: 6 , Valor médio: 20.1304245283019\n",
            "Número de quartos é: 6 , Valor médio: 20.1304245283019\n",
            "Número de quartos é: 8 , Valor médio: 35.71923076923077\n",
            "Número de quartos é: 8 , Valor médio: 35.71923076923077\n",
            "Número de quartos é: 7 , Valor médio: 35.71923076923077\n",
            "Número de quartos é: 7 , Valor médio: 35.71923076923077\n",
            "Número de quartos é: 6 , Valor médio: 20.1304245283019\n",
            "Número de quartos é: 5 , Valor médio: 20.1304245283019\n",
            "Número de quartos é: 7 , Valor médio: 35.71923076923077\n",
            "Número de quartos é: 8 , Valor médio: 35.71923076923077\n",
            "Número de quartos é: 8 , Valor médio: 35.71923076923077\n",
            "Número de quartos é: 6 , Valor médio: 20.1304245283019\n",
            "Número de quartos é: 6 , Valor médio: 20.1304245283019\n",
            "Número de quartos é: 6 , Valor médio: 20.1304245283019\n",
            "Número de quartos é: 7 , Valor médio: 35.71923076923077\n",
            "Número de quartos é: 6 , Valor médio: 20.1304245283019\n",
            "Número de quartos é: 6 , Valor médio: 20.1304245283019\n",
            "Número de quartos é: 6 , Valor médio: 20.1304245283019\n",
            "Número de quartos é: 6 , Valor médio: 20.1304245283019\n",
            "Número de quartos é: 6 , Valor médio: 20.1304245283019\n",
            "Número de quartos é: 6 , Valor médio: 20.1304245283019\n",
            "Número de quartos é: 5 , Valor médio: 20.1304245283019\n",
            "Número de quartos é: 5 , Valor médio: 20.1304245283019\n",
            "Número de quartos é: 6 , Valor médio: 20.1304245283019\n",
            "Número de quartos é: 6 , Valor médio: 20.1304245283019\n",
            "Número de quartos é: 6 , Valor médio: 20.1304245283019\n",
            "Número de quartos é: 6 , Valor médio: 20.1304245283019\n",
            "Número de quartos é: 6 , Valor médio: 20.1304245283019\n",
            "Número de quartos é: 6 , Valor médio: 20.1304245283019\n",
            "Número de quartos é: 6 , Valor médio: 20.1304245283019\n",
            "Número de quartos é: 8 , Valor médio: 35.71923076923077\n",
            "Número de quartos é: 6 , Valor médio: 20.1304245283019\n",
            "Número de quartos é: 5 , Valor médio: 20.1304245283019\n",
            "Número de quartos é: 7 , Valor médio: 35.71923076923077\n",
            "Número de quartos é: 7 , Valor médio: 35.71923076923077\n",
            "Número de quartos é: 6 , Valor médio: 20.1304245283019\n",
            "Número de quartos é: 7 , Valor médio: 35.71923076923077\n",
            "Número de quartos é: 7 , Valor médio: 35.71923076923077\n",
            "Número de quartos é: 8 , Valor médio: 35.71923076923077\n",
            "Número de quartos é: 7 , Valor médio: 35.71923076923077\n",
            "Número de quartos é: 7 , Valor médio: 35.71923076923077\n",
            "Número de quartos é: 5 , Valor médio: 20.1304245283019\n",
            "Número de quartos é: 7 , Valor médio: 35.71923076923077\n",
            "Número de quartos é: 7 , Valor médio: 35.71923076923077\n",
            "Número de quartos é: 5 , Valor médio: 20.1304245283019\n",
            "Número de quartos é: 5 , Valor médio: 20.1304245283019\n",
            "Número de quartos é: 6 , Valor médio: 20.1304245283019\n",
            "Número de quartos é: 6 , Valor médio: 20.1304245283019\n",
            "Número de quartos é: 7 , Valor médio: 35.71923076923077\n",
            "Número de quartos é: 6 , Valor médio: 20.1304245283019\n",
            "Número de quartos é: 6 , Valor médio: 20.1304245283019\n",
            "Número de quartos é: 7 , Valor médio: 35.71923076923077\n",
            "Número de quartos é: 6 , Valor médio: 20.1304245283019\n",
            "Número de quartos é: 6 , Valor médio: 20.1304245283019\n",
            "Número de quartos é: 6 , Valor médio: 20.1304245283019\n",
            "Número de quartos é: 7 , Valor médio: 35.71923076923077\n",
            "Número de quartos é: 6 , Valor médio: 20.1304245283019\n",
            "Número de quartos é: 7 , Valor médio: 35.71923076923077\n",
            "Número de quartos é: 7 , Valor médio: 35.71923076923077\n",
            "Número de quartos é: 6 , Valor médio: 20.1304245283019\n",
            "Número de quartos é: 6 , Valor médio: 20.1304245283019\n",
            "Número de quartos é: 6 , Valor médio: 20.1304245283019\n",
            "Número de quartos é: 6 , Valor médio: 20.1304245283019\n",
            "Número de quartos é: 6 , Valor médio: 20.1304245283019\n",
            "Número de quartos é: 6 , Valor médio: 20.1304245283019\n",
            "Número de quartos é: 7 , Valor médio: 35.71923076923077\n",
            "Número de quartos é: 6 , Valor médio: 20.1304245283019\n",
            "Número de quartos é: 6 , Valor médio: 20.1304245283019\n",
            "Número de quartos é: 6 , Valor médio: 20.1304245283019\n",
            "Número de quartos é: 6 , Valor médio: 20.1304245283019\n",
            "Número de quartos é: 6 , Valor médio: 20.1304245283019\n",
            "Número de quartos é: 5 , Valor médio: 20.1304245283019\n",
            "Número de quartos é: 6 , Valor médio: 20.1304245283019\n",
            "Número de quartos é: 7 , Valor médio: 35.71923076923077\n",
            "Número de quartos é: 6 , Valor médio: 20.1304245283019\n",
            "Número de quartos é: 6 , Valor médio: 20.1304245283019\n",
            "Número de quartos é: 6 , Valor médio: 20.1304245283019\n",
            "Número de quartos é: 6 , Valor médio: 20.1304245283019\n",
            "Número de quartos é: 7 , Valor médio: 35.71923076923077\n",
            "Número de quartos é: 6 , Valor médio: 20.1304245283019\n",
            "Número de quartos é: 7 , Valor médio: 35.71923076923077\n",
            "Número de quartos é: 6 , Valor médio: 20.1304245283019\n",
            "Número de quartos é: 6 , Valor médio: 20.1304245283019\n",
            "Número de quartos é: 5 , Valor médio: 20.1304245283019\n",
            "Número de quartos é: 4 , Valor médio: 14.921428571428574\n",
            "Número de quartos é: 6 , Valor médio: 20.1304245283019\n",
            "Número de quartos é: 6 , Valor médio: 20.1304245283019\n",
            "Número de quartos é: 6 , Valor médio: 20.1304245283019\n",
            "Número de quartos é: 6 , Valor médio: 20.1304245283019\n",
            "Número de quartos é: 5 , Valor médio: 20.1304245283019\n",
            "Número de quartos é: 5 , Valor médio: 20.1304245283019\n",
            "Número de quartos é: 5 , Valor médio: 20.1304245283019\n",
            "Número de quartos é: 6 , Valor médio: 20.1304245283019\n",
            "Número de quartos é: 6 , Valor médio: 20.1304245283019\n",
            "Número de quartos é: 6 , Valor médio: 20.1304245283019\n",
            "Número de quartos é: 6 , Valor médio: 20.1304245283019\n",
            "Número de quartos é: 6 , Valor médio: 20.1304245283019\n",
            "Número de quartos é: 5 , Valor médio: 20.1304245283019\n",
            "Número de quartos é: 6 , Valor médio: 20.1304245283019\n",
            "Número de quartos é: 6 , Valor médio: 20.1304245283019\n",
            "Número de quartos é: 6 , Valor médio: 20.1304245283019\n",
            "Número de quartos é: 6 , Valor médio: 20.1304245283019\n",
            "Número de quartos é: 5 , Valor médio: 20.1304245283019\n",
            "Número de quartos é: 6 , Valor médio: 20.1304245283019\n",
            "Número de quartos é: 6 , Valor médio: 20.1304245283019\n",
            "Número de quartos é: 5 , Valor médio: 20.1304245283019\n",
            "Número de quartos é: 6 , Valor médio: 20.1304245283019\n",
            "Número de quartos é: 6 , Valor médio: 20.1304245283019\n",
            "Número de quartos é: 6 , Valor médio: 20.1304245283019\n",
            "Número de quartos é: 6 , Valor médio: 20.1304245283019\n",
            "Número de quartos é: 5 , Valor médio: 20.1304245283019\n",
            "Número de quartos é: 5 , Valor médio: 20.1304245283019\n",
            "Número de quartos é: 6 , Valor médio: 20.1304245283019\n",
            "Número de quartos é: 5 , Valor médio: 20.1304245283019\n",
            "Número de quartos é: 5 , Valor médio: 20.1304245283019\n",
            "Número de quartos é: 7 , Valor médio: 35.71923076923077\n",
            "Número de quartos é: 6 , Valor médio: 20.1304245283019\n",
            "Número de quartos é: 6 , Valor médio: 20.1304245283019\n",
            "Número de quartos é: 6 , Valor médio: 20.1304245283019\n",
            "Número de quartos é: 6 , Valor médio: 20.1304245283019\n",
            "Número de quartos é: 5 , Valor médio: 20.1304245283019\n",
            "Número de quartos é: 6 , Valor médio: 20.1304245283019\n",
            "Número de quartos é: 6 , Valor médio: 20.1304245283019\n",
            "Número de quartos é: 6 , Valor médio: 20.1304245283019\n",
            "Número de quartos é: 6 , Valor médio: 20.1304245283019\n",
            "Número de quartos é: 6 , Valor médio: 20.1304245283019\n",
            "Número de quartos é: 5 , Valor médio: 20.1304245283019\n",
            "Número de quartos é: 6 , Valor médio: 20.1304245283019\n",
            "Número de quartos é: 5 , Valor médio: 20.1304245283019\n",
            "Número de quartos é: 5 , Valor médio: 20.1304245283019\n",
            "Número de quartos é: 6 , Valor médio: 20.1304245283019\n",
            "Número de quartos é: 6 , Valor médio: 20.1304245283019\n",
            "Número de quartos é: 6 , Valor médio: 20.1304245283019\n",
            "Número de quartos é: 6 , Valor médio: 20.1304245283019\n",
            "Número de quartos é: 6 , Valor médio: 20.1304245283019\n",
            "Número de quartos é: 6 , Valor médio: 20.1304245283019\n",
            "Número de quartos é: 5 , Valor médio: 20.1304245283019\n",
            "Número de quartos é: 5 , Valor médio: 20.1304245283019\n",
            "Número de quartos é: 8 , Valor médio: 35.71923076923077\n",
            "Número de quartos é: 3 , Valor médio: 14.921428571428574\n",
            "Número de quartos é: 4 , Valor médio: 14.921428571428574\n",
            "Número de quartos é: 3 , Valor médio: 14.921428571428574\n",
            "Número de quartos é: 4 , Valor médio: 14.921428571428574\n",
            "Número de quartos é: 4 , Valor médio: 14.921428571428574\n",
            "Número de quartos é: 7 , Valor médio: 35.71923076923077\n",
            "Número de quartos é: 6 , Valor médio: 20.1304245283019\n",
            "Número de quartos é: 6 , Valor médio: 20.1304245283019\n",
            "Número de quartos é: 6 , Valor médio: 20.1304245283019\n",
            "Número de quartos é: 6 , Valor médio: 20.1304245283019\n",
            "Número de quartos é: 6 , Valor médio: 20.1304245283019\n",
            "Número de quartos é: 6 , Valor médio: 20.1304245283019\n",
            "Número de quartos é: 5 , Valor médio: 20.1304245283019\n",
            "Número de quartos é: 5 , Valor médio: 20.1304245283019\n",
            "Número de quartos é: 4 , Valor médio: 14.921428571428574\n",
            "Número de quartos é: 5 , Valor médio: 20.1304245283019\n",
            "Número de quartos é: 4 , Valor médio: 14.921428571428574\n",
            "Número de quartos é: 5 , Valor médio: 20.1304245283019\n",
            "Número de quartos é: 4 , Valor médio: 14.921428571428574\n",
            "Número de quartos é: 5 , Valor médio: 20.1304245283019\n",
            "Número de quartos é: 5 , Valor médio: 20.1304245283019\n",
            "Número de quartos é: 6 , Valor médio: 20.1304245283019\n",
            "Número de quartos é: 5 , Valor médio: 20.1304245283019\n",
            "Número de quartos é: 6 , Valor médio: 20.1304245283019\n",
            "Número de quartos é: 5 , Valor médio: 20.1304245283019\n",
            "Número de quartos é: 6 , Valor médio: 20.1304245283019\n",
            "Número de quartos é: 6 , Valor médio: 20.1304245283019\n",
            "Número de quartos é: 5 , Valor médio: 20.1304245283019\n",
            "Número de quartos é: 5 , Valor médio: 20.1304245283019\n",
            "Número de quartos é: 5 , Valor médio: 20.1304245283019\n",
            "Número de quartos é: 5 , Valor médio: 20.1304245283019\n",
            "Número de quartos é: 6 , Valor médio: 20.1304245283019\n",
            "Número de quartos é: 6 , Valor médio: 20.1304245283019\n",
            "Número de quartos é: 5 , Valor médio: 20.1304245283019\n",
            "Número de quartos é: 5 , Valor médio: 20.1304245283019\n",
            "Número de quartos é: 5 , Valor médio: 20.1304245283019\n",
            "Número de quartos é: 4 , Valor médio: 14.921428571428574\n",
            "Número de quartos é: 5 , Valor médio: 20.1304245283019\n",
            "Número de quartos é: 5 , Valor médio: 20.1304245283019\n",
            "Número de quartos é: 6 , Valor médio: 20.1304245283019\n",
            "Número de quartos é: 5 , Valor médio: 20.1304245283019\n",
            "Número de quartos é: 6 , Valor médio: 20.1304245283019\n",
            "Número de quartos é: 4 , Valor médio: 14.921428571428574\n",
            "Número de quartos é: 5 , Valor médio: 20.1304245283019\n",
            "Número de quartos é: 4 , Valor médio: 14.921428571428574\n",
            "Número de quartos é: 6 , Valor médio: 20.1304245283019\n",
            "Número de quartos é: 6 , Valor médio: 20.1304245283019\n",
            "Número de quartos é: 5 , Valor médio: 20.1304245283019\n",
            "Número de quartos é: 5 , Valor médio: 20.1304245283019\n",
            "Número de quartos é: 6 , Valor médio: 20.1304245283019\n",
            "Número de quartos é: 6 , Valor médio: 20.1304245283019\n",
            "Número de quartos é: 6 , Valor médio: 20.1304245283019\n",
            "Número de quartos é: 5 , Valor médio: 20.1304245283019\n",
            "Número de quartos é: 6 , Valor médio: 20.1304245283019\n",
            "Número de quartos é: 5 , Valor médio: 20.1304245283019\n",
            "Número de quartos é: 5 , Valor médio: 20.1304245283019\n",
            "Número de quartos é: 5 , Valor médio: 20.1304245283019\n",
            "Número de quartos é: 6 , Valor médio: 20.1304245283019\n",
            "Número de quartos é: 6 , Valor médio: 20.1304245283019\n",
            "Número de quartos é: 6 , Valor médio: 20.1304245283019\n",
            "Número de quartos é: 6 , Valor médio: 20.1304245283019\n",
            "Número de quartos é: 6 , Valor médio: 20.1304245283019\n",
            "Número de quartos é: 6 , Valor médio: 20.1304245283019\n",
            "Número de quartos é: 6 , Valor médio: 20.1304245283019\n",
            "Número de quartos é: 6 , Valor médio: 20.1304245283019\n",
            "Número de quartos é: 6 , Valor médio: 20.1304245283019\n",
            "Número de quartos é: 6 , Valor médio: 20.1304245283019\n",
            "Número de quartos é: 6 , Valor médio: 20.1304245283019\n",
            "Número de quartos é: 5 , Valor médio: 20.1304245283019\n",
            "Número de quartos é: 5 , Valor médio: 20.1304245283019\n",
            "Número de quartos é: 5 , Valor médio: 20.1304245283019\n",
            "Número de quartos é: 6 , Valor médio: 20.1304245283019\n",
            "Número de quartos é: 6 , Valor médio: 20.1304245283019\n",
            "Número de quartos é: 6 , Valor médio: 20.1304245283019\n",
            "Número de quartos é: 5 , Valor médio: 20.1304245283019\n",
            "Número de quartos é: 6 , Valor médio: 20.1304245283019\n",
            "Número de quartos é: 6 , Valor médio: 20.1304245283019\n",
            "Número de quartos é: 6 , Valor médio: 20.1304245283019\n",
            "Número de quartos é: 6 , Valor médio: 20.1304245283019\n",
            "Número de quartos é: 6 , Valor médio: 20.1304245283019\n",
            "Número de quartos é: 6 , Valor médio: 20.1304245283019\n",
            "Número de quartos é: 6 , Valor médio: 20.1304245283019\n",
            "Número de quartos é: 6 , Valor médio: 20.1304245283019\n",
            "Número de quartos é: 7 , Valor médio: 35.71923076923077\n",
            "Número de quartos é: 6 , Valor médio: 20.1304245283019\n",
            "Número de quartos é: 6 , Valor médio: 20.1304245283019\n",
            "Número de quartos é: 5 , Valor médio: 20.1304245283019\n",
            "Número de quartos é: 5 , Valor médio: 20.1304245283019\n",
            "Número de quartos é: 6 , Valor médio: 20.1304245283019\n",
            "Número de quartos é: 6 , Valor médio: 20.1304245283019\n",
            "Número de quartos é: 6 , Valor médio: 20.1304245283019\n",
            "Número de quartos é: 6 , Valor médio: 20.1304245283019\n",
            "Número de quartos é: 6 , Valor médio: 20.1304245283019\n",
            "Número de quartos é: 6 , Valor médio: 20.1304245283019\n",
            "Número de quartos é: 6 , Valor médio: 20.1304245283019\n",
            "Número de quartos é: 5 , Valor médio: 20.1304245283019\n",
            "Número de quartos é: 5 , Valor médio: 20.1304245283019\n",
            "Número de quartos é: 6 , Valor médio: 20.1304245283019\n",
            "Número de quartos é: 5 , Valor médio: 20.1304245283019\n",
            "Número de quartos é: 5 , Valor médio: 20.1304245283019\n",
            "Número de quartos é: 6 , Valor médio: 20.1304245283019\n",
            "Número de quartos é: 6 , Valor médio: 20.1304245283019\n",
            "Número de quartos é: 6 , Valor médio: 20.1304245283019\n",
            "Número de quartos é: 6 , Valor médio: 20.1304245283019\n",
            "Número de quartos é: 5 , Valor médio: 20.1304245283019\n",
            "Número de quartos é: 6 , Valor médio: 20.1304245283019\n",
            "Número de quartos é: 6 , Valor médio: 20.1304245283019\n",
            "Número de quartos é: 5 , Valor médio: 20.1304245283019\n",
            "Número de quartos é: 6 , Valor médio: 20.1304245283019\n",
            "Número de quartos é: 6 , Valor médio: 20.1304245283019\n",
            "Número de quartos é: 6 , Valor médio: 20.1304245283019\n",
            "Número de quartos é: 6 , Valor médio: 20.1304245283019\n",
            "Número de quartos é: 7 , Valor médio: 35.71923076923077\n",
            "Número de quartos é: 5 , Valor médio: 20.1304245283019\n",
            "Número de quartos é: 5 , Valor médio: 20.1304245283019\n",
            "Número de quartos é: 6 , Valor médio: 20.1304245283019\n",
            "Número de quartos é: 6 , Valor médio: 20.1304245283019\n",
            "Número de quartos é: 5 , Valor médio: 20.1304245283019\n",
            "Número de quartos é: 5 , Valor médio: 20.1304245283019\n",
            "Número de quartos é: 5 , Valor médio: 20.1304245283019\n",
            "Número de quartos é: 5 , Valor médio: 20.1304245283019\n",
            "Número de quartos é: 5 , Valor médio: 20.1304245283019\n",
            "Número de quartos é: 5 , Valor médio: 20.1304245283019\n",
            "Número de quartos é: 5 , Valor médio: 20.1304245283019\n",
            "Número de quartos é: 5 , Valor médio: 20.1304245283019\n",
            "Número de quartos é: 5 , Valor médio: 20.1304245283019\n",
            "Número de quartos é: 5 , Valor médio: 20.1304245283019\n",
            "Número de quartos é: 5 , Valor médio: 20.1304245283019\n",
            "Número de quartos é: 6 , Valor médio: 20.1304245283019\n",
            "Número de quartos é: 5 , Valor médio: 20.1304245283019\n",
            "Número de quartos é: 6 , Valor médio: 20.1304245283019\n",
            "Número de quartos é: 6 , Valor médio: 20.1304245283019\n",
            "Número de quartos é: 6 , Valor médio: 20.1304245283019\n",
            "Número de quartos é: 6 , Valor médio: 20.1304245283019\n",
            "Número de quartos é: 6 , Valor médio: 20.1304245283019\n",
            "Número de quartos é: 6 , Valor médio: 20.1304245283019\n"
          ],
          "name": "stdout"
        }
      ]
    },
    {
      "cell_type": "code",
      "metadata": {
        "id": "7Is3KDjcXzBG",
        "colab": {
          "base_uri": "https://localhost:8080/",
          "height": 204
        },
        "outputId": "efec5adb-1622-43bd-a9dc-6241de921647"
      },
      "source": [
        "# imprime as 5 primeiras linhas do dataframe\n",
        "data.head()"
      ],
      "execution_count": null,
      "outputs": [
        {
          "output_type": "execute_result",
          "data": {
            "text/html": [
              "<div>\n",
              "<style scoped>\n",
              "    .dataframe tbody tr th:only-of-type {\n",
              "        vertical-align: middle;\n",
              "    }\n",
              "\n",
              "    .dataframe tbody tr th {\n",
              "        vertical-align: top;\n",
              "    }\n",
              "\n",
              "    .dataframe thead th {\n",
              "        text-align: right;\n",
              "    }\n",
              "</style>\n",
              "<table border=\"1\" class=\"dataframe\">\n",
              "  <thead>\n",
              "    <tr style=\"text-align: right;\">\n",
              "      <th></th>\n",
              "      <th>CRIM</th>\n",
              "      <th>ZN</th>\n",
              "      <th>INDUS</th>\n",
              "      <th>CHAS</th>\n",
              "      <th>NOX</th>\n",
              "      <th>RM</th>\n",
              "      <th>AGE</th>\n",
              "      <th>DIS</th>\n",
              "      <th>RAD</th>\n",
              "      <th>TAX</th>\n",
              "      <th>PTRATIO</th>\n",
              "      <th>B</th>\n",
              "      <th>LSTAT</th>\n",
              "      <th>MEDV</th>\n",
              "      <th>categorias</th>\n",
              "    </tr>\n",
              "  </thead>\n",
              "  <tbody>\n",
              "    <tr>\n",
              "      <th>0</th>\n",
              "      <td>0.00632</td>\n",
              "      <td>18.0</td>\n",
              "      <td>2.31</td>\n",
              "      <td>0.0</td>\n",
              "      <td>0.538</td>\n",
              "      <td>6</td>\n",
              "      <td>65.2</td>\n",
              "      <td>4.0900</td>\n",
              "      <td>1.0</td>\n",
              "      <td>296.0</td>\n",
              "      <td>15.3</td>\n",
              "      <td>396.90</td>\n",
              "      <td>4.98</td>\n",
              "      <td>24.0</td>\n",
              "      <td>Medio</td>\n",
              "    </tr>\n",
              "    <tr>\n",
              "      <th>1</th>\n",
              "      <td>0.02731</td>\n",
              "      <td>0.0</td>\n",
              "      <td>7.07</td>\n",
              "      <td>0.0</td>\n",
              "      <td>0.469</td>\n",
              "      <td>6</td>\n",
              "      <td>78.9</td>\n",
              "      <td>4.9671</td>\n",
              "      <td>2.0</td>\n",
              "      <td>242.0</td>\n",
              "      <td>17.8</td>\n",
              "      <td>396.90</td>\n",
              "      <td>9.14</td>\n",
              "      <td>21.6</td>\n",
              "      <td>Medio</td>\n",
              "    </tr>\n",
              "    <tr>\n",
              "      <th>2</th>\n",
              "      <td>0.02729</td>\n",
              "      <td>0.0</td>\n",
              "      <td>7.07</td>\n",
              "      <td>0.0</td>\n",
              "      <td>0.469</td>\n",
              "      <td>7</td>\n",
              "      <td>61.1</td>\n",
              "      <td>4.9671</td>\n",
              "      <td>2.0</td>\n",
              "      <td>242.0</td>\n",
              "      <td>17.8</td>\n",
              "      <td>392.83</td>\n",
              "      <td>4.03</td>\n",
              "      <td>34.7</td>\n",
              "      <td>Grande</td>\n",
              "    </tr>\n",
              "    <tr>\n",
              "      <th>3</th>\n",
              "      <td>0.03237</td>\n",
              "      <td>0.0</td>\n",
              "      <td>2.18</td>\n",
              "      <td>0.0</td>\n",
              "      <td>0.458</td>\n",
              "      <td>6</td>\n",
              "      <td>45.8</td>\n",
              "      <td>6.0622</td>\n",
              "      <td>3.0</td>\n",
              "      <td>222.0</td>\n",
              "      <td>18.7</td>\n",
              "      <td>394.63</td>\n",
              "      <td>2.94</td>\n",
              "      <td>33.4</td>\n",
              "      <td>Medio</td>\n",
              "    </tr>\n",
              "    <tr>\n",
              "      <th>4</th>\n",
              "      <td>0.06905</td>\n",
              "      <td>0.0</td>\n",
              "      <td>2.18</td>\n",
              "      <td>0.0</td>\n",
              "      <td>0.458</td>\n",
              "      <td>7</td>\n",
              "      <td>54.2</td>\n",
              "      <td>6.0622</td>\n",
              "      <td>3.0</td>\n",
              "      <td>222.0</td>\n",
              "      <td>18.7</td>\n",
              "      <td>396.90</td>\n",
              "      <td>5.33</td>\n",
              "      <td>36.2</td>\n",
              "      <td>Grande</td>\n",
              "    </tr>\n",
              "  </tbody>\n",
              "</table>\n",
              "</div>"
            ],
            "text/plain": [
              "      CRIM    ZN  INDUS  CHAS    NOX  ...  PTRATIO       B  LSTAT  MEDV  categorias\n",
              "0  0.00632  18.0   2.31   0.0  0.538  ...     15.3  396.90   4.98  24.0       Medio\n",
              "1  0.02731   0.0   7.07   0.0  0.469  ...     17.8  396.90   9.14  21.6       Medio\n",
              "2  0.02729   0.0   7.07   0.0  0.469  ...     17.8  392.83   4.03  34.7      Grande\n",
              "3  0.03237   0.0   2.18   0.0  0.458  ...     18.7  394.63   2.94  33.4       Medio\n",
              "4  0.06905   0.0   2.18   0.0  0.458  ...     18.7  396.90   5.33  36.2      Grande\n",
              "\n",
              "[5 rows x 15 columns]"
            ]
          },
          "metadata": {
            "tags": []
          },
          "execution_count": 23
        }
      ]
    },
    {
      "cell_type": "markdown",
      "metadata": {
        "id": "SaYmsVtotcF_"
      },
      "source": [
        "### Trabalhando com a baseline"
      ]
    },
    {
      "cell_type": "markdown",
      "metadata": {
        "id": "SXXetS7AHiXz"
      },
      "source": [
        "Preparando os dados"
      ]
    },
    {
      "cell_type": "code",
      "metadata": {
        "id": "Ai2si0SMFKVX"
      },
      "source": [
        "# remove as colunas colineares, variavel alvo e a coluna categorias\n",
        "X = data.drop(['RAD','TAX','MEDV','DIS','AGE','ZN','categorias'], axis=1)"
      ],
      "execution_count": null,
      "outputs": []
    },
    {
      "cell_type": "code",
      "metadata": {
        "id": "vxOb-hwYFFJx"
      },
      "source": [
        "# variável 'y' é nossa variável alvo\n",
        "y = data['MEDV']"
      ],
      "execution_count": null,
      "outputs": []
    },
    {
      "cell_type": "code",
      "metadata": {
        "id": "EhagncsDLyk-",
        "colab": {
          "base_uri": "https://localhost:8080/",
          "height": 204
        },
        "outputId": "448ee333-5155-4378-a972-4a6987546d71"
      },
      "source": [
        "# Dados na variável X\n",
        "X.head()"
      ],
      "execution_count": null,
      "outputs": [
        {
          "output_type": "execute_result",
          "data": {
            "text/html": [
              "<div>\n",
              "<style scoped>\n",
              "    .dataframe tbody tr th:only-of-type {\n",
              "        vertical-align: middle;\n",
              "    }\n",
              "\n",
              "    .dataframe tbody tr th {\n",
              "        vertical-align: top;\n",
              "    }\n",
              "\n",
              "    .dataframe thead th {\n",
              "        text-align: right;\n",
              "    }\n",
              "</style>\n",
              "<table border=\"1\" class=\"dataframe\">\n",
              "  <thead>\n",
              "    <tr style=\"text-align: right;\">\n",
              "      <th></th>\n",
              "      <th>CRIM</th>\n",
              "      <th>INDUS</th>\n",
              "      <th>CHAS</th>\n",
              "      <th>NOX</th>\n",
              "      <th>RM</th>\n",
              "      <th>PTRATIO</th>\n",
              "      <th>B</th>\n",
              "      <th>LSTAT</th>\n",
              "    </tr>\n",
              "  </thead>\n",
              "  <tbody>\n",
              "    <tr>\n",
              "      <th>0</th>\n",
              "      <td>0.00632</td>\n",
              "      <td>2.31</td>\n",
              "      <td>0.0</td>\n",
              "      <td>0.538</td>\n",
              "      <td>6</td>\n",
              "      <td>15.3</td>\n",
              "      <td>396.90</td>\n",
              "      <td>4.98</td>\n",
              "    </tr>\n",
              "    <tr>\n",
              "      <th>1</th>\n",
              "      <td>0.02731</td>\n",
              "      <td>7.07</td>\n",
              "      <td>0.0</td>\n",
              "      <td>0.469</td>\n",
              "      <td>6</td>\n",
              "      <td>17.8</td>\n",
              "      <td>396.90</td>\n",
              "      <td>9.14</td>\n",
              "    </tr>\n",
              "    <tr>\n",
              "      <th>2</th>\n",
              "      <td>0.02729</td>\n",
              "      <td>7.07</td>\n",
              "      <td>0.0</td>\n",
              "      <td>0.469</td>\n",
              "      <td>7</td>\n",
              "      <td>17.8</td>\n",
              "      <td>392.83</td>\n",
              "      <td>4.03</td>\n",
              "    </tr>\n",
              "    <tr>\n",
              "      <th>3</th>\n",
              "      <td>0.03237</td>\n",
              "      <td>2.18</td>\n",
              "      <td>0.0</td>\n",
              "      <td>0.458</td>\n",
              "      <td>6</td>\n",
              "      <td>18.7</td>\n",
              "      <td>394.63</td>\n",
              "      <td>2.94</td>\n",
              "    </tr>\n",
              "    <tr>\n",
              "      <th>4</th>\n",
              "      <td>0.06905</td>\n",
              "      <td>2.18</td>\n",
              "      <td>0.0</td>\n",
              "      <td>0.458</td>\n",
              "      <td>7</td>\n",
              "      <td>18.7</td>\n",
              "      <td>396.90</td>\n",
              "      <td>5.33</td>\n",
              "    </tr>\n",
              "  </tbody>\n",
              "</table>\n",
              "</div>"
            ],
            "text/plain": [
              "      CRIM  INDUS  CHAS    NOX  RM  PTRATIO       B  LSTAT\n",
              "0  0.00632   2.31   0.0  0.538   6     15.3  396.90   4.98\n",
              "1  0.02731   7.07   0.0  0.469   6     17.8  396.90   9.14\n",
              "2  0.02729   7.07   0.0  0.469   7     17.8  392.83   4.03\n",
              "3  0.03237   2.18   0.0  0.458   6     18.7  394.63   2.94\n",
              "4  0.06905   2.18   0.0  0.458   7     18.7  396.90   5.33"
            ]
          },
          "metadata": {
            "tags": []
          },
          "execution_count": 26
        }
      ]
    },
    {
      "cell_type": "code",
      "metadata": {
        "id": "W3He9wgaL5W7",
        "colab": {
          "base_uri": "https://localhost:8080/",
          "height": 119
        },
        "outputId": "47e1465d-fbee-44bf-fb08-b1100bcf3243"
      },
      "source": [
        "# Variável alvo\n",
        "y.head()"
      ],
      "execution_count": null,
      "outputs": [
        {
          "output_type": "execute_result",
          "data": {
            "text/plain": [
              "0    24.0\n",
              "1    21.6\n",
              "2    34.7\n",
              "3    33.4\n",
              "4    36.2\n",
              "Name: MEDV, dtype: float64"
            ]
          },
          "metadata": {
            "tags": []
          },
          "execution_count": 27
        }
      ]
    },
    {
      "cell_type": "markdown",
      "metadata": {
        "id": "B0I1geDbH2cV"
      },
      "source": [
        "Separando os conjuntos de treino e teste"
      ]
    },
    {
      "cell_type": "code",
      "metadata": {
        "id": "13W2Fe2PfoK2"
      },
      "source": [
        "# carrega o método train_test_split\n",
        "from sklearn.model_selection import train_test_split"
      ],
      "execution_count": null,
      "outputs": []
    },
    {
      "cell_type": "code",
      "metadata": {
        "id": "FaFtnr62AJ74"
      },
      "source": [
        "# divide os dados entre o conjunto de treino e teste, 80% e 20% respectivamente.\n",
        "# define qualquer valor para o parâmetro random_state.\n",
        "X_train, X_test, y_train, y_test = train_test_split(X, y, test_size = 0.2, random_state=5)"
      ],
      "execution_count": null,
      "outputs": []
    },
    {
      "cell_type": "code",
      "metadata": {
        "id": "BiUsFzXQAJ38",
        "colab": {
          "base_uri": "https://localhost:8080/",
          "height": 85
        },
        "outputId": "1621a369-8930-4c79-b15e-a48c50440b17"
      },
      "source": [
        "# imprime a quantidade de linhas dos conjuntos\n",
        "print ('X_train: numero de linhas e colunas: {}'.format(X_train.shape))\n",
        "print ('X_test: numero de linhas e colunas: {}'.format(X_test.shape))\n",
        "print ('y_train: numero de linhas e colunas: {}'.format(y_train.shape))\n",
        "print ('y_test: numero de linhas e colunas: {}'.format(y_test.shape))"
      ],
      "execution_count": null,
      "outputs": [
        {
          "output_type": "stream",
          "text": [
            "X_train: numero de linhas e colunas: (392, 8)\n",
            "X_test: numero de linhas e colunas: (98, 8)\n",
            "y_train: numero de linhas e colunas: (392,)\n",
            "y_test: numero de linhas e colunas: (98,)\n"
          ],
          "name": "stdout"
        }
      ]
    },
    {
      "cell_type": "markdown",
      "metadata": {
        "id": "Wu94wESmFQqy"
      },
      "source": [
        "Modelo de baseline"
      ]
    },
    {
      "cell_type": "code",
      "metadata": {
        "id": "FI97hd4HFPtR",
        "colab": {
          "base_uri": "https://localhost:8080/",
          "height": 204
        },
        "outputId": "3d02fb16-f8fb-4c98-c334-ee49faef0f4c"
      },
      "source": [
        "# imprimindo as 5 primeiras linhas dos dados de teste\n",
        "X_test.head()"
      ],
      "execution_count": null,
      "outputs": [
        {
          "output_type": "execute_result",
          "data": {
            "text/html": [
              "<div>\n",
              "<style scoped>\n",
              "    .dataframe tbody tr th:only-of-type {\n",
              "        vertical-align: middle;\n",
              "    }\n",
              "\n",
              "    .dataframe tbody tr th {\n",
              "        vertical-align: top;\n",
              "    }\n",
              "\n",
              "    .dataframe thead th {\n",
              "        text-align: right;\n",
              "    }\n",
              "</style>\n",
              "<table border=\"1\" class=\"dataframe\">\n",
              "  <thead>\n",
              "    <tr style=\"text-align: right;\">\n",
              "      <th></th>\n",
              "      <th>CRIM</th>\n",
              "      <th>INDUS</th>\n",
              "      <th>CHAS</th>\n",
              "      <th>NOX</th>\n",
              "      <th>RM</th>\n",
              "      <th>PTRATIO</th>\n",
              "      <th>B</th>\n",
              "      <th>LSTAT</th>\n",
              "    </tr>\n",
              "  </thead>\n",
              "  <tbody>\n",
              "    <tr>\n",
              "      <th>245</th>\n",
              "      <td>0.19133</td>\n",
              "      <td>5.86</td>\n",
              "      <td>0.0</td>\n",
              "      <td>0.431</td>\n",
              "      <td>5</td>\n",
              "      <td>19.1</td>\n",
              "      <td>389.13</td>\n",
              "      <td>18.46</td>\n",
              "    </tr>\n",
              "    <tr>\n",
              "      <th>456</th>\n",
              "      <td>4.66883</td>\n",
              "      <td>18.10</td>\n",
              "      <td>0.0</td>\n",
              "      <td>0.713</td>\n",
              "      <td>5</td>\n",
              "      <td>20.2</td>\n",
              "      <td>10.48</td>\n",
              "      <td>19.01</td>\n",
              "    </tr>\n",
              "    <tr>\n",
              "      <th>75</th>\n",
              "      <td>0.09512</td>\n",
              "      <td>12.83</td>\n",
              "      <td>0.0</td>\n",
              "      <td>0.437</td>\n",
              "      <td>6</td>\n",
              "      <td>18.7</td>\n",
              "      <td>383.23</td>\n",
              "      <td>8.94</td>\n",
              "    </tr>\n",
              "    <tr>\n",
              "      <th>238</th>\n",
              "      <td>0.08244</td>\n",
              "      <td>4.93</td>\n",
              "      <td>0.0</td>\n",
              "      <td>0.428</td>\n",
              "      <td>6</td>\n",
              "      <td>16.6</td>\n",
              "      <td>379.41</td>\n",
              "      <td>6.36</td>\n",
              "    </tr>\n",
              "    <tr>\n",
              "      <th>362</th>\n",
              "      <td>3.67822</td>\n",
              "      <td>18.10</td>\n",
              "      <td>0.0</td>\n",
              "      <td>0.770</td>\n",
              "      <td>5</td>\n",
              "      <td>20.2</td>\n",
              "      <td>380.79</td>\n",
              "      <td>10.19</td>\n",
              "    </tr>\n",
              "  </tbody>\n",
              "</table>\n",
              "</div>"
            ],
            "text/plain": [
              "        CRIM  INDUS  CHAS    NOX  RM  PTRATIO       B  LSTAT\n",
              "245  0.19133   5.86   0.0  0.431   5     19.1  389.13  18.46\n",
              "456  4.66883  18.10   0.0  0.713   5     20.2   10.48  19.01\n",
              "75   0.09512  12.83   0.0  0.437   6     18.7  383.23   8.94\n",
              "238  0.08244   4.93   0.0  0.428   6     16.6  379.41   6.36\n",
              "362  3.67822  18.10   0.0  0.770   5     20.2  380.79  10.19"
            ]
          },
          "metadata": {
            "tags": []
          },
          "execution_count": 31
        }
      ]
    },
    {
      "cell_type": "code",
      "metadata": {
        "id": "vRGvzY2jFbvD"
      },
      "source": [
        "# definindo uma lista de predicoes\n",
        "predicoes = []"
      ],
      "execution_count": null,
      "outputs": []
    },
    {
      "cell_type": "code",
      "metadata": {
        "id": "xZ09WeQcGdL0"
      },
      "source": [
        "# para cada elemento do teste alimenta a lista predicoes\n",
        "for i in X_test.RM.iteritems():\n",
        "  n_quartos = i[1]\n",
        "  predicoes.append(retorna_baseline(n_quartos))"
      ],
      "execution_count": null,
      "outputs": []
    },
    {
      "cell_type": "code",
      "metadata": {
        "id": "Zn-1qKZYF16H",
        "colab": {
          "base_uri": "https://localhost:8080/",
          "height": 187
        },
        "outputId": "2c2d813f-f5a2-4de1-cc45-61b309c397e2"
      },
      "source": [
        "# imprime as 10 primeiras linhas da lista de predicoes\n",
        "predicoes[:10]"
      ],
      "execution_count": null,
      "outputs": [
        {
          "output_type": "execute_result",
          "data": {
            "text/plain": [
              "[20.1304245283019,\n",
              " 20.1304245283019,\n",
              " 20.1304245283019,\n",
              " 20.1304245283019,\n",
              " 20.1304245283019,\n",
              " 20.1304245283019,\n",
              " 20.1304245283019,\n",
              " 20.1304245283019,\n",
              " 35.71923076923077,\n",
              " 35.71923076923077]"
            ]
          },
          "metadata": {
            "tags": []
          },
          "execution_count": 36
        }
      ]
    },
    {
      "cell_type": "markdown",
      "metadata": {
        "id": "CM3QVVQ-Ug5L"
      },
      "source": [
        "Atribuindo resultados a um dataframe\n",
        "\n",
        "-   `Manteremos um log ao longo do projeto`\n",
        "-   `Permite a evolução dado o baseline`\n",
        "\n"
      ]
    },
    {
      "cell_type": "code",
      "metadata": {
        "id": "dMr0oUucnuy-"
      },
      "source": [
        "# cria um dataframe vazio\n",
        "df_results = pd.DataFrame() #esse dataframe colocara o preço real comparado de qauntos deveria\n"
      ],
      "execution_count": null,
      "outputs": []
    },
    {
      "cell_type": "code",
      "metadata": {
        "id": "9T5FnjHnUDTA"
      },
      "source": [
        "# adiciona a coluna valor_real\n",
        "df_results['valor_real'] = y_test.values"
      ],
      "execution_count": null,
      "outputs": []
    },
    {
      "cell_type": "code",
      "metadata": {
        "id": "seteWjL0UDL3"
      },
      "source": [
        "# cria a coluna valor_predito_baseline com as predicoes\n",
        "df_results['valor_predito_baseline'] = predicoes"
      ],
      "execution_count": null,
      "outputs": []
    },
    {
      "cell_type": "code",
      "metadata": {
        "id": "6e34IoHyUC77",
        "colab": {
          "base_uri": "https://localhost:8080/",
          "height": 359
        },
        "outputId": "f97d3fa0-938e-4bcc-fd24-41d729b70e2d"
      },
      "source": [
        "# imprimindo as 10 primeiras linhas do df_results\n",
        "df_results.head(10)"
      ],
      "execution_count": null,
      "outputs": [
        {
          "output_type": "execute_result",
          "data": {
            "text/html": [
              "<div>\n",
              "<style scoped>\n",
              "    .dataframe tbody tr th:only-of-type {\n",
              "        vertical-align: middle;\n",
              "    }\n",
              "\n",
              "    .dataframe tbody tr th {\n",
              "        vertical-align: top;\n",
              "    }\n",
              "\n",
              "    .dataframe thead th {\n",
              "        text-align: right;\n",
              "    }\n",
              "</style>\n",
              "<table border=\"1\" class=\"dataframe\">\n",
              "  <thead>\n",
              "    <tr style=\"text-align: right;\">\n",
              "      <th></th>\n",
              "      <th>valor_real</th>\n",
              "      <th>valor_predito_baseline</th>\n",
              "    </tr>\n",
              "  </thead>\n",
              "  <tbody>\n",
              "    <tr>\n",
              "      <th>0</th>\n",
              "      <td>18.5</td>\n",
              "      <td>20.130425</td>\n",
              "    </tr>\n",
              "    <tr>\n",
              "      <th>1</th>\n",
              "      <td>12.7</td>\n",
              "      <td>20.130425</td>\n",
              "    </tr>\n",
              "    <tr>\n",
              "      <th>2</th>\n",
              "      <td>21.4</td>\n",
              "      <td>20.130425</td>\n",
              "    </tr>\n",
              "    <tr>\n",
              "      <th>3</th>\n",
              "      <td>23.7</td>\n",
              "      <td>20.130425</td>\n",
              "    </tr>\n",
              "    <tr>\n",
              "      <th>4</th>\n",
              "      <td>20.8</td>\n",
              "      <td>20.130425</td>\n",
              "    </tr>\n",
              "    <tr>\n",
              "      <th>5</th>\n",
              "      <td>25.0</td>\n",
              "      <td>20.130425</td>\n",
              "    </tr>\n",
              "    <tr>\n",
              "      <th>6</th>\n",
              "      <td>9.7</td>\n",
              "      <td>20.130425</td>\n",
              "    </tr>\n",
              "    <tr>\n",
              "      <th>7</th>\n",
              "      <td>14.9</td>\n",
              "      <td>20.130425</td>\n",
              "    </tr>\n",
              "    <tr>\n",
              "      <th>8</th>\n",
              "      <td>34.9</td>\n",
              "      <td>35.719231</td>\n",
              "    </tr>\n",
              "    <tr>\n",
              "      <th>9</th>\n",
              "      <td>31.6</td>\n",
              "      <td>35.719231</td>\n",
              "    </tr>\n",
              "  </tbody>\n",
              "</table>\n",
              "</div>"
            ],
            "text/plain": [
              "   valor_real  valor_predito_baseline\n",
              "0        18.5               20.130425\n",
              "1        12.7               20.130425\n",
              "2        21.4               20.130425\n",
              "3        23.7               20.130425\n",
              "4        20.8               20.130425\n",
              "5        25.0               20.130425\n",
              "6         9.7               20.130425\n",
              "7        14.9               20.130425\n",
              "8        34.9               35.719231\n",
              "9        31.6               35.719231"
            ]
          },
          "metadata": {
            "tags": []
          },
          "execution_count": 40
        }
      ]
    },
    {
      "cell_type": "markdown",
      "metadata": {
        "id": "HNRa3fuzVX_6"
      },
      "source": [
        "Plota o valor real e o baseline"
      ]
    },
    {
      "cell_type": "code",
      "metadata": {
        "id": "wcrc2krAVJCN",
        "colab": {
          "base_uri": "https://localhost:8080/",
          "height": 542
        },
        "outputId": "5ca61bd1-7a6c-4d57-d6bf-aef0561845bd"
      },
      "source": [
        "import plotly.graph_objects as go\n",
        "\n",
        "# Create traces\n",
        "fig = go.Figure()\n",
        "\n",
        "# Linha com os dados de teste\n",
        "fig.add_trace(go.Scatter(x=df_results.index,\n",
        "                         y=df_results.valor_real,\n",
        "                         mode='lines+markers',\n",
        "                         name='Valor Real'))\n",
        "\n",
        "# Linha com os dados preditos\n",
        "fig.add_trace(go.Scatter(x=df_results.index,\n",
        "                         y=df_results.valor_predito_baseline,\n",
        "                         mode='lines+markers',\n",
        "                         name='Valor Predito Baseline'))\n",
        "# Plota a figura\n",
        "fig.show()"
      ],
      "execution_count": null,
      "outputs": [
        {
          "output_type": "display_data",
          "data": {
            "text/html": [
              "<html>\n",
              "<head><meta charset=\"utf-8\" /></head>\n",
              "<body>\n",
              "    <div>\n",
              "            <script src=\"https://cdnjs.cloudflare.com/ajax/libs/mathjax/2.7.5/MathJax.js?config=TeX-AMS-MML_SVG\"></script><script type=\"text/javascript\">if (window.MathJax) {MathJax.Hub.Config({SVG: {font: \"STIX-Web\"}});}</script>\n",
              "                <script type=\"text/javascript\">window.PlotlyConfig = {MathJaxConfig: 'local'};</script>\n",
              "        <script src=\"https://cdn.plot.ly/plotly-latest.min.js\"></script>    \n",
              "            <div id=\"e7d728d1-c23f-42d3-98d0-c1351b0b4822\" class=\"plotly-graph-div\" style=\"height:525px; width:100%;\"></div>\n",
              "            <script type=\"text/javascript\">\n",
              "                \n",
              "                    window.PLOTLYENV=window.PLOTLYENV || {};\n",
              "                    \n",
              "                if (document.getElementById(\"e7d728d1-c23f-42d3-98d0-c1351b0b4822\")) {\n",
              "                    Plotly.newPlot(\n",
              "                        'e7d728d1-c23f-42d3-98d0-c1351b0b4822',\n",
              "                        [{\"mode\": \"lines+markers\", \"name\": \"Valor Real\", \"type\": \"scatter\", \"x\": [0, 1, 2, 3, 4, 5, 6, 7, 8, 9, 10, 11, 12, 13, 14, 15, 16, 17, 18, 19, 20, 21, 22, 23, 24, 25, 26, 27, 28, 29, 30, 31, 32, 33, 34, 35, 36, 37, 38, 39, 40, 41, 42, 43, 44, 45, 46, 47, 48, 49, 50, 51, 52, 53, 54, 55, 56, 57, 58, 59, 60, 61, 62, 63, 64, 65, 66, 67, 68, 69, 70, 71, 72, 73, 74, 75, 76, 77, 78, 79, 80, 81, 82, 83, 84, 85, 86, 87, 88, 89, 90, 91, 92, 93, 94, 95, 96, 97], \"y\": [18.5, 12.7, 21.4, 23.7, 20.8, 25.0, 9.7, 14.9, 34.9, 31.6, 24.7, 22.9, 33.2, 9.6, 30.5, 19.2, 30.3, 15.4, 24.3, 24.4, 21.5, 27.9, 17.3, 21.4, 21.7, 24.4, 8.5, 15.0, 11.5, 13.6, 24.4, 7.4, 44.0, 21.7, 19.3, 16.1, 29.0, 26.4, 20.3, 10.8, 5.0, 19.6, 23.1, 23.9, 17.5, 13.5, 48.8, 26.2, 19.7, 14.2, 11.0, 19.0, 21.7, 18.4, 33.4, 14.0, 24.7, 43.8, 48.5, 25.0, 22.6, 21.2, 22.4, 23.8, 19.9, 16.5, 16.7, 17.2, 13.1, 19.1, 18.5, 22.2, 22.6, 19.4, 15.2, 19.8, 19.4, 21.6, 18.2, 19.6, 19.6, 23.0, 7.0, 17.6, 25.0, 41.3, 24.1, 22.6, 18.7, 22.6, 13.1, 22.2, 16.1, 39.8, 25.0, 20.5, 10.4, 20.4]}, {\"mode\": \"lines+markers\", \"name\": \"Valor Predito Baseline\", \"type\": \"scatter\", \"x\": [0, 1, 2, 3, 4, 5, 6, 7, 8, 9, 10, 11, 12, 13, 14, 15, 16, 17, 18, 19, 20, 21, 22, 23, 24, 25, 26, 27, 28, 29, 30, 31, 32, 33, 34, 35, 36, 37, 38, 39, 40, 41, 42, 43, 44, 45, 46, 47, 48, 49, 50, 51, 52, 53, 54, 55, 56, 57, 58, 59, 60, 61, 62, 63, 64, 65, 66, 67, 68, 69, 70, 71, 72, 73, 74, 75, 76, 77, 78, 79, 80, 81, 82, 83, 84, 85, 86, 87, 88, 89, 90, 91, 92, 93, 94, 95, 96, 97], \"y\": [20.1304245283019, 20.1304245283019, 20.1304245283019, 20.1304245283019, 20.1304245283019, 20.1304245283019, 20.1304245283019, 20.1304245283019, 35.71923076923077, 35.71923076923077, 20.1304245283019, 20.1304245283019, 35.71923076923077, 20.1304245283019, 20.1304245283019, 20.1304245283019, 35.71923076923077, 20.1304245283019, 20.1304245283019, 20.1304245283019, 20.1304245283019, 20.1304245283019, 20.1304245283019, 20.1304245283019, 20.1304245283019, 20.1304245283019, 20.1304245283019, 35.71923076923077, 20.1304245283019, 20.1304245283019, 20.1304245283019, 20.1304245283019, 35.71923076923077, 20.1304245283019, 20.1304245283019, 14.921428571428574, 35.71923076923077, 20.1304245283019, 20.1304245283019, 20.1304245283019, 20.1304245283019, 20.1304245283019, 20.1304245283019, 20.1304245283019, 20.1304245283019, 20.1304245283019, 35.71923076923077, 20.1304245283019, 20.1304245283019, 20.1304245283019, 20.1304245283019, 20.1304245283019, 20.1304245283019, 20.1304245283019, 35.71923076923077, 20.1304245283019, 20.1304245283019, 35.71923076923077, 35.71923076923077, 20.1304245283019, 20.1304245283019, 20.1304245283019, 20.1304245283019, 20.1304245283019, 20.1304245283019, 20.1304245283019, 20.1304245283019, 20.1304245283019, 20.1304245283019, 20.1304245283019, 20.1304245283019, 20.1304245283019, 20.1304245283019, 20.1304245283019, 20.1304245283019, 20.1304245283019, 20.1304245283019, 20.1304245283019, 20.1304245283019, 20.1304245283019, 20.1304245283019, 20.1304245283019, 14.921428571428574, 20.1304245283019, 20.1304245283019, 20.1304245283019, 20.1304245283019, 20.1304245283019, 20.1304245283019, 20.1304245283019, 20.1304245283019, 20.1304245283019, 20.1304245283019, 35.71923076923077, 35.71923076923077, 20.1304245283019, 20.1304245283019, 20.1304245283019]}],\n",
              "                        {\"template\": {\"data\": {\"bar\": [{\"error_x\": {\"color\": \"#2a3f5f\"}, \"error_y\": {\"color\": \"#2a3f5f\"}, \"marker\": {\"line\": {\"color\": \"#E5ECF6\", \"width\": 0.5}}, \"type\": \"bar\"}], \"barpolar\": [{\"marker\": {\"line\": {\"color\": \"#E5ECF6\", \"width\": 0.5}}, \"type\": \"barpolar\"}], \"carpet\": [{\"aaxis\": {\"endlinecolor\": \"#2a3f5f\", \"gridcolor\": \"white\", \"linecolor\": \"white\", \"minorgridcolor\": \"white\", \"startlinecolor\": \"#2a3f5f\"}, \"baxis\": {\"endlinecolor\": \"#2a3f5f\", \"gridcolor\": \"white\", \"linecolor\": \"white\", \"minorgridcolor\": \"white\", \"startlinecolor\": \"#2a3f5f\"}, \"type\": \"carpet\"}], \"choropleth\": [{\"colorbar\": {\"outlinewidth\": 0, \"ticks\": \"\"}, \"type\": \"choropleth\"}], \"contour\": [{\"colorbar\": {\"outlinewidth\": 0, \"ticks\": \"\"}, \"colorscale\": [[0.0, \"#0d0887\"], [0.1111111111111111, \"#46039f\"], [0.2222222222222222, \"#7201a8\"], [0.3333333333333333, \"#9c179e\"], [0.4444444444444444, \"#bd3786\"], [0.5555555555555556, \"#d8576b\"], [0.6666666666666666, \"#ed7953\"], [0.7777777777777778, \"#fb9f3a\"], [0.8888888888888888, \"#fdca26\"], [1.0, \"#f0f921\"]], \"type\": \"contour\"}], \"contourcarpet\": [{\"colorbar\": {\"outlinewidth\": 0, \"ticks\": \"\"}, \"type\": \"contourcarpet\"}], \"heatmap\": [{\"colorbar\": {\"outlinewidth\": 0, \"ticks\": \"\"}, \"colorscale\": [[0.0, \"#0d0887\"], [0.1111111111111111, \"#46039f\"], [0.2222222222222222, \"#7201a8\"], [0.3333333333333333, \"#9c179e\"], [0.4444444444444444, \"#bd3786\"], [0.5555555555555556, \"#d8576b\"], [0.6666666666666666, \"#ed7953\"], [0.7777777777777778, \"#fb9f3a\"], [0.8888888888888888, \"#fdca26\"], [1.0, \"#f0f921\"]], \"type\": \"heatmap\"}], \"heatmapgl\": [{\"colorbar\": {\"outlinewidth\": 0, \"ticks\": \"\"}, \"colorscale\": [[0.0, \"#0d0887\"], [0.1111111111111111, \"#46039f\"], [0.2222222222222222, \"#7201a8\"], [0.3333333333333333, \"#9c179e\"], [0.4444444444444444, \"#bd3786\"], [0.5555555555555556, \"#d8576b\"], [0.6666666666666666, \"#ed7953\"], [0.7777777777777778, \"#fb9f3a\"], [0.8888888888888888, \"#fdca26\"], [1.0, \"#f0f921\"]], \"type\": \"heatmapgl\"}], \"histogram\": [{\"marker\": {\"colorbar\": {\"outlinewidth\": 0, \"ticks\": \"\"}}, \"type\": \"histogram\"}], \"histogram2d\": [{\"colorbar\": {\"outlinewidth\": 0, \"ticks\": \"\"}, \"colorscale\": [[0.0, \"#0d0887\"], [0.1111111111111111, \"#46039f\"], [0.2222222222222222, \"#7201a8\"], [0.3333333333333333, \"#9c179e\"], [0.4444444444444444, \"#bd3786\"], [0.5555555555555556, \"#d8576b\"], [0.6666666666666666, \"#ed7953\"], [0.7777777777777778, \"#fb9f3a\"], [0.8888888888888888, \"#fdca26\"], [1.0, \"#f0f921\"]], \"type\": \"histogram2d\"}], \"histogram2dcontour\": [{\"colorbar\": {\"outlinewidth\": 0, \"ticks\": \"\"}, \"colorscale\": [[0.0, \"#0d0887\"], [0.1111111111111111, \"#46039f\"], [0.2222222222222222, \"#7201a8\"], [0.3333333333333333, \"#9c179e\"], [0.4444444444444444, \"#bd3786\"], [0.5555555555555556, \"#d8576b\"], [0.6666666666666666, \"#ed7953\"], [0.7777777777777778, \"#fb9f3a\"], [0.8888888888888888, \"#fdca26\"], [1.0, \"#f0f921\"]], \"type\": \"histogram2dcontour\"}], \"mesh3d\": [{\"colorbar\": {\"outlinewidth\": 0, \"ticks\": \"\"}, \"type\": \"mesh3d\"}], \"parcoords\": [{\"line\": {\"colorbar\": {\"outlinewidth\": 0, \"ticks\": \"\"}}, \"type\": \"parcoords\"}], \"pie\": [{\"automargin\": true, \"type\": \"pie\"}], \"scatter\": [{\"marker\": {\"colorbar\": {\"outlinewidth\": 0, \"ticks\": \"\"}}, \"type\": \"scatter\"}], \"scatter3d\": [{\"line\": {\"colorbar\": {\"outlinewidth\": 0, \"ticks\": \"\"}}, \"marker\": {\"colorbar\": {\"outlinewidth\": 0, \"ticks\": \"\"}}, \"type\": \"scatter3d\"}], \"scattercarpet\": [{\"marker\": {\"colorbar\": {\"outlinewidth\": 0, \"ticks\": \"\"}}, \"type\": \"scattercarpet\"}], \"scattergeo\": [{\"marker\": {\"colorbar\": {\"outlinewidth\": 0, \"ticks\": \"\"}}, \"type\": \"scattergeo\"}], \"scattergl\": [{\"marker\": {\"colorbar\": {\"outlinewidth\": 0, \"ticks\": \"\"}}, \"type\": \"scattergl\"}], \"scattermapbox\": [{\"marker\": {\"colorbar\": {\"outlinewidth\": 0, \"ticks\": \"\"}}, \"type\": \"scattermapbox\"}], \"scatterpolar\": [{\"marker\": {\"colorbar\": {\"outlinewidth\": 0, \"ticks\": \"\"}}, \"type\": \"scatterpolar\"}], \"scatterpolargl\": [{\"marker\": {\"colorbar\": {\"outlinewidth\": 0, \"ticks\": \"\"}}, \"type\": \"scatterpolargl\"}], \"scatterternary\": [{\"marker\": {\"colorbar\": {\"outlinewidth\": 0, \"ticks\": \"\"}}, \"type\": \"scatterternary\"}], \"surface\": [{\"colorbar\": {\"outlinewidth\": 0, \"ticks\": \"\"}, \"colorscale\": [[0.0, \"#0d0887\"], [0.1111111111111111, \"#46039f\"], [0.2222222222222222, \"#7201a8\"], [0.3333333333333333, \"#9c179e\"], [0.4444444444444444, \"#bd3786\"], [0.5555555555555556, \"#d8576b\"], [0.6666666666666666, \"#ed7953\"], [0.7777777777777778, \"#fb9f3a\"], [0.8888888888888888, \"#fdca26\"], [1.0, \"#f0f921\"]], \"type\": \"surface\"}], \"table\": [{\"cells\": {\"fill\": {\"color\": \"#EBF0F8\"}, \"line\": {\"color\": \"white\"}}, \"header\": {\"fill\": {\"color\": \"#C8D4E3\"}, \"line\": {\"color\": \"white\"}}, \"type\": \"table\"}]}, \"layout\": {\"annotationdefaults\": {\"arrowcolor\": \"#2a3f5f\", \"arrowhead\": 0, \"arrowwidth\": 1}, \"coloraxis\": {\"colorbar\": {\"outlinewidth\": 0, \"ticks\": \"\"}}, \"colorscale\": {\"diverging\": [[0, \"#8e0152\"], [0.1, \"#c51b7d\"], [0.2, \"#de77ae\"], [0.3, \"#f1b6da\"], [0.4, \"#fde0ef\"], [0.5, \"#f7f7f7\"], [0.6, \"#e6f5d0\"], [0.7, \"#b8e186\"], [0.8, \"#7fbc41\"], [0.9, \"#4d9221\"], [1, \"#276419\"]], \"sequential\": [[0.0, \"#0d0887\"], [0.1111111111111111, \"#46039f\"], [0.2222222222222222, \"#7201a8\"], [0.3333333333333333, \"#9c179e\"], [0.4444444444444444, \"#bd3786\"], [0.5555555555555556, \"#d8576b\"], [0.6666666666666666, \"#ed7953\"], [0.7777777777777778, \"#fb9f3a\"], [0.8888888888888888, \"#fdca26\"], [1.0, \"#f0f921\"]], \"sequentialminus\": [[0.0, \"#0d0887\"], [0.1111111111111111, \"#46039f\"], [0.2222222222222222, \"#7201a8\"], [0.3333333333333333, \"#9c179e\"], [0.4444444444444444, \"#bd3786\"], [0.5555555555555556, \"#d8576b\"], [0.6666666666666666, \"#ed7953\"], [0.7777777777777778, \"#fb9f3a\"], [0.8888888888888888, \"#fdca26\"], [1.0, \"#f0f921\"]]}, \"colorway\": [\"#636efa\", \"#EF553B\", \"#00cc96\", \"#ab63fa\", \"#FFA15A\", \"#19d3f3\", \"#FF6692\", \"#B6E880\", \"#FF97FF\", \"#FECB52\"], \"font\": {\"color\": \"#2a3f5f\"}, \"geo\": {\"bgcolor\": \"white\", \"lakecolor\": \"white\", \"landcolor\": \"#E5ECF6\", \"showlakes\": true, \"showland\": true, \"subunitcolor\": \"white\"}, \"hoverlabel\": {\"align\": \"left\"}, \"hovermode\": \"closest\", \"mapbox\": {\"style\": \"light\"}, \"paper_bgcolor\": \"white\", \"plot_bgcolor\": \"#E5ECF6\", \"polar\": {\"angularaxis\": {\"gridcolor\": \"white\", \"linecolor\": \"white\", \"ticks\": \"\"}, \"bgcolor\": \"#E5ECF6\", \"radialaxis\": {\"gridcolor\": \"white\", \"linecolor\": \"white\", \"ticks\": \"\"}}, \"scene\": {\"xaxis\": {\"backgroundcolor\": \"#E5ECF6\", \"gridcolor\": \"white\", \"gridwidth\": 2, \"linecolor\": \"white\", \"showbackground\": true, \"ticks\": \"\", \"zerolinecolor\": \"white\"}, \"yaxis\": {\"backgroundcolor\": \"#E5ECF6\", \"gridcolor\": \"white\", \"gridwidth\": 2, \"linecolor\": \"white\", \"showbackground\": true, \"ticks\": \"\", \"zerolinecolor\": \"white\"}, \"zaxis\": {\"backgroundcolor\": \"#E5ECF6\", \"gridcolor\": \"white\", \"gridwidth\": 2, \"linecolor\": \"white\", \"showbackground\": true, \"ticks\": \"\", \"zerolinecolor\": \"white\"}}, \"shapedefaults\": {\"line\": {\"color\": \"#2a3f5f\"}}, \"ternary\": {\"aaxis\": {\"gridcolor\": \"white\", \"linecolor\": \"white\", \"ticks\": \"\"}, \"baxis\": {\"gridcolor\": \"white\", \"linecolor\": \"white\", \"ticks\": \"\"}, \"bgcolor\": \"#E5ECF6\", \"caxis\": {\"gridcolor\": \"white\", \"linecolor\": \"white\", \"ticks\": \"\"}}, \"title\": {\"x\": 0.05}, \"xaxis\": {\"automargin\": true, \"gridcolor\": \"white\", \"linecolor\": \"white\", \"ticks\": \"\", \"title\": {\"standoff\": 15}, \"zerolinecolor\": \"white\", \"zerolinewidth\": 2}, \"yaxis\": {\"automargin\": true, \"gridcolor\": \"white\", \"linecolor\": \"white\", \"ticks\": \"\", \"title\": {\"standoff\": 15}, \"zerolinecolor\": \"white\", \"zerolinewidth\": 2}}}},\n",
              "                        {\"responsive\": true}\n",
              "                    ).then(function(){\n",
              "                            \n",
              "var gd = document.getElementById('e7d728d1-c23f-42d3-98d0-c1351b0b4822');\n",
              "var x = new MutationObserver(function (mutations, observer) {{\n",
              "        var display = window.getComputedStyle(gd).display;\n",
              "        if (!display || display === 'none') {{\n",
              "            console.log([gd, 'removed!']);\n",
              "            Plotly.purge(gd);\n",
              "            observer.disconnect();\n",
              "        }}\n",
              "}});\n",
              "\n",
              "// Listen for the removal of the full notebook cells\n",
              "var notebookContainer = gd.closest('#notebook-container');\n",
              "if (notebookContainer) {{\n",
              "    x.observe(notebookContainer, {childList: true});\n",
              "}}\n",
              "\n",
              "// Listen for the clearing of the current output cell\n",
              "var outputEl = gd.closest('.output');\n",
              "if (outputEl) {{\n",
              "    x.observe(outputEl, {childList: true});\n",
              "}}\n",
              "\n",
              "                        })\n",
              "                };\n",
              "                \n",
              "            </script>\n",
              "        </div>\n",
              "</body>\n",
              "</html>"
            ]
          },
          "metadata": {
            "tags": []
          }
        }
      ]
    },
    {
      "cell_type": "markdown",
      "metadata": {
        "id": "IUt81GVWGHLb"
      },
      "source": [
        "Avaliação do modelo baseline"
      ]
    },
    {
      "cell_type": "code",
      "metadata": {
        "id": "ACJFie9JF7iq"
      },
      "source": [
        "# calcula a métrica rmse\n",
        "from sklearn.metrics import mean_squared_error #Erro medio quadratico, ver a diferença do teste pro real, com isso ve quantos ele errou\n",
        "from math import sqrt #esse tira a raiz do erro medio quadratico"
      ],
      "execution_count": null,
      "outputs": []
    },
    {
      "cell_type": "code",
      "metadata": {
        "id": "6UO0iZm44Gl_"
      },
      "source": [
        "rmse = (np.sqrt(mean_squared_error(y_test, predicoes)))#y valor dos imoveis "
      ],
      "execution_count": null,
      "outputs": []
    },
    {
      "cell_type": "code",
      "metadata": {
        "id": "aFThM7L9GDA6",
        "colab": {
          "base_uri": "https://localhost:8080/",
          "height": 68
        },
        "outputId": "3be5d013-49d1-464e-b8a1-baf6b1d355eb"
      },
      "source": [
        "# imprime a performance do modelo\n",
        "print ('Performance do modelo baseline:')\n",
        "print('\\nRMSE é: {} '.format(rmse))"
      ],
      "execution_count": null,
      "outputs": [
        {
          "output_type": "stream",
          "text": [
            "Performance do modelo baseline:\n",
            "\n",
            "RMSE é: 6.205816494411828 \n"
          ],
          "name": "stdout"
        }
      ]
    },
    {
      "cell_type": "markdown",
      "metadata": {
        "id": "6jL-gszHYgZY"
      },
      "source": [
        "\n",
        "\n",
        "```\n",
        "# Isto está formatado como código\n",
        "```\n",
        "\n",
        "### Machine Learning"
      ]
    },
    {
      "cell_type": "markdown",
      "metadata": {
        "id": "8rokdiRpzTry"
      },
      "source": [
        "#### Regressão Linear"
      ]
    },
    {
      "cell_type": "markdown",
      "metadata": {
        "id": "nEbWBlL3Ir9M"
      },
      "source": [
        "- `Devido a correlação entre algumas features podemos usar uma regressão linear.`\n",
        "- `Modelo simples e eficiente.`\n",
        "- `Solução rápida e robusta.`"
      ]
    },
    {
      "cell_type": "code",
      "metadata": {
        "id": "xy7zx_pJIw6e"
      },
      "source": [
        "# carrega o pacote LinearRegression\n",
        "from sklearn.linear_model import LinearRegression"
      ],
      "execution_count": null,
      "outputs": []
    },
    {
      "cell_type": "code",
      "metadata": {
        "id": "fRgZ6NHUfvzM"
      },
      "source": [
        "# cria o objeto do tipo LinearRegression\n",
        "lin_model = LinearRegression()"
      ],
      "execution_count": null,
      "outputs": []
    },
    {
      "cell_type": "code",
      "metadata": {
        "id": "EP4-r-x9fyMF",
        "colab": {
          "base_uri": "https://localhost:8080/",
          "height": 34
        },
        "outputId": "88398239-bcb9-451a-dee6-bf012d427827"
      },
      "source": [
        "# treina o algoritmo de regressão linear\n",
        "lin_model.fit(X_train, y_train)#fit serve pra treinar "
      ],
      "execution_count": null,
      "outputs": [
        {
          "output_type": "execute_result",
          "data": {
            "text/plain": [
              "LinearRegression(copy_X=True, fit_intercept=True, n_jobs=None, normalize=False)"
            ]
          },
          "metadata": {
            "tags": []
          },
          "execution_count": 48
        }
      ]
    },
    {
      "cell_type": "code",
      "metadata": {
        "id": "XwIaD1k1NVzg",
        "colab": {
          "base_uri": "https://localhost:8080/",
          "height": 357
        },
        "outputId": "9f562fee-5a88-49e7-92cf-9f856ff751f4"
      },
      "source": [
        "# avaliação do modelo nos dados de teste\n",
        "y_pred = lin_model.predict(X_test)  #Variavel dependente vai ser utilizada pra \n",
        "y_pred                              #dar um predict no valor medio no imovel"
      ],
      "execution_count": null,
      "outputs": [
        {
          "output_type": "execute_result",
          "data": {
            "text/plain": [
              "array([18.45916962, 12.27989416, 24.58830657, 28.25469328, 18.19543854,\n",
              "       21.63064824, 11.31919803, 14.56103222, 31.62371677, 29.58813261,\n",
              "       28.60393602, 26.48212582, 29.96603421, 14.55317305, 30.27824871,\n",
              "       24.63003916, 33.23345825, 16.93124857, 24.99446422, 26.46644144,\n",
              "       22.81363952, 27.10339073, 12.52499663, 19.37929752, 21.58154597,\n",
              "       23.8770067 , 14.0858558 , 21.23014697, 13.64397312, 14.71671288,\n",
              "       25.80016154,  7.86717195, 33.02051098, 26.04521892, 24.03678167,\n",
              "       17.77540346, 33.22709164, 27.5179444 , 21.18738356, 10.95786873,\n",
              "        7.50768577, 19.41858658, 27.39333995, 23.84101826, 24.74227084,\n",
              "       16.9907237 , 35.47974424, 26.15991292, 22.49691218, 17.9047882 ,\n",
              "       14.15411678, 21.18188568, 20.62452539, 21.17758764, 29.49552122,\n",
              "       14.23004113, 26.54411281, 31.08804507, 33.7269356 , 24.89158174,\n",
              "       24.18794437, 23.86472591, 22.05278167, 21.38994046, 18.84595165,\n",
              "       27.84158205, 17.93632332, 13.82389709, 17.67613991, 19.29463828,\n",
              "       20.58230656, 25.39064985, 26.23596042, 18.89486987, 14.74830292,\n",
              "       26.81867563, 24.87823875, 25.21391681, 21.19251508, 20.51270334,\n",
              "       18.27047763, 21.37039102, -0.09444265, 20.9582915 , 28.55253759,\n",
              "       28.02186208, 27.66690749, 21.45842165, 21.37782433, 27.6210065 ,\n",
              "       16.07524736, 26.09254212, 17.75608755, 29.3895964 , 25.47443997,\n",
              "       15.83946899,  8.44698583, 20.76020543])"
            ]
          },
          "metadata": {
            "tags": []
          },
          "execution_count": 50
        }
      ]
    },
    {
      "cell_type": "code",
      "metadata": {
        "id": "Wx7arH2JoHGU"
      },
      "source": [
        "# calcula a métrica rmse\n",
        "rmse = (np.sqrt(mean_squared_error(y_test, y_pred)))"
      ],
      "execution_count": null,
      "outputs": []
    },
    {
      "cell_type": "code",
      "metadata": {
        "id": "zi54cRQwNcPm",
        "colab": {
          "base_uri": "https://localhost:8080/",
          "height": 68
        },
        "outputId": "689984ed-f3aa-4c06-bf42-8a82b4631734"
      },
      "source": [
        "# imprime a performance do modelo\n",
        "print ('Performance do modelo avaliado com os dados de teste:')\n",
        "print('\\nRMSE é: {} '.format(rmse)) #isso mostra q usar sklearn > Baseliner"
      ],
      "execution_count": null,
      "outputs": [
        {
          "output_type": "stream",
          "text": [
            "Performance do modelo avaliado com os dados de teste:\n",
            "\n",
            "RMSE é: 4.460277295153906 \n"
          ],
          "name": "stdout"
        }
      ]
    },
    {
      "cell_type": "code",
      "metadata": {
        "id": "Fc4Cy6ehSRz7"
      },
      "source": [
        "# atribui os resultados no dataframe df_results\n",
        "df_results['valor_predito_reg_linear'] = lin_model.predict(X_test)"
      ],
      "execution_count": null,
      "outputs": []
    },
    {
      "cell_type": "code",
      "metadata": {
        "id": "vY6sddMASRrj",
        "colab": {
          "base_uri": "https://localhost:8080/",
          "height": 359
        },
        "outputId": "b3156998-7dd2-4ebf-b547-d44f1c2efe43"
      },
      "source": [
        "df_results.head(10)"
      ],
      "execution_count": null,
      "outputs": [
        {
          "output_type": "execute_result",
          "data": {
            "text/html": [
              "<div>\n",
              "<style scoped>\n",
              "    .dataframe tbody tr th:only-of-type {\n",
              "        vertical-align: middle;\n",
              "    }\n",
              "\n",
              "    .dataframe tbody tr th {\n",
              "        vertical-align: top;\n",
              "    }\n",
              "\n",
              "    .dataframe thead th {\n",
              "        text-align: right;\n",
              "    }\n",
              "</style>\n",
              "<table border=\"1\" class=\"dataframe\">\n",
              "  <thead>\n",
              "    <tr style=\"text-align: right;\">\n",
              "      <th></th>\n",
              "      <th>valor_real</th>\n",
              "      <th>valor_predito_baseline</th>\n",
              "      <th>valor_predito_reg_linear</th>\n",
              "    </tr>\n",
              "  </thead>\n",
              "  <tbody>\n",
              "    <tr>\n",
              "      <th>0</th>\n",
              "      <td>18.5</td>\n",
              "      <td>20.130425</td>\n",
              "      <td>18.459170</td>\n",
              "    </tr>\n",
              "    <tr>\n",
              "      <th>1</th>\n",
              "      <td>12.7</td>\n",
              "      <td>20.130425</td>\n",
              "      <td>12.279894</td>\n",
              "    </tr>\n",
              "    <tr>\n",
              "      <th>2</th>\n",
              "      <td>21.4</td>\n",
              "      <td>20.130425</td>\n",
              "      <td>24.588307</td>\n",
              "    </tr>\n",
              "    <tr>\n",
              "      <th>3</th>\n",
              "      <td>23.7</td>\n",
              "      <td>20.130425</td>\n",
              "      <td>28.254693</td>\n",
              "    </tr>\n",
              "    <tr>\n",
              "      <th>4</th>\n",
              "      <td>20.8</td>\n",
              "      <td>20.130425</td>\n",
              "      <td>18.195439</td>\n",
              "    </tr>\n",
              "    <tr>\n",
              "      <th>5</th>\n",
              "      <td>25.0</td>\n",
              "      <td>20.130425</td>\n",
              "      <td>21.630648</td>\n",
              "    </tr>\n",
              "    <tr>\n",
              "      <th>6</th>\n",
              "      <td>9.7</td>\n",
              "      <td>20.130425</td>\n",
              "      <td>11.319198</td>\n",
              "    </tr>\n",
              "    <tr>\n",
              "      <th>7</th>\n",
              "      <td>14.9</td>\n",
              "      <td>20.130425</td>\n",
              "      <td>14.561032</td>\n",
              "    </tr>\n",
              "    <tr>\n",
              "      <th>8</th>\n",
              "      <td>34.9</td>\n",
              "      <td>35.719231</td>\n",
              "      <td>31.623717</td>\n",
              "    </tr>\n",
              "    <tr>\n",
              "      <th>9</th>\n",
              "      <td>31.6</td>\n",
              "      <td>35.719231</td>\n",
              "      <td>29.588133</td>\n",
              "    </tr>\n",
              "  </tbody>\n",
              "</table>\n",
              "</div>"
            ],
            "text/plain": [
              "   valor_real  valor_predito_baseline  valor_predito_reg_linear\n",
              "0        18.5               20.130425                 18.459170\n",
              "1        12.7               20.130425                 12.279894\n",
              "2        21.4               20.130425                 24.588307\n",
              "3        23.7               20.130425                 28.254693\n",
              "4        20.8               20.130425                 18.195439\n",
              "5        25.0               20.130425                 21.630648\n",
              "6         9.7               20.130425                 11.319198\n",
              "7        14.9               20.130425                 14.561032\n",
              "8        34.9               35.719231                 31.623717\n",
              "9        31.6               35.719231                 29.588133"
            ]
          },
          "metadata": {
            "tags": []
          },
          "execution_count": 54
        }
      ]
    },
    {
      "cell_type": "code",
      "metadata": {
        "id": "qojh6XHzSDHZ",
        "colab": {
          "base_uri": "https://localhost:8080/",
          "height": 542
        },
        "outputId": "0e59b656-6d04-4d67-c817-3d2a4a7da09f"
      },
      "source": [
        "import plotly.graph_objects as go\n",
        "\n",
        "# Create traces\n",
        "fig = go.Figure()\n",
        "\n",
        "# Linha com os dados de teste\n",
        "fig.add_trace(go.Scatter(x=df_results.index,\n",
        "                         y=df_results.valor_real,\n",
        "                         mode='lines+markers',\n",
        "                         name='Valor Real'))\n",
        "\n",
        "# Linha com os dados de baseline\n",
        "fig.add_trace(go.Scatter(x=df_results.index,\n",
        "                         y=df_results.valor_predito_baseline,\n",
        "                         mode='lines+markers',\n",
        "                         name='Baseline'))\n",
        "\n",
        "# Linha com os dados preditos pela regressão linear\n",
        "fig.add_trace(go.Scatter(x=df_results.index,\n",
        "                         y=df_results.valor_predito_reg_linear,\n",
        "                         mode='lines',\n",
        "                         line = dict(color = '#FEBFB3'),\n",
        "                         name='Valor Predito Regressão Linear'))\n",
        "\n",
        "# Plota a figura\n",
        "fig.show()"
      ],
      "execution_count": null,
      "outputs": [
        {
          "output_type": "display_data",
          "data": {
            "text/html": [
              "<html>\n",
              "<head><meta charset=\"utf-8\" /></head>\n",
              "<body>\n",
              "    <div>\n",
              "            <script src=\"https://cdnjs.cloudflare.com/ajax/libs/mathjax/2.7.5/MathJax.js?config=TeX-AMS-MML_SVG\"></script><script type=\"text/javascript\">if (window.MathJax) {MathJax.Hub.Config({SVG: {font: \"STIX-Web\"}});}</script>\n",
              "                <script type=\"text/javascript\">window.PlotlyConfig = {MathJaxConfig: 'local'};</script>\n",
              "        <script src=\"https://cdn.plot.ly/plotly-latest.min.js\"></script>    \n",
              "            <div id=\"dfb40c5b-5366-46dc-af71-8aebfd6c9fe9\" class=\"plotly-graph-div\" style=\"height:525px; width:100%;\"></div>\n",
              "            <script type=\"text/javascript\">\n",
              "                \n",
              "                    window.PLOTLYENV=window.PLOTLYENV || {};\n",
              "                    \n",
              "                if (document.getElementById(\"dfb40c5b-5366-46dc-af71-8aebfd6c9fe9\")) {\n",
              "                    Plotly.newPlot(\n",
              "                        'dfb40c5b-5366-46dc-af71-8aebfd6c9fe9',\n",
              "                        [{\"mode\": \"lines+markers\", \"name\": \"Valor Real\", \"type\": \"scatter\", \"x\": [0, 1, 2, 3, 4, 5, 6, 7, 8, 9, 10, 11, 12, 13, 14, 15, 16, 17, 18, 19, 20, 21, 22, 23, 24, 25, 26, 27, 28, 29, 30, 31, 32, 33, 34, 35, 36, 37, 38, 39, 40, 41, 42, 43, 44, 45, 46, 47, 48, 49, 50, 51, 52, 53, 54, 55, 56, 57, 58, 59, 60, 61, 62, 63, 64, 65, 66, 67, 68, 69, 70, 71, 72, 73, 74, 75, 76, 77, 78, 79, 80, 81, 82, 83, 84, 85, 86, 87, 88, 89, 90, 91, 92, 93, 94, 95, 96, 97], \"y\": [18.5, 12.7, 21.4, 23.7, 20.8, 25.0, 9.7, 14.9, 34.9, 31.6, 24.7, 22.9, 33.2, 9.6, 30.5, 19.2, 30.3, 15.4, 24.3, 24.4, 21.5, 27.9, 17.3, 21.4, 21.7, 24.4, 8.5, 15.0, 11.5, 13.6, 24.4, 7.4, 44.0, 21.7, 19.3, 16.1, 29.0, 26.4, 20.3, 10.8, 5.0, 19.6, 23.1, 23.9, 17.5, 13.5, 48.8, 26.2, 19.7, 14.2, 11.0, 19.0, 21.7, 18.4, 33.4, 14.0, 24.7, 43.8, 48.5, 25.0, 22.6, 21.2, 22.4, 23.8, 19.9, 16.5, 16.7, 17.2, 13.1, 19.1, 18.5, 22.2, 22.6, 19.4, 15.2, 19.8, 19.4, 21.6, 18.2, 19.6, 19.6, 23.0, 7.0, 17.6, 25.0, 41.3, 24.1, 22.6, 18.7, 22.6, 13.1, 22.2, 16.1, 39.8, 25.0, 20.5, 10.4, 20.4]}, {\"mode\": \"lines+markers\", \"name\": \"Baseline\", \"type\": \"scatter\", \"x\": [0, 1, 2, 3, 4, 5, 6, 7, 8, 9, 10, 11, 12, 13, 14, 15, 16, 17, 18, 19, 20, 21, 22, 23, 24, 25, 26, 27, 28, 29, 30, 31, 32, 33, 34, 35, 36, 37, 38, 39, 40, 41, 42, 43, 44, 45, 46, 47, 48, 49, 50, 51, 52, 53, 54, 55, 56, 57, 58, 59, 60, 61, 62, 63, 64, 65, 66, 67, 68, 69, 70, 71, 72, 73, 74, 75, 76, 77, 78, 79, 80, 81, 82, 83, 84, 85, 86, 87, 88, 89, 90, 91, 92, 93, 94, 95, 96, 97], \"y\": [20.1304245283019, 20.1304245283019, 20.1304245283019, 20.1304245283019, 20.1304245283019, 20.1304245283019, 20.1304245283019, 20.1304245283019, 35.71923076923077, 35.71923076923077, 20.1304245283019, 20.1304245283019, 35.71923076923077, 20.1304245283019, 20.1304245283019, 20.1304245283019, 35.71923076923077, 20.1304245283019, 20.1304245283019, 20.1304245283019, 20.1304245283019, 20.1304245283019, 20.1304245283019, 20.1304245283019, 20.1304245283019, 20.1304245283019, 20.1304245283019, 35.71923076923077, 20.1304245283019, 20.1304245283019, 20.1304245283019, 20.1304245283019, 35.71923076923077, 20.1304245283019, 20.1304245283019, 14.921428571428574, 35.71923076923077, 20.1304245283019, 20.1304245283019, 20.1304245283019, 20.1304245283019, 20.1304245283019, 20.1304245283019, 20.1304245283019, 20.1304245283019, 20.1304245283019, 35.71923076923077, 20.1304245283019, 20.1304245283019, 20.1304245283019, 20.1304245283019, 20.1304245283019, 20.1304245283019, 20.1304245283019, 35.71923076923077, 20.1304245283019, 20.1304245283019, 35.71923076923077, 35.71923076923077, 20.1304245283019, 20.1304245283019, 20.1304245283019, 20.1304245283019, 20.1304245283019, 20.1304245283019, 20.1304245283019, 20.1304245283019, 20.1304245283019, 20.1304245283019, 20.1304245283019, 20.1304245283019, 20.1304245283019, 20.1304245283019, 20.1304245283019, 20.1304245283019, 20.1304245283019, 20.1304245283019, 20.1304245283019, 20.1304245283019, 20.1304245283019, 20.1304245283019, 20.1304245283019, 14.921428571428574, 20.1304245283019, 20.1304245283019, 20.1304245283019, 20.1304245283019, 20.1304245283019, 20.1304245283019, 20.1304245283019, 20.1304245283019, 20.1304245283019, 20.1304245283019, 35.71923076923077, 35.71923076923077, 20.1304245283019, 20.1304245283019, 20.1304245283019]}, {\"line\": {\"color\": \"#FEBFB3\"}, \"mode\": \"lines\", \"name\": \"Valor Predito Regress\\u00e3o Linear\", \"type\": \"scatter\", \"x\": [0, 1, 2, 3, 4, 5, 6, 7, 8, 9, 10, 11, 12, 13, 14, 15, 16, 17, 18, 19, 20, 21, 22, 23, 24, 25, 26, 27, 28, 29, 30, 31, 32, 33, 34, 35, 36, 37, 38, 39, 40, 41, 42, 43, 44, 45, 46, 47, 48, 49, 50, 51, 52, 53, 54, 55, 56, 57, 58, 59, 60, 61, 62, 63, 64, 65, 66, 67, 68, 69, 70, 71, 72, 73, 74, 75, 76, 77, 78, 79, 80, 81, 82, 83, 84, 85, 86, 87, 88, 89, 90, 91, 92, 93, 94, 95, 96, 97], \"y\": [18.459169620175622, 12.27989416415651, 24.588306565387423, 28.254693280668697, 18.195438537343797, 21.630648235689588, 11.31919803094615, 14.561032219959813, 31.623716773040094, 29.588132607557007, 28.60393601525742, 26.482125815783224, 29.966034207781306, 14.553173045326115, 30.278248711999723, 24.63003915876186, 33.23345824950145, 16.931248570273684, 24.99446421909778, 26.466441440860127, 22.813639524070087, 27.103390731816347, 12.524996632311225, 19.37929751974933, 21.581545971002537, 23.877006702039054, 14.085855797820356, 21.230146967559786, 13.643973122717863, 14.716712882017276, 25.80016154201209, 7.867171947538868, 33.02051098404501, 26.045218917809276, 24.03678166511637, 17.775403456686533, 33.22709163662169, 27.517944398741662, 21.187383562583435, 10.957868727277681, 7.507685772949113, 19.418586584539916, 27.393339951286585, 23.8410182563615, 24.74227083856386, 16.990723698020265, 35.47974424493103, 26.159912917617135, 22.49691218178387, 17.904788196114122, 14.154116782257066, 21.181885684574734, 20.624525388320667, 21.177587641065532, 29.49552122400647, 14.23004112679746, 26.544112805265772, 31.0880450668066, 33.726935599253906, 24.891581735351775, 24.187944371239205, 23.864725908860084, 22.05278167361648, 21.38994045785447, 18.845951646544716, 27.841582054943295, 17.93632331758325, 13.823897089289773, 17.676139911036124, 19.29463827968289, 20.582306559638138, 25.390649846634087, 26.23596042344075, 18.89486986816471, 14.74830291774068, 26.818675625015647, 24.878238751496404, 25.213916812117624, 21.19251508313218, 20.512703338801487, 18.270477629632566, 21.37039101688553, -0.09444264955234871, 20.958291503542682, 28.552537591219135, 28.0218620799915, 27.66690749195503, 21.458421647169153, 21.377824334771667, 27.621006503404928, 16.075247361056483, 26.092542124103044, 17.756087552806495, 29.38959640373895, 25.474439973258512, 15.839468986221018, 8.44698583407828, 20.760205429443275]}],\n",
              "                        {\"template\": {\"data\": {\"bar\": [{\"error_x\": {\"color\": \"#2a3f5f\"}, \"error_y\": {\"color\": \"#2a3f5f\"}, \"marker\": {\"line\": {\"color\": \"#E5ECF6\", \"width\": 0.5}}, \"type\": \"bar\"}], \"barpolar\": [{\"marker\": {\"line\": {\"color\": \"#E5ECF6\", \"width\": 0.5}}, \"type\": \"barpolar\"}], \"carpet\": [{\"aaxis\": {\"endlinecolor\": \"#2a3f5f\", \"gridcolor\": \"white\", \"linecolor\": \"white\", \"minorgridcolor\": \"white\", \"startlinecolor\": \"#2a3f5f\"}, \"baxis\": {\"endlinecolor\": \"#2a3f5f\", \"gridcolor\": \"white\", \"linecolor\": \"white\", \"minorgridcolor\": \"white\", \"startlinecolor\": \"#2a3f5f\"}, \"type\": \"carpet\"}], \"choropleth\": [{\"colorbar\": {\"outlinewidth\": 0, \"ticks\": \"\"}, \"type\": \"choropleth\"}], \"contour\": [{\"colorbar\": {\"outlinewidth\": 0, \"ticks\": \"\"}, \"colorscale\": [[0.0, \"#0d0887\"], [0.1111111111111111, \"#46039f\"], [0.2222222222222222, \"#7201a8\"], [0.3333333333333333, \"#9c179e\"], [0.4444444444444444, \"#bd3786\"], [0.5555555555555556, \"#d8576b\"], [0.6666666666666666, \"#ed7953\"], [0.7777777777777778, \"#fb9f3a\"], [0.8888888888888888, \"#fdca26\"], [1.0, \"#f0f921\"]], \"type\": \"contour\"}], \"contourcarpet\": [{\"colorbar\": {\"outlinewidth\": 0, \"ticks\": \"\"}, \"type\": \"contourcarpet\"}], \"heatmap\": [{\"colorbar\": {\"outlinewidth\": 0, \"ticks\": \"\"}, \"colorscale\": [[0.0, \"#0d0887\"], [0.1111111111111111, \"#46039f\"], [0.2222222222222222, \"#7201a8\"], [0.3333333333333333, \"#9c179e\"], [0.4444444444444444, \"#bd3786\"], [0.5555555555555556, \"#d8576b\"], [0.6666666666666666, \"#ed7953\"], [0.7777777777777778, \"#fb9f3a\"], [0.8888888888888888, \"#fdca26\"], [1.0, \"#f0f921\"]], \"type\": \"heatmap\"}], \"heatmapgl\": [{\"colorbar\": {\"outlinewidth\": 0, \"ticks\": \"\"}, \"colorscale\": [[0.0, \"#0d0887\"], [0.1111111111111111, \"#46039f\"], [0.2222222222222222, \"#7201a8\"], [0.3333333333333333, \"#9c179e\"], [0.4444444444444444, \"#bd3786\"], [0.5555555555555556, \"#d8576b\"], [0.6666666666666666, \"#ed7953\"], [0.7777777777777778, \"#fb9f3a\"], [0.8888888888888888, \"#fdca26\"], [1.0, \"#f0f921\"]], \"type\": \"heatmapgl\"}], \"histogram\": [{\"marker\": {\"colorbar\": {\"outlinewidth\": 0, \"ticks\": \"\"}}, \"type\": \"histogram\"}], \"histogram2d\": [{\"colorbar\": {\"outlinewidth\": 0, \"ticks\": \"\"}, \"colorscale\": [[0.0, \"#0d0887\"], [0.1111111111111111, \"#46039f\"], [0.2222222222222222, \"#7201a8\"], [0.3333333333333333, \"#9c179e\"], [0.4444444444444444, \"#bd3786\"], [0.5555555555555556, \"#d8576b\"], [0.6666666666666666, \"#ed7953\"], [0.7777777777777778, \"#fb9f3a\"], [0.8888888888888888, \"#fdca26\"], [1.0, \"#f0f921\"]], \"type\": \"histogram2d\"}], \"histogram2dcontour\": [{\"colorbar\": {\"outlinewidth\": 0, \"ticks\": \"\"}, \"colorscale\": [[0.0, \"#0d0887\"], [0.1111111111111111, \"#46039f\"], [0.2222222222222222, \"#7201a8\"], [0.3333333333333333, \"#9c179e\"], [0.4444444444444444, \"#bd3786\"], [0.5555555555555556, \"#d8576b\"], [0.6666666666666666, \"#ed7953\"], [0.7777777777777778, \"#fb9f3a\"], [0.8888888888888888, \"#fdca26\"], [1.0, \"#f0f921\"]], \"type\": \"histogram2dcontour\"}], \"mesh3d\": [{\"colorbar\": {\"outlinewidth\": 0, \"ticks\": \"\"}, \"type\": \"mesh3d\"}], \"parcoords\": [{\"line\": {\"colorbar\": {\"outlinewidth\": 0, \"ticks\": \"\"}}, \"type\": \"parcoords\"}], \"pie\": [{\"automargin\": true, \"type\": \"pie\"}], \"scatter\": [{\"marker\": {\"colorbar\": {\"outlinewidth\": 0, \"ticks\": \"\"}}, \"type\": \"scatter\"}], \"scatter3d\": [{\"line\": {\"colorbar\": {\"outlinewidth\": 0, \"ticks\": \"\"}}, \"marker\": {\"colorbar\": {\"outlinewidth\": 0, \"ticks\": \"\"}}, \"type\": \"scatter3d\"}], \"scattercarpet\": [{\"marker\": {\"colorbar\": {\"outlinewidth\": 0, \"ticks\": \"\"}}, \"type\": \"scattercarpet\"}], \"scattergeo\": [{\"marker\": {\"colorbar\": {\"outlinewidth\": 0, \"ticks\": \"\"}}, \"type\": \"scattergeo\"}], \"scattergl\": [{\"marker\": {\"colorbar\": {\"outlinewidth\": 0, \"ticks\": \"\"}}, \"type\": \"scattergl\"}], \"scattermapbox\": [{\"marker\": {\"colorbar\": {\"outlinewidth\": 0, \"ticks\": \"\"}}, \"type\": \"scattermapbox\"}], \"scatterpolar\": [{\"marker\": {\"colorbar\": {\"outlinewidth\": 0, \"ticks\": \"\"}}, \"type\": \"scatterpolar\"}], \"scatterpolargl\": [{\"marker\": {\"colorbar\": {\"outlinewidth\": 0, \"ticks\": \"\"}}, \"type\": \"scatterpolargl\"}], \"scatterternary\": [{\"marker\": {\"colorbar\": {\"outlinewidth\": 0, \"ticks\": \"\"}}, \"type\": \"scatterternary\"}], \"surface\": [{\"colorbar\": {\"outlinewidth\": 0, \"ticks\": \"\"}, \"colorscale\": [[0.0, \"#0d0887\"], [0.1111111111111111, \"#46039f\"], [0.2222222222222222, \"#7201a8\"], [0.3333333333333333, \"#9c179e\"], [0.4444444444444444, \"#bd3786\"], [0.5555555555555556, \"#d8576b\"], [0.6666666666666666, \"#ed7953\"], [0.7777777777777778, \"#fb9f3a\"], [0.8888888888888888, \"#fdca26\"], [1.0, \"#f0f921\"]], \"type\": \"surface\"}], \"table\": [{\"cells\": {\"fill\": {\"color\": \"#EBF0F8\"}, \"line\": {\"color\": \"white\"}}, \"header\": {\"fill\": {\"color\": \"#C8D4E3\"}, \"line\": {\"color\": \"white\"}}, \"type\": \"table\"}]}, \"layout\": {\"annotationdefaults\": {\"arrowcolor\": \"#2a3f5f\", \"arrowhead\": 0, \"arrowwidth\": 1}, \"coloraxis\": {\"colorbar\": {\"outlinewidth\": 0, \"ticks\": \"\"}}, \"colorscale\": {\"diverging\": [[0, \"#8e0152\"], [0.1, \"#c51b7d\"], [0.2, \"#de77ae\"], [0.3, \"#f1b6da\"], [0.4, \"#fde0ef\"], [0.5, \"#f7f7f7\"], [0.6, \"#e6f5d0\"], [0.7, \"#b8e186\"], [0.8, \"#7fbc41\"], [0.9, \"#4d9221\"], [1, \"#276419\"]], \"sequential\": [[0.0, \"#0d0887\"], [0.1111111111111111, \"#46039f\"], [0.2222222222222222, \"#7201a8\"], [0.3333333333333333, \"#9c179e\"], [0.4444444444444444, \"#bd3786\"], [0.5555555555555556, \"#d8576b\"], [0.6666666666666666, \"#ed7953\"], [0.7777777777777778, \"#fb9f3a\"], [0.8888888888888888, \"#fdca26\"], [1.0, \"#f0f921\"]], \"sequentialminus\": [[0.0, \"#0d0887\"], [0.1111111111111111, \"#46039f\"], [0.2222222222222222, \"#7201a8\"], [0.3333333333333333, \"#9c179e\"], [0.4444444444444444, \"#bd3786\"], [0.5555555555555556, \"#d8576b\"], [0.6666666666666666, \"#ed7953\"], [0.7777777777777778, \"#fb9f3a\"], [0.8888888888888888, \"#fdca26\"], [1.0, \"#f0f921\"]]}, \"colorway\": [\"#636efa\", \"#EF553B\", \"#00cc96\", \"#ab63fa\", \"#FFA15A\", \"#19d3f3\", \"#FF6692\", \"#B6E880\", \"#FF97FF\", \"#FECB52\"], \"font\": {\"color\": \"#2a3f5f\"}, \"geo\": {\"bgcolor\": \"white\", \"lakecolor\": \"white\", \"landcolor\": \"#E5ECF6\", \"showlakes\": true, \"showland\": true, \"subunitcolor\": \"white\"}, \"hoverlabel\": {\"align\": \"left\"}, \"hovermode\": \"closest\", \"mapbox\": {\"style\": \"light\"}, \"paper_bgcolor\": \"white\", \"plot_bgcolor\": \"#E5ECF6\", \"polar\": {\"angularaxis\": {\"gridcolor\": \"white\", \"linecolor\": \"white\", \"ticks\": \"\"}, \"bgcolor\": \"#E5ECF6\", \"radialaxis\": {\"gridcolor\": \"white\", \"linecolor\": \"white\", \"ticks\": \"\"}}, \"scene\": {\"xaxis\": {\"backgroundcolor\": \"#E5ECF6\", \"gridcolor\": \"white\", \"gridwidth\": 2, \"linecolor\": \"white\", \"showbackground\": true, \"ticks\": \"\", \"zerolinecolor\": \"white\"}, \"yaxis\": {\"backgroundcolor\": \"#E5ECF6\", \"gridcolor\": \"white\", \"gridwidth\": 2, \"linecolor\": \"white\", \"showbackground\": true, \"ticks\": \"\", \"zerolinecolor\": \"white\"}, \"zaxis\": {\"backgroundcolor\": \"#E5ECF6\", \"gridcolor\": \"white\", \"gridwidth\": 2, \"linecolor\": \"white\", \"showbackground\": true, \"ticks\": \"\", \"zerolinecolor\": \"white\"}}, \"shapedefaults\": {\"line\": {\"color\": \"#2a3f5f\"}}, \"ternary\": {\"aaxis\": {\"gridcolor\": \"white\", \"linecolor\": \"white\", \"ticks\": \"\"}, \"baxis\": {\"gridcolor\": \"white\", \"linecolor\": \"white\", \"ticks\": \"\"}, \"bgcolor\": \"#E5ECF6\", \"caxis\": {\"gridcolor\": \"white\", \"linecolor\": \"white\", \"ticks\": \"\"}}, \"title\": {\"x\": 0.05}, \"xaxis\": {\"automargin\": true, \"gridcolor\": \"white\", \"linecolor\": \"white\", \"ticks\": \"\", \"title\": {\"standoff\": 15}, \"zerolinecolor\": \"white\", \"zerolinewidth\": 2}, \"yaxis\": {\"automargin\": true, \"gridcolor\": \"white\", \"linecolor\": \"white\", \"ticks\": \"\", \"title\": {\"standoff\": 15}, \"zerolinecolor\": \"white\", \"zerolinewidth\": 2}}}},\n",
              "                        {\"responsive\": true}\n",
              "                    ).then(function(){\n",
              "                            \n",
              "var gd = document.getElementById('dfb40c5b-5366-46dc-af71-8aebfd6c9fe9');\n",
              "var x = new MutationObserver(function (mutations, observer) {{\n",
              "        var display = window.getComputedStyle(gd).display;\n",
              "        if (!display || display === 'none') {{\n",
              "            console.log([gd, 'removed!']);\n",
              "            Plotly.purge(gd);\n",
              "            observer.disconnect();\n",
              "        }}\n",
              "}});\n",
              "\n",
              "// Listen for the removal of the full notebook cells\n",
              "var notebookContainer = gd.closest('#notebook-container');\n",
              "if (notebookContainer) {{\n",
              "    x.observe(notebookContainer, {childList: true});\n",
              "}}\n",
              "\n",
              "// Listen for the clearing of the current output cell\n",
              "var outputEl = gd.closest('.output');\n",
              "if (outputEl) {{\n",
              "    x.observe(outputEl, {childList: true});\n",
              "}}\n",
              "\n",
              "                        })\n",
              "                };\n",
              "                \n",
              "            </script>\n",
              "        </div>\n",
              "</body>\n",
              "</html>"
            ]
          },
          "metadata": {
            "tags": []
          }
        }
      ]
    },
    {
      "cell_type": "markdown",
      "metadata": {
        "id": "yhHrta_etlaE"
      },
      "source": [
        "##### Arvore de decisão\n",
        "\n",
        "*   `Algoritmo de aprendizado supervisionado`\n",
        "*   `Explicabilidade do Modelo`\n",
        "*   `Simples`\n"
      ]
    },
    {
      "cell_type": "code",
      "metadata": {
        "id": "s6AMt-S1tklE"
      },
      "source": [
        "# importa o pacote DecisionTreeRegressor\n",
        "from sklearn.tree import DecisionTreeRegressor"
      ],
      "execution_count": null,
      "outputs": []
    },
    {
      "cell_type": "code",
      "metadata": {
        "id": "9GWqPqMatkiv"
      },
      "source": [
        "# cria um objeto do tipo DecisionTreeRegressor\n",
        "regressor = DecisionTreeRegressor()"
      ],
      "execution_count": null,
      "outputs": []
    },
    {
      "cell_type": "code",
      "metadata": {
        "id": "aesYvbgetkgX",
        "colab": {
          "base_uri": "https://localhost:8080/",
          "height": 119
        },
        "outputId": "b74e3890-9f9f-49e2-c127-4aa88850c78f"
      },
      "source": [
        "# treina o algoritmo\n",
        "regressor.fit(X_train, y_train)"
      ],
      "execution_count": null,
      "outputs": [
        {
          "output_type": "execute_result",
          "data": {
            "text/plain": [
              "DecisionTreeRegressor(ccp_alpha=0.0, criterion='mse', max_depth=None,\n",
              "                      max_features=None, max_leaf_nodes=None,\n",
              "                      min_impurity_decrease=0.0, min_impurity_split=None,\n",
              "                      min_samples_leaf=1, min_samples_split=2,\n",
              "                      min_weight_fraction_leaf=0.0, presort='deprecated',\n",
              "                      random_state=None, splitter='best')"
            ]
          },
          "metadata": {
            "tags": []
          },
          "execution_count": 59
        }
      ]
    },
    {
      "cell_type": "markdown",
      "metadata": {
        "id": "WHDUHZgHyztm"
      },
      "source": [
        "Avaliando o modelo de Árvore de Decisão"
      ]
    },
    {
      "cell_type": "code",
      "metadata": {
        "id": "3rnUwS6Vtkdw"
      },
      "source": [
        "# fazendo as previsões\n",
        "y_pred = regressor.predict(X_test)"
      ],
      "execution_count": null,
      "outputs": []
    },
    {
      "cell_type": "code",
      "metadata": {
        "id": "WPIrhQh_Lt4i"
      },
      "source": [
        "# Adicionando o valor do modelo no dataframe df_results\n",
        "df_results['valor_predito_arvore'] = y_pred"
      ],
      "execution_count": null,
      "outputs": []
    },
    {
      "cell_type": "code",
      "metadata": {
        "id": "z3bMNJK0LASe",
        "colab": {
          "base_uri": "https://localhost:8080/",
          "height": 359
        },
        "outputId": "33c324e9-cc63-4e29-ded0-3ffa557e506c"
      },
      "source": [
        "# visualiza o dataframe df_results\n",
        "df_results.head(10)"
      ],
      "execution_count": null,
      "outputs": [
        {
          "output_type": "execute_result",
          "data": {
            "text/html": [
              "<div>\n",
              "<style scoped>\n",
              "    .dataframe tbody tr th:only-of-type {\n",
              "        vertical-align: middle;\n",
              "    }\n",
              "\n",
              "    .dataframe tbody tr th {\n",
              "        vertical-align: top;\n",
              "    }\n",
              "\n",
              "    .dataframe thead th {\n",
              "        text-align: right;\n",
              "    }\n",
              "</style>\n",
              "<table border=\"1\" class=\"dataframe\">\n",
              "  <thead>\n",
              "    <tr style=\"text-align: right;\">\n",
              "      <th></th>\n",
              "      <th>valor_real</th>\n",
              "      <th>valor_predito_baseline</th>\n",
              "      <th>valor_predito_reg_linear</th>\n",
              "      <th>valor_predito_arvore</th>\n",
              "    </tr>\n",
              "  </thead>\n",
              "  <tbody>\n",
              "    <tr>\n",
              "      <th>0</th>\n",
              "      <td>18.5</td>\n",
              "      <td>20.130425</td>\n",
              "      <td>18.459170</td>\n",
              "      <td>17.8</td>\n",
              "    </tr>\n",
              "    <tr>\n",
              "      <th>1</th>\n",
              "      <td>12.7</td>\n",
              "      <td>20.130425</td>\n",
              "      <td>12.279894</td>\n",
              "      <td>23.2</td>\n",
              "    </tr>\n",
              "    <tr>\n",
              "      <th>2</th>\n",
              "      <td>21.4</td>\n",
              "      <td>20.130425</td>\n",
              "      <td>24.588307</td>\n",
              "      <td>24.5</td>\n",
              "    </tr>\n",
              "    <tr>\n",
              "      <th>3</th>\n",
              "      <td>23.7</td>\n",
              "      <td>20.130425</td>\n",
              "      <td>28.254693</td>\n",
              "      <td>24.3</td>\n",
              "    </tr>\n",
              "    <tr>\n",
              "      <th>4</th>\n",
              "      <td>20.8</td>\n",
              "      <td>20.130425</td>\n",
              "      <td>18.195439</td>\n",
              "      <td>23.0</td>\n",
              "    </tr>\n",
              "    <tr>\n",
              "      <th>5</th>\n",
              "      <td>25.0</td>\n",
              "      <td>20.130425</td>\n",
              "      <td>21.630648</td>\n",
              "      <td>27.5</td>\n",
              "    </tr>\n",
              "    <tr>\n",
              "      <th>6</th>\n",
              "      <td>9.7</td>\n",
              "      <td>20.130425</td>\n",
              "      <td>11.319198</td>\n",
              "      <td>7.2</td>\n",
              "    </tr>\n",
              "    <tr>\n",
              "      <th>7</th>\n",
              "      <td>14.9</td>\n",
              "      <td>20.130425</td>\n",
              "      <td>14.561032</td>\n",
              "      <td>17.8</td>\n",
              "    </tr>\n",
              "    <tr>\n",
              "      <th>8</th>\n",
              "      <td>34.9</td>\n",
              "      <td>35.719231</td>\n",
              "      <td>31.623717</td>\n",
              "      <td>36.4</td>\n",
              "    </tr>\n",
              "    <tr>\n",
              "      <th>9</th>\n",
              "      <td>31.6</td>\n",
              "      <td>35.719231</td>\n",
              "      <td>29.588133</td>\n",
              "      <td>28.7</td>\n",
              "    </tr>\n",
              "  </tbody>\n",
              "</table>\n",
              "</div>"
            ],
            "text/plain": [
              "   valor_real  ...  valor_predito_arvore\n",
              "0        18.5  ...                  17.8\n",
              "1        12.7  ...                  23.2\n",
              "2        21.4  ...                  24.5\n",
              "3        23.7  ...                  24.3\n",
              "4        20.8  ...                  23.0\n",
              "5        25.0  ...                  27.5\n",
              "6         9.7  ...                   7.2\n",
              "7        14.9  ...                  17.8\n",
              "8        34.9  ...                  36.4\n",
              "9        31.6  ...                  28.7\n",
              "\n",
              "[10 rows x 4 columns]"
            ]
          },
          "metadata": {
            "tags": []
          },
          "execution_count": 62
        }
      ]
    },
    {
      "cell_type": "code",
      "metadata": {
        "id": "PV-RAtLPN12A",
        "colab": {
          "base_uri": "https://localhost:8080/",
          "height": 542
        },
        "outputId": "534f320d-a35a-4134-9610-034bb2f4adf5"
      },
      "source": [
        "import plotly.graph_objects as go\n",
        "\n",
        "# cria uma figura\n",
        "fig = go.Figure()\n",
        "\n",
        "# Linha com os dados de teste\n",
        "fig.add_trace(go.Scatter(x=df_results.index,\n",
        "                         y=df_results.valor_real,\n",
        "                         mode='lines+markers',\n",
        "                         name='Valor Real'))\n",
        "\n",
        "# Linha com os dados de teste\n",
        "fig.add_trace(go.Scatter(x=df_results.index,\n",
        "                         y=df_results.valor_predito_baseline,\n",
        "                         mode='lines+markers',\n",
        "                         name='Valor Predito Baseline'))\n",
        "\n",
        "\n",
        "# Linha com os dados de teste\n",
        "fig.add_trace(go.Scatter(x=df_results.index,\n",
        "                         y=df_results.valor_predito_reg_linear,\n",
        "                         mode='lines+markers',\n",
        "                         name='Valor Predito Reg Liner'))\n",
        "\n",
        "# Linha com os dados preditos\n",
        "fig.add_trace(go.Scatter(x=df_results.index,\n",
        "                         y=df_results.valor_predito_arvore,\n",
        "                         mode='lines+markers',\n",
        "                         name='Valor Predito Arvore'))\n",
        "# Plota a figura\n",
        "fig.show()"
      ],
      "execution_count": null,
      "outputs": [
        {
          "output_type": "display_data",
          "data": {
            "text/html": [
              "<html>\n",
              "<head><meta charset=\"utf-8\" /></head>\n",
              "<body>\n",
              "    <div>\n",
              "            <script src=\"https://cdnjs.cloudflare.com/ajax/libs/mathjax/2.7.5/MathJax.js?config=TeX-AMS-MML_SVG\"></script><script type=\"text/javascript\">if (window.MathJax) {MathJax.Hub.Config({SVG: {font: \"STIX-Web\"}});}</script>\n",
              "                <script type=\"text/javascript\">window.PlotlyConfig = {MathJaxConfig: 'local'};</script>\n",
              "        <script src=\"https://cdn.plot.ly/plotly-latest.min.js\"></script>    \n",
              "            <div id=\"6c65c640-0345-42de-8fb2-e3fd12a8be94\" class=\"plotly-graph-div\" style=\"height:525px; width:100%;\"></div>\n",
              "            <script type=\"text/javascript\">\n",
              "                \n",
              "                    window.PLOTLYENV=window.PLOTLYENV || {};\n",
              "                    \n",
              "                if (document.getElementById(\"6c65c640-0345-42de-8fb2-e3fd12a8be94\")) {\n",
              "                    Plotly.newPlot(\n",
              "                        '6c65c640-0345-42de-8fb2-e3fd12a8be94',\n",
              "                        [{\"mode\": \"lines+markers\", \"name\": \"Valor Real\", \"type\": \"scatter\", \"x\": [0, 1, 2, 3, 4, 5, 6, 7, 8, 9, 10, 11, 12, 13, 14, 15, 16, 17, 18, 19, 20, 21, 22, 23, 24, 25, 26, 27, 28, 29, 30, 31, 32, 33, 34, 35, 36, 37, 38, 39, 40, 41, 42, 43, 44, 45, 46, 47, 48, 49, 50, 51, 52, 53, 54, 55, 56, 57, 58, 59, 60, 61, 62, 63, 64, 65, 66, 67, 68, 69, 70, 71, 72, 73, 74, 75, 76, 77, 78, 79, 80, 81, 82, 83, 84, 85, 86, 87, 88, 89, 90, 91, 92, 93, 94, 95, 96, 97], \"y\": [18.5, 12.7, 21.4, 23.7, 20.8, 25.0, 9.7, 14.9, 34.9, 31.6, 24.7, 22.9, 33.2, 9.6, 30.5, 19.2, 30.3, 15.4, 24.3, 24.4, 21.5, 27.9, 17.3, 21.4, 21.7, 24.4, 8.5, 15.0, 11.5, 13.6, 24.4, 7.4, 44.0, 21.7, 19.3, 16.1, 29.0, 26.4, 20.3, 10.8, 5.0, 19.6, 23.1, 23.9, 17.5, 13.5, 48.8, 26.2, 19.7, 14.2, 11.0, 19.0, 21.7, 18.4, 33.4, 14.0, 24.7, 43.8, 48.5, 25.0, 22.6, 21.2, 22.4, 23.8, 19.9, 16.5, 16.7, 17.2, 13.1, 19.1, 18.5, 22.2, 22.6, 19.4, 15.2, 19.8, 19.4, 21.6, 18.2, 19.6, 19.6, 23.0, 7.0, 17.6, 25.0, 41.3, 24.1, 22.6, 18.7, 22.6, 13.1, 22.2, 16.1, 39.8, 25.0, 20.5, 10.4, 20.4]}, {\"mode\": \"lines+markers\", \"name\": \"Valor Predito Baseline\", \"type\": \"scatter\", \"x\": [0, 1, 2, 3, 4, 5, 6, 7, 8, 9, 10, 11, 12, 13, 14, 15, 16, 17, 18, 19, 20, 21, 22, 23, 24, 25, 26, 27, 28, 29, 30, 31, 32, 33, 34, 35, 36, 37, 38, 39, 40, 41, 42, 43, 44, 45, 46, 47, 48, 49, 50, 51, 52, 53, 54, 55, 56, 57, 58, 59, 60, 61, 62, 63, 64, 65, 66, 67, 68, 69, 70, 71, 72, 73, 74, 75, 76, 77, 78, 79, 80, 81, 82, 83, 84, 85, 86, 87, 88, 89, 90, 91, 92, 93, 94, 95, 96, 97], \"y\": [20.1304245283019, 20.1304245283019, 20.1304245283019, 20.1304245283019, 20.1304245283019, 20.1304245283019, 20.1304245283019, 20.1304245283019, 35.71923076923077, 35.71923076923077, 20.1304245283019, 20.1304245283019, 35.71923076923077, 20.1304245283019, 20.1304245283019, 20.1304245283019, 35.71923076923077, 20.1304245283019, 20.1304245283019, 20.1304245283019, 20.1304245283019, 20.1304245283019, 20.1304245283019, 20.1304245283019, 20.1304245283019, 20.1304245283019, 20.1304245283019, 35.71923076923077, 20.1304245283019, 20.1304245283019, 20.1304245283019, 20.1304245283019, 35.71923076923077, 20.1304245283019, 20.1304245283019, 14.921428571428574, 35.71923076923077, 20.1304245283019, 20.1304245283019, 20.1304245283019, 20.1304245283019, 20.1304245283019, 20.1304245283019, 20.1304245283019, 20.1304245283019, 20.1304245283019, 35.71923076923077, 20.1304245283019, 20.1304245283019, 20.1304245283019, 20.1304245283019, 20.1304245283019, 20.1304245283019, 20.1304245283019, 35.71923076923077, 20.1304245283019, 20.1304245283019, 35.71923076923077, 35.71923076923077, 20.1304245283019, 20.1304245283019, 20.1304245283019, 20.1304245283019, 20.1304245283019, 20.1304245283019, 20.1304245283019, 20.1304245283019, 20.1304245283019, 20.1304245283019, 20.1304245283019, 20.1304245283019, 20.1304245283019, 20.1304245283019, 20.1304245283019, 20.1304245283019, 20.1304245283019, 20.1304245283019, 20.1304245283019, 20.1304245283019, 20.1304245283019, 20.1304245283019, 20.1304245283019, 14.921428571428574, 20.1304245283019, 20.1304245283019, 20.1304245283019, 20.1304245283019, 20.1304245283019, 20.1304245283019, 20.1304245283019, 20.1304245283019, 20.1304245283019, 20.1304245283019, 35.71923076923077, 35.71923076923077, 20.1304245283019, 20.1304245283019, 20.1304245283019]}, {\"mode\": \"lines+markers\", \"name\": \"Valor Predito Reg Liner\", \"type\": \"scatter\", \"x\": [0, 1, 2, 3, 4, 5, 6, 7, 8, 9, 10, 11, 12, 13, 14, 15, 16, 17, 18, 19, 20, 21, 22, 23, 24, 25, 26, 27, 28, 29, 30, 31, 32, 33, 34, 35, 36, 37, 38, 39, 40, 41, 42, 43, 44, 45, 46, 47, 48, 49, 50, 51, 52, 53, 54, 55, 56, 57, 58, 59, 60, 61, 62, 63, 64, 65, 66, 67, 68, 69, 70, 71, 72, 73, 74, 75, 76, 77, 78, 79, 80, 81, 82, 83, 84, 85, 86, 87, 88, 89, 90, 91, 92, 93, 94, 95, 96, 97], \"y\": [18.459169620175622, 12.27989416415651, 24.588306565387423, 28.254693280668697, 18.195438537343797, 21.630648235689588, 11.31919803094615, 14.561032219959813, 31.623716773040094, 29.588132607557007, 28.60393601525742, 26.482125815783224, 29.966034207781306, 14.553173045326115, 30.278248711999723, 24.63003915876186, 33.23345824950145, 16.931248570273684, 24.99446421909778, 26.466441440860127, 22.813639524070087, 27.103390731816347, 12.524996632311225, 19.37929751974933, 21.581545971002537, 23.877006702039054, 14.085855797820356, 21.230146967559786, 13.643973122717863, 14.716712882017276, 25.80016154201209, 7.867171947538868, 33.02051098404501, 26.045218917809276, 24.03678166511637, 17.775403456686533, 33.22709163662169, 27.517944398741662, 21.187383562583435, 10.957868727277681, 7.507685772949113, 19.418586584539916, 27.393339951286585, 23.8410182563615, 24.74227083856386, 16.990723698020265, 35.47974424493103, 26.159912917617135, 22.49691218178387, 17.904788196114122, 14.154116782257066, 21.181885684574734, 20.624525388320667, 21.177587641065532, 29.49552122400647, 14.23004112679746, 26.544112805265772, 31.0880450668066, 33.726935599253906, 24.891581735351775, 24.187944371239205, 23.864725908860084, 22.05278167361648, 21.38994045785447, 18.845951646544716, 27.841582054943295, 17.93632331758325, 13.823897089289773, 17.676139911036124, 19.29463827968289, 20.582306559638138, 25.390649846634087, 26.23596042344075, 18.89486986816471, 14.74830291774068, 26.818675625015647, 24.878238751496404, 25.213916812117624, 21.19251508313218, 20.512703338801487, 18.270477629632566, 21.37039101688553, -0.09444264955234871, 20.958291503542682, 28.552537591219135, 28.0218620799915, 27.66690749195503, 21.458421647169153, 21.377824334771667, 27.621006503404928, 16.075247361056483, 26.092542124103044, 17.756087552806495, 29.38959640373895, 25.474439973258512, 15.839468986221018, 8.44698583407828, 20.760205429443275]}, {\"mode\": \"lines+markers\", \"name\": \"Valor Predito Arvore\", \"type\": \"scatter\", \"x\": [0, 1, 2, 3, 4, 5, 6, 7, 8, 9, 10, 11, 12, 13, 14, 15, 16, 17, 18, 19, 20, 21, 22, 23, 24, 25, 26, 27, 28, 29, 30, 31, 32, 33, 34, 35, 36, 37, 38, 39, 40, 41, 42, 43, 44, 45, 46, 47, 48, 49, 50, 51, 52, 53, 54, 55, 56, 57, 58, 59, 60, 61, 62, 63, 64, 65, 66, 67, 68, 69, 70, 71, 72, 73, 74, 75, 76, 77, 78, 79, 80, 81, 82, 83, 84, 85, 86, 87, 88, 89, 90, 91, 92, 93, 94, 95, 96, 97], \"y\": [17.8, 23.2, 24.5, 24.3, 23.0, 27.5, 7.2, 17.8, 36.4, 28.7, 24.5, 22.2, 34.9, 14.6, 29.8, 23.1, 34.6, 13.4, 24.5, 25.0, 15.3, 28.5, 15.7, 21.4, 23.4, 19.4, 12.1, 31.0, 12.8, 16.2, 22.2, 10.5, 45.4, 23.0, 22.8, 14.5, 32.9, 23.3, 18.9, 8.4, 6.3, 19.2, 24.5, 22.2, 17.2, 14.1, 43.1, 22.8, 17.1, 22.4, 12.1, 19.5, 19.9, 21.7, 36.1, 14.4, 21.2, 37.3, 34.7, 23.3, 28.7, 20.1, 27.5, 19.1, 15.2, 22.0, 20.1, 27.5, 15.6, 20.0, 20.0, 20.7, 20.5, 22.4, 14.3, 19.4, 23.0, 23.8, 25.0, 15.3, 19.3, 20.6, 8.5, 17.4, 34.9, 27.0, 23.7, 19.3, 19.6, 30.1, 12.7, 22.0, 18.1, 37.9, 21.9, 22.5, 8.5, 19.3]}],\n",
              "                        {\"template\": {\"data\": {\"bar\": [{\"error_x\": {\"color\": \"#2a3f5f\"}, \"error_y\": {\"color\": \"#2a3f5f\"}, \"marker\": {\"line\": {\"color\": \"#E5ECF6\", \"width\": 0.5}}, \"type\": \"bar\"}], \"barpolar\": [{\"marker\": {\"line\": {\"color\": \"#E5ECF6\", \"width\": 0.5}}, \"type\": \"barpolar\"}], \"carpet\": [{\"aaxis\": {\"endlinecolor\": \"#2a3f5f\", \"gridcolor\": \"white\", \"linecolor\": \"white\", \"minorgridcolor\": \"white\", \"startlinecolor\": \"#2a3f5f\"}, \"baxis\": {\"endlinecolor\": \"#2a3f5f\", \"gridcolor\": \"white\", \"linecolor\": \"white\", \"minorgridcolor\": \"white\", \"startlinecolor\": \"#2a3f5f\"}, \"type\": \"carpet\"}], \"choropleth\": [{\"colorbar\": {\"outlinewidth\": 0, \"ticks\": \"\"}, \"type\": \"choropleth\"}], \"contour\": [{\"colorbar\": {\"outlinewidth\": 0, \"ticks\": \"\"}, \"colorscale\": [[0.0, \"#0d0887\"], [0.1111111111111111, \"#46039f\"], [0.2222222222222222, \"#7201a8\"], [0.3333333333333333, \"#9c179e\"], [0.4444444444444444, \"#bd3786\"], [0.5555555555555556, \"#d8576b\"], [0.6666666666666666, \"#ed7953\"], [0.7777777777777778, \"#fb9f3a\"], [0.8888888888888888, \"#fdca26\"], [1.0, \"#f0f921\"]], \"type\": \"contour\"}], \"contourcarpet\": [{\"colorbar\": {\"outlinewidth\": 0, \"ticks\": \"\"}, \"type\": \"contourcarpet\"}], \"heatmap\": [{\"colorbar\": {\"outlinewidth\": 0, \"ticks\": \"\"}, \"colorscale\": [[0.0, \"#0d0887\"], [0.1111111111111111, \"#46039f\"], [0.2222222222222222, \"#7201a8\"], [0.3333333333333333, \"#9c179e\"], [0.4444444444444444, \"#bd3786\"], [0.5555555555555556, \"#d8576b\"], [0.6666666666666666, \"#ed7953\"], [0.7777777777777778, \"#fb9f3a\"], [0.8888888888888888, \"#fdca26\"], [1.0, \"#f0f921\"]], \"type\": \"heatmap\"}], \"heatmapgl\": [{\"colorbar\": {\"outlinewidth\": 0, \"ticks\": \"\"}, \"colorscale\": [[0.0, \"#0d0887\"], [0.1111111111111111, \"#46039f\"], [0.2222222222222222, \"#7201a8\"], [0.3333333333333333, \"#9c179e\"], [0.4444444444444444, \"#bd3786\"], [0.5555555555555556, \"#d8576b\"], [0.6666666666666666, \"#ed7953\"], [0.7777777777777778, \"#fb9f3a\"], [0.8888888888888888, \"#fdca26\"], [1.0, \"#f0f921\"]], \"type\": \"heatmapgl\"}], \"histogram\": [{\"marker\": {\"colorbar\": {\"outlinewidth\": 0, \"ticks\": \"\"}}, \"type\": \"histogram\"}], \"histogram2d\": [{\"colorbar\": {\"outlinewidth\": 0, \"ticks\": \"\"}, \"colorscale\": [[0.0, \"#0d0887\"], [0.1111111111111111, \"#46039f\"], [0.2222222222222222, \"#7201a8\"], [0.3333333333333333, \"#9c179e\"], [0.4444444444444444, \"#bd3786\"], [0.5555555555555556, \"#d8576b\"], [0.6666666666666666, \"#ed7953\"], [0.7777777777777778, \"#fb9f3a\"], [0.8888888888888888, \"#fdca26\"], [1.0, \"#f0f921\"]], \"type\": \"histogram2d\"}], \"histogram2dcontour\": [{\"colorbar\": {\"outlinewidth\": 0, \"ticks\": \"\"}, \"colorscale\": [[0.0, \"#0d0887\"], [0.1111111111111111, \"#46039f\"], [0.2222222222222222, \"#7201a8\"], [0.3333333333333333, \"#9c179e\"], [0.4444444444444444, \"#bd3786\"], [0.5555555555555556, \"#d8576b\"], [0.6666666666666666, \"#ed7953\"], [0.7777777777777778, \"#fb9f3a\"], [0.8888888888888888, \"#fdca26\"], [1.0, \"#f0f921\"]], \"type\": \"histogram2dcontour\"}], \"mesh3d\": [{\"colorbar\": {\"outlinewidth\": 0, \"ticks\": \"\"}, \"type\": \"mesh3d\"}], \"parcoords\": [{\"line\": {\"colorbar\": {\"outlinewidth\": 0, \"ticks\": \"\"}}, \"type\": \"parcoords\"}], \"pie\": [{\"automargin\": true, \"type\": \"pie\"}], \"scatter\": [{\"marker\": {\"colorbar\": {\"outlinewidth\": 0, \"ticks\": \"\"}}, \"type\": \"scatter\"}], \"scatter3d\": [{\"line\": {\"colorbar\": {\"outlinewidth\": 0, \"ticks\": \"\"}}, \"marker\": {\"colorbar\": {\"outlinewidth\": 0, \"ticks\": \"\"}}, \"type\": \"scatter3d\"}], \"scattercarpet\": [{\"marker\": {\"colorbar\": {\"outlinewidth\": 0, \"ticks\": \"\"}}, \"type\": \"scattercarpet\"}], \"scattergeo\": [{\"marker\": {\"colorbar\": {\"outlinewidth\": 0, \"ticks\": \"\"}}, \"type\": \"scattergeo\"}], \"scattergl\": [{\"marker\": {\"colorbar\": {\"outlinewidth\": 0, \"ticks\": \"\"}}, \"type\": \"scattergl\"}], \"scattermapbox\": [{\"marker\": {\"colorbar\": {\"outlinewidth\": 0, \"ticks\": \"\"}}, \"type\": \"scattermapbox\"}], \"scatterpolar\": [{\"marker\": {\"colorbar\": {\"outlinewidth\": 0, \"ticks\": \"\"}}, \"type\": \"scatterpolar\"}], \"scatterpolargl\": [{\"marker\": {\"colorbar\": {\"outlinewidth\": 0, \"ticks\": \"\"}}, \"type\": \"scatterpolargl\"}], \"scatterternary\": [{\"marker\": {\"colorbar\": {\"outlinewidth\": 0, \"ticks\": \"\"}}, \"type\": \"scatterternary\"}], \"surface\": [{\"colorbar\": {\"outlinewidth\": 0, \"ticks\": \"\"}, \"colorscale\": [[0.0, \"#0d0887\"], [0.1111111111111111, \"#46039f\"], [0.2222222222222222, \"#7201a8\"], [0.3333333333333333, \"#9c179e\"], [0.4444444444444444, \"#bd3786\"], [0.5555555555555556, \"#d8576b\"], [0.6666666666666666, \"#ed7953\"], [0.7777777777777778, \"#fb9f3a\"], [0.8888888888888888, \"#fdca26\"], [1.0, \"#f0f921\"]], \"type\": \"surface\"}], \"table\": [{\"cells\": {\"fill\": {\"color\": \"#EBF0F8\"}, \"line\": {\"color\": \"white\"}}, \"header\": {\"fill\": {\"color\": \"#C8D4E3\"}, \"line\": {\"color\": \"white\"}}, \"type\": \"table\"}]}, \"layout\": {\"annotationdefaults\": {\"arrowcolor\": \"#2a3f5f\", \"arrowhead\": 0, \"arrowwidth\": 1}, \"coloraxis\": {\"colorbar\": {\"outlinewidth\": 0, \"ticks\": \"\"}}, \"colorscale\": {\"diverging\": [[0, \"#8e0152\"], [0.1, \"#c51b7d\"], [0.2, \"#de77ae\"], [0.3, \"#f1b6da\"], [0.4, \"#fde0ef\"], [0.5, \"#f7f7f7\"], [0.6, \"#e6f5d0\"], [0.7, \"#b8e186\"], [0.8, \"#7fbc41\"], [0.9, \"#4d9221\"], [1, \"#276419\"]], \"sequential\": [[0.0, \"#0d0887\"], [0.1111111111111111, \"#46039f\"], [0.2222222222222222, \"#7201a8\"], [0.3333333333333333, \"#9c179e\"], [0.4444444444444444, \"#bd3786\"], [0.5555555555555556, \"#d8576b\"], [0.6666666666666666, \"#ed7953\"], [0.7777777777777778, \"#fb9f3a\"], [0.8888888888888888, \"#fdca26\"], [1.0, \"#f0f921\"]], \"sequentialminus\": [[0.0, \"#0d0887\"], [0.1111111111111111, \"#46039f\"], [0.2222222222222222, \"#7201a8\"], [0.3333333333333333, \"#9c179e\"], [0.4444444444444444, \"#bd3786\"], [0.5555555555555556, \"#d8576b\"], [0.6666666666666666, \"#ed7953\"], [0.7777777777777778, \"#fb9f3a\"], [0.8888888888888888, \"#fdca26\"], [1.0, \"#f0f921\"]]}, \"colorway\": [\"#636efa\", \"#EF553B\", \"#00cc96\", \"#ab63fa\", \"#FFA15A\", \"#19d3f3\", \"#FF6692\", \"#B6E880\", \"#FF97FF\", \"#FECB52\"], \"font\": {\"color\": \"#2a3f5f\"}, \"geo\": {\"bgcolor\": \"white\", \"lakecolor\": \"white\", \"landcolor\": \"#E5ECF6\", \"showlakes\": true, \"showland\": true, \"subunitcolor\": \"white\"}, \"hoverlabel\": {\"align\": \"left\"}, \"hovermode\": \"closest\", \"mapbox\": {\"style\": \"light\"}, \"paper_bgcolor\": \"white\", \"plot_bgcolor\": \"#E5ECF6\", \"polar\": {\"angularaxis\": {\"gridcolor\": \"white\", \"linecolor\": \"white\", \"ticks\": \"\"}, \"bgcolor\": \"#E5ECF6\", \"radialaxis\": {\"gridcolor\": \"white\", \"linecolor\": \"white\", \"ticks\": \"\"}}, \"scene\": {\"xaxis\": {\"backgroundcolor\": \"#E5ECF6\", \"gridcolor\": \"white\", \"gridwidth\": 2, \"linecolor\": \"white\", \"showbackground\": true, \"ticks\": \"\", \"zerolinecolor\": \"white\"}, \"yaxis\": {\"backgroundcolor\": \"#E5ECF6\", \"gridcolor\": \"white\", \"gridwidth\": 2, \"linecolor\": \"white\", \"showbackground\": true, \"ticks\": \"\", \"zerolinecolor\": \"white\"}, \"zaxis\": {\"backgroundcolor\": \"#E5ECF6\", \"gridcolor\": \"white\", \"gridwidth\": 2, \"linecolor\": \"white\", \"showbackground\": true, \"ticks\": \"\", \"zerolinecolor\": \"white\"}}, \"shapedefaults\": {\"line\": {\"color\": \"#2a3f5f\"}}, \"ternary\": {\"aaxis\": {\"gridcolor\": \"white\", \"linecolor\": \"white\", \"ticks\": \"\"}, \"baxis\": {\"gridcolor\": \"white\", \"linecolor\": \"white\", \"ticks\": \"\"}, \"bgcolor\": \"#E5ECF6\", \"caxis\": {\"gridcolor\": \"white\", \"linecolor\": \"white\", \"ticks\": \"\"}}, \"title\": {\"x\": 0.05}, \"xaxis\": {\"automargin\": true, \"gridcolor\": \"white\", \"linecolor\": \"white\", \"ticks\": \"\", \"title\": {\"standoff\": 15}, \"zerolinecolor\": \"white\", \"zerolinewidth\": 2}, \"yaxis\": {\"automargin\": true, \"gridcolor\": \"white\", \"linecolor\": \"white\", \"ticks\": \"\", \"title\": {\"standoff\": 15}, \"zerolinecolor\": \"white\", \"zerolinewidth\": 2}}}},\n",
              "                        {\"responsive\": true}\n",
              "                    ).then(function(){\n",
              "                            \n",
              "var gd = document.getElementById('6c65c640-0345-42de-8fb2-e3fd12a8be94');\n",
              "var x = new MutationObserver(function (mutations, observer) {{\n",
              "        var display = window.getComputedStyle(gd).display;\n",
              "        if (!display || display === 'none') {{\n",
              "            console.log([gd, 'removed!']);\n",
              "            Plotly.purge(gd);\n",
              "            observer.disconnect();\n",
              "        }}\n",
              "}});\n",
              "\n",
              "// Listen for the removal of the full notebook cells\n",
              "var notebookContainer = gd.closest('#notebook-container');\n",
              "if (notebookContainer) {{\n",
              "    x.observe(notebookContainer, {childList: true});\n",
              "}}\n",
              "\n",
              "// Listen for the clearing of the current output cell\n",
              "var outputEl = gd.closest('.output');\n",
              "if (outputEl) {{\n",
              "    x.observe(outputEl, {childList: true});\n",
              "}}\n",
              "\n",
              "                        })\n",
              "                };\n",
              "                \n",
              "            </script>\n",
              "        </div>\n",
              "</body>\n",
              "</html>"
            ]
          },
          "metadata": {
            "tags": []
          }
        }
      ]
    },
    {
      "cell_type": "markdown",
      "metadata": {
        "id": "exqvETJrM0BB"
      },
      "source": [
        "Avaliação do Modelo"
      ]
    },
    {
      "cell_type": "code",
      "metadata": {
        "id": "VpR1FT389JN_"
      },
      "source": [
        "# calcula a métrica rmse #testar a diferença de acerto \n",
        "rmse = (np.sqrt(mean_squared_error(y_test, y_pred)))"
      ],
      "execution_count": null,
      "outputs": []
    },
    {
      "cell_type": "code",
      "metadata": {
        "id": "cEBz7JpJyYcm",
        "colab": {
          "base_uri": "https://localhost:8080/",
          "height": 68
        },
        "outputId": "cd973a37-1c1b-4b93-c8d2-93433f081844"
      },
      "source": [
        "# imprime a performance do modelo\n",
        "print ('Performance do modelo avaliado com os dados de teste:')\n",
        "print('\\nRMSE é: {} '.format(rmse))"
      ],
      "execution_count": null,
      "outputs": [
        {
          "output_type": "stream",
          "text": [
            "Performance do modelo avaliado com os dados de teste:\n",
            "\n",
            "RMSE é: 4.288427712448696 \n"
          ],
          "name": "stdout"
        }
      ]
    },
    {
      "cell_type": "markdown",
      "metadata": {
        "id": "IPf53dk8cQ4A"
      },
      "source": [
        "#### Random Forest\n",
        "\n",
        "- `Método Ensemble`\n",
        "- `Mais robustez para os modelos`"
      ]
    },
    {
      "cell_type": "code",
      "metadata": {
        "id": "dXpfe5pfWcxs"
      },
      "source": [
        "# Importa o método RandomForestRegressor\n",
        "from sklearn.ensemble import RandomForestRegressor"
      ],
      "execution_count": null,
      "outputs": []
    },
    {
      "cell_type": "code",
      "metadata": {
        "id": "G-TcDYH6WcqX"
      },
      "source": [
        "# cria o objeto rf_regressor\n",
        "rf_regressor = RandomForestRegressor()"
      ],
      "execution_count": null,
      "outputs": []
    },
    {
      "cell_type": "code",
      "metadata": {
        "id": "PXwdpDXdWcm5",
        "colab": {
          "base_uri": "https://localhost:8080/",
          "height": 136
        },
        "outputId": "9f6f7c94-491c-4d9f-a15d-138081acc2b7"
      },
      "source": [
        "# treina o algoritmo\n",
        "rf_regressor.fit(X_train, y_train)"
      ],
      "execution_count": null,
      "outputs": [
        {
          "output_type": "execute_result",
          "data": {
            "text/plain": [
              "RandomForestRegressor(bootstrap=True, ccp_alpha=0.0, criterion='mse',\n",
              "                      max_depth=None, max_features='auto', max_leaf_nodes=None,\n",
              "                      max_samples=None, min_impurity_decrease=0.0,\n",
              "                      min_impurity_split=None, min_samples_leaf=1,\n",
              "                      min_samples_split=2, min_weight_fraction_leaf=0.0,\n",
              "                      n_estimators=100, n_jobs=None, oob_score=False,\n",
              "                      random_state=None, verbose=0, warm_start=False)"
            ]
          },
          "metadata": {
            "tags": []
          },
          "execution_count": 68
        }
      ]
    },
    {
      "cell_type": "code",
      "metadata": {
        "id": "YJp4BOStc5bS"
      },
      "source": [
        "# avaliação do modelo nos dados de teste\n",
        "y_pred = rf_regressor.predict(X_test)"
      ],
      "execution_count": null,
      "outputs": []
    },
    {
      "cell_type": "code",
      "metadata": {
        "id": "2jH8pO-PdD3I"
      },
      "source": [
        "# adiciona os resultados no dataframe df_results\n",
        "df_results['valor_predito_random_forest'] = rf_regressor.predict(X_test)"
      ],
      "execution_count": null,
      "outputs": []
    },
    {
      "cell_type": "code",
      "metadata": {
        "id": "WLxMyfruc5UO"
      },
      "source": [
        "# calcula a métrica rmse\n",
        "rmse = (np.sqrt(mean_squared_error(y_test, y_pred)))"
      ],
      "execution_count": null,
      "outputs": []
    },
    {
      "cell_type": "code",
      "metadata": {
        "id": "V7Yt6UAxc5MQ",
        "colab": {
          "base_uri": "https://localhost:8080/",
          "height": 68
        },
        "outputId": "799f1539-358f-4af9-c3f6-06e6d24d0a53"
      },
      "source": [
        "# imprime a performance do modelo\n",
        "print ('Performance do modelo avaliado com os dados de teste:')\n",
        "print('\\nRMSE é: {} '.format(rmse))"
      ],
      "execution_count": null,
      "outputs": [
        {
          "output_type": "stream",
          "text": [
            "Performance do modelo avaliado com os dados de teste:\n",
            "\n",
            "RMSE é: 3.201206102425159 \n"
          ],
          "name": "stdout"
        }
      ]
    },
    {
      "cell_type": "code",
      "metadata": {
        "id": "xKy2c8eidpdW",
        "colab": {
          "base_uri": "https://localhost:8080/",
          "height": 542
        },
        "outputId": "9941117d-e7ab-474b-d35b-aabad0cc5cab"
      },
      "source": [
        "# plota os resultados dos modelos e o valor real.\n",
        "import plotly.graph_objects as go\n",
        "\n",
        "# Create traces\n",
        "fig = go.Figure()\n",
        "\n",
        "# Linha com os dados de teste\n",
        "fig.add_trace(go.Scatter(x=df_results.index,\n",
        "                         y=df_results.valor_real,\n",
        "                         mode='markers',\n",
        "                         name='Valor Real'))\n",
        "\n",
        "# Linha com os dados da baseline\n",
        "fig.add_trace(go.Scatter(x=df_results.index,\n",
        "                         y=df_results.valor_predito_baseline,\n",
        "                         mode='lines+markers',\n",
        "                         line = dict(color = '#FF00FF'),\n",
        "                         name='Valor da Baseline'))\n",
        "\n",
        "# Linha com os dados preditos pela arvore\n",
        "fig.add_trace(go.Scatter(x=df_results.index,\n",
        "                         y=df_results.valor_predito_arvore,\n",
        "                         mode='lines',\n",
        "                         line = dict(color = '#B2FF66'),\n",
        "                         name='Valor Predito Árvore'))\n",
        "\n",
        "# Linha com os dados preditos pela regressão linear\n",
        "fig.add_trace(go.Scatter(x=df_results.index,\n",
        "                         y=df_results.valor_predito_reg_linear,\n",
        "                         mode='lines',\n",
        "                         line = dict(color = '#17BECF'),\n",
        "                         name='Valor Predito Regressão Linear'))\n",
        "\n",
        "\n",
        "# Linha com os dados preditos pela Random Forest\n",
        "fig.add_trace(go.Scatter(x=df_results.index,\n",
        "                         y=df_results.valor_predito_random_forest,\n",
        "                         mode='lines',\n",
        "                         line = dict(color = '#7F7F7F'),\n",
        "                         name='Valor Predito Random Forest'))\n",
        "\n",
        "# Plota a figura\n",
        "fig.show()"
      ],
      "execution_count": null,
      "outputs": [
        {
          "output_type": "display_data",
          "data": {
            "text/html": [
              "<html>\n",
              "<head><meta charset=\"utf-8\" /></head>\n",
              "<body>\n",
              "    <div>\n",
              "            <script src=\"https://cdnjs.cloudflare.com/ajax/libs/mathjax/2.7.5/MathJax.js?config=TeX-AMS-MML_SVG\"></script><script type=\"text/javascript\">if (window.MathJax) {MathJax.Hub.Config({SVG: {font: \"STIX-Web\"}});}</script>\n",
              "                <script type=\"text/javascript\">window.PlotlyConfig = {MathJaxConfig: 'local'};</script>\n",
              "        <script src=\"https://cdn.plot.ly/plotly-latest.min.js\"></script>    \n",
              "            <div id=\"85d003bf-9932-49f6-85fa-7314195f190f\" class=\"plotly-graph-div\" style=\"height:525px; width:100%;\"></div>\n",
              "            <script type=\"text/javascript\">\n",
              "                \n",
              "                    window.PLOTLYENV=window.PLOTLYENV || {};\n",
              "                    \n",
              "                if (document.getElementById(\"85d003bf-9932-49f6-85fa-7314195f190f\")) {\n",
              "                    Plotly.newPlot(\n",
              "                        '85d003bf-9932-49f6-85fa-7314195f190f',\n",
              "                        [{\"mode\": \"markers\", \"name\": \"Valor Real\", \"type\": \"scatter\", \"x\": [0, 1, 2, 3, 4, 5, 6, 7, 8, 9, 10, 11, 12, 13, 14, 15, 16, 17, 18, 19, 20, 21, 22, 23, 24, 25, 26, 27, 28, 29, 30, 31, 32, 33, 34, 35, 36, 37, 38, 39, 40, 41, 42, 43, 44, 45, 46, 47, 48, 49, 50, 51, 52, 53, 54, 55, 56, 57, 58, 59, 60, 61, 62, 63, 64, 65, 66, 67, 68, 69, 70, 71, 72, 73, 74, 75, 76, 77, 78, 79, 80, 81, 82, 83, 84, 85, 86, 87, 88, 89, 90, 91, 92, 93, 94, 95, 96, 97], \"y\": [18.5, 12.7, 21.4, 23.7, 20.8, 25.0, 9.7, 14.9, 34.9, 31.6, 24.7, 22.9, 33.2, 9.6, 30.5, 19.2, 30.3, 15.4, 24.3, 24.4, 21.5, 27.9, 17.3, 21.4, 21.7, 24.4, 8.5, 15.0, 11.5, 13.6, 24.4, 7.4, 44.0, 21.7, 19.3, 16.1, 29.0, 26.4, 20.3, 10.8, 5.0, 19.6, 23.1, 23.9, 17.5, 13.5, 48.8, 26.2, 19.7, 14.2, 11.0, 19.0, 21.7, 18.4, 33.4, 14.0, 24.7, 43.8, 48.5, 25.0, 22.6, 21.2, 22.4, 23.8, 19.9, 16.5, 16.7, 17.2, 13.1, 19.1, 18.5, 22.2, 22.6, 19.4, 15.2, 19.8, 19.4, 21.6, 18.2, 19.6, 19.6, 23.0, 7.0, 17.6, 25.0, 41.3, 24.1, 22.6, 18.7, 22.6, 13.1, 22.2, 16.1, 39.8, 25.0, 20.5, 10.4, 20.4]}, {\"line\": {\"color\": \"#FF00FF\"}, \"mode\": \"lines+markers\", \"name\": \"Valor da Baseline\", \"type\": \"scatter\", \"x\": [0, 1, 2, 3, 4, 5, 6, 7, 8, 9, 10, 11, 12, 13, 14, 15, 16, 17, 18, 19, 20, 21, 22, 23, 24, 25, 26, 27, 28, 29, 30, 31, 32, 33, 34, 35, 36, 37, 38, 39, 40, 41, 42, 43, 44, 45, 46, 47, 48, 49, 50, 51, 52, 53, 54, 55, 56, 57, 58, 59, 60, 61, 62, 63, 64, 65, 66, 67, 68, 69, 70, 71, 72, 73, 74, 75, 76, 77, 78, 79, 80, 81, 82, 83, 84, 85, 86, 87, 88, 89, 90, 91, 92, 93, 94, 95, 96, 97], \"y\": [20.1304245283019, 20.1304245283019, 20.1304245283019, 20.1304245283019, 20.1304245283019, 20.1304245283019, 20.1304245283019, 20.1304245283019, 35.71923076923077, 35.71923076923077, 20.1304245283019, 20.1304245283019, 35.71923076923077, 20.1304245283019, 20.1304245283019, 20.1304245283019, 35.71923076923077, 20.1304245283019, 20.1304245283019, 20.1304245283019, 20.1304245283019, 20.1304245283019, 20.1304245283019, 20.1304245283019, 20.1304245283019, 20.1304245283019, 20.1304245283019, 35.71923076923077, 20.1304245283019, 20.1304245283019, 20.1304245283019, 20.1304245283019, 35.71923076923077, 20.1304245283019, 20.1304245283019, 14.921428571428574, 35.71923076923077, 20.1304245283019, 20.1304245283019, 20.1304245283019, 20.1304245283019, 20.1304245283019, 20.1304245283019, 20.1304245283019, 20.1304245283019, 20.1304245283019, 35.71923076923077, 20.1304245283019, 20.1304245283019, 20.1304245283019, 20.1304245283019, 20.1304245283019, 20.1304245283019, 20.1304245283019, 35.71923076923077, 20.1304245283019, 20.1304245283019, 35.71923076923077, 35.71923076923077, 20.1304245283019, 20.1304245283019, 20.1304245283019, 20.1304245283019, 20.1304245283019, 20.1304245283019, 20.1304245283019, 20.1304245283019, 20.1304245283019, 20.1304245283019, 20.1304245283019, 20.1304245283019, 20.1304245283019, 20.1304245283019, 20.1304245283019, 20.1304245283019, 20.1304245283019, 20.1304245283019, 20.1304245283019, 20.1304245283019, 20.1304245283019, 20.1304245283019, 20.1304245283019, 14.921428571428574, 20.1304245283019, 20.1304245283019, 20.1304245283019, 20.1304245283019, 20.1304245283019, 20.1304245283019, 20.1304245283019, 20.1304245283019, 20.1304245283019, 20.1304245283019, 35.71923076923077, 35.71923076923077, 20.1304245283019, 20.1304245283019, 20.1304245283019]}, {\"line\": {\"color\": \"#B2FF66\"}, \"mode\": \"lines\", \"name\": \"Valor Predito \\u00c1rvore\", \"type\": \"scatter\", \"x\": [0, 1, 2, 3, 4, 5, 6, 7, 8, 9, 10, 11, 12, 13, 14, 15, 16, 17, 18, 19, 20, 21, 22, 23, 24, 25, 26, 27, 28, 29, 30, 31, 32, 33, 34, 35, 36, 37, 38, 39, 40, 41, 42, 43, 44, 45, 46, 47, 48, 49, 50, 51, 52, 53, 54, 55, 56, 57, 58, 59, 60, 61, 62, 63, 64, 65, 66, 67, 68, 69, 70, 71, 72, 73, 74, 75, 76, 77, 78, 79, 80, 81, 82, 83, 84, 85, 86, 87, 88, 89, 90, 91, 92, 93, 94, 95, 96, 97], \"y\": [17.8, 23.2, 24.5, 24.3, 23.0, 27.5, 7.2, 17.8, 36.4, 28.7, 24.5, 22.2, 34.9, 14.6, 29.8, 23.1, 34.6, 13.4, 24.5, 25.0, 15.3, 28.5, 15.7, 21.4, 23.4, 19.4, 12.1, 31.0, 12.8, 16.2, 22.2, 10.5, 45.4, 23.0, 22.8, 14.5, 32.9, 23.3, 18.9, 8.4, 6.3, 19.2, 24.5, 22.2, 17.2, 14.1, 43.1, 22.8, 17.1, 22.4, 12.1, 19.5, 19.9, 21.7, 36.1, 14.4, 21.2, 37.3, 34.7, 23.3, 28.7, 20.1, 27.5, 19.1, 15.2, 22.0, 20.1, 27.5, 15.6, 20.0, 20.0, 20.7, 20.5, 22.4, 14.3, 19.4, 23.0, 23.8, 25.0, 15.3, 19.3, 20.6, 8.5, 17.4, 34.9, 27.0, 23.7, 19.3, 19.6, 30.1, 12.7, 22.0, 18.1, 37.9, 21.9, 22.5, 8.5, 19.3]}, {\"line\": {\"color\": \"#17BECF\"}, \"mode\": \"lines\", \"name\": \"Valor Predito Regress\\u00e3o Linear\", \"type\": \"scatter\", \"x\": [0, 1, 2, 3, 4, 5, 6, 7, 8, 9, 10, 11, 12, 13, 14, 15, 16, 17, 18, 19, 20, 21, 22, 23, 24, 25, 26, 27, 28, 29, 30, 31, 32, 33, 34, 35, 36, 37, 38, 39, 40, 41, 42, 43, 44, 45, 46, 47, 48, 49, 50, 51, 52, 53, 54, 55, 56, 57, 58, 59, 60, 61, 62, 63, 64, 65, 66, 67, 68, 69, 70, 71, 72, 73, 74, 75, 76, 77, 78, 79, 80, 81, 82, 83, 84, 85, 86, 87, 88, 89, 90, 91, 92, 93, 94, 95, 96, 97], \"y\": [18.459169620175622, 12.27989416415651, 24.588306565387423, 28.254693280668697, 18.195438537343797, 21.630648235689588, 11.31919803094615, 14.561032219959813, 31.623716773040094, 29.588132607557007, 28.60393601525742, 26.482125815783224, 29.966034207781306, 14.553173045326115, 30.278248711999723, 24.63003915876186, 33.23345824950145, 16.931248570273684, 24.99446421909778, 26.466441440860127, 22.813639524070087, 27.103390731816347, 12.524996632311225, 19.37929751974933, 21.581545971002537, 23.877006702039054, 14.085855797820356, 21.230146967559786, 13.643973122717863, 14.716712882017276, 25.80016154201209, 7.867171947538868, 33.02051098404501, 26.045218917809276, 24.03678166511637, 17.775403456686533, 33.22709163662169, 27.517944398741662, 21.187383562583435, 10.957868727277681, 7.507685772949113, 19.418586584539916, 27.393339951286585, 23.8410182563615, 24.74227083856386, 16.990723698020265, 35.47974424493103, 26.159912917617135, 22.49691218178387, 17.904788196114122, 14.154116782257066, 21.181885684574734, 20.624525388320667, 21.177587641065532, 29.49552122400647, 14.23004112679746, 26.544112805265772, 31.0880450668066, 33.726935599253906, 24.891581735351775, 24.187944371239205, 23.864725908860084, 22.05278167361648, 21.38994045785447, 18.845951646544716, 27.841582054943295, 17.93632331758325, 13.823897089289773, 17.676139911036124, 19.29463827968289, 20.582306559638138, 25.390649846634087, 26.23596042344075, 18.89486986816471, 14.74830291774068, 26.818675625015647, 24.878238751496404, 25.213916812117624, 21.19251508313218, 20.512703338801487, 18.270477629632566, 21.37039101688553, -0.09444264955234871, 20.958291503542682, 28.552537591219135, 28.0218620799915, 27.66690749195503, 21.458421647169153, 21.377824334771667, 27.621006503404928, 16.075247361056483, 26.092542124103044, 17.756087552806495, 29.38959640373895, 25.474439973258512, 15.839468986221018, 8.44698583407828, 20.760205429443275]}, {\"line\": {\"color\": \"#7F7F7F\"}, \"mode\": \"lines\", \"name\": \"Valor Predito Random Forest\", \"type\": \"scatter\", \"x\": [0, 1, 2, 3, 4, 5, 6, 7, 8, 9, 10, 11, 12, 13, 14, 15, 16, 17, 18, 19, 20, 21, 22, 23, 24, 25, 26, 27, 28, 29, 30, 31, 32, 33, 34, 35, 36, 37, 38, 39, 40, 41, 42, 43, 44, 45, 46, 47, 48, 49, 50, 51, 52, 53, 54, 55, 56, 57, 58, 59, 60, 61, 62, 63, 64, 65, 66, 67, 68, 69, 70, 71, 72, 73, 74, 75, 76, 77, 78, 79, 80, 81, 82, 83, 84, 85, 86, 87, 88, 89, 90, 91, 92, 93, 94, 95, 96, 97], \"y\": [19.442000000000004, 15.545000000000005, 23.533999999999992, 25.07399999999999, 21.500999999999998, 24.228, 8.974000000000002, 13.098000000000003, 39.14200000000004, 34.49599999999996, 25.098999999999982, 26.705999999999985, 33.883999999999986, 13.80900000000001, 32.88400000000001, 20.712999999999994, 32.39999999999999, 15.135999999999983, 23.649000000000004, 25.106999999999992, 18.28299999999999, 28.123999999999995, 17.651, 22.897, 22.29499999999999, 21.184, 13.88599999999999, 20.443000000000012, 12.685999999999986, 17.212, 23.342000000000002, 8.376000000000007, 42.01000000000003, 21.944000000000003, 24.284000000000002, 20.057999999999996, 34.43399999999999, 23.900000000000006, 20.276, 10.121999999999993, 6.708000000000007, 18.89800000000001, 24.896999999999988, 21.833, 20.774999999999995, 14.224000000000006, 39.21299999999999, 24.418999999999986, 19.63599999999999, 15.798000000000007, 12.644999999999996, 20.036000000000012, 21.33999999999999, 19.458000000000013, 34.31099999999996, 14.448999999999995, 25.140999999999995, 39.22700000000003, 40.110000000000035, 25.22600000000001, 24.212999999999994, 20.699999999999992, 21.993999999999996, 20.04899999999999, 17.692000000000004, 24.538, 14.893999999999991, 19.066, 15.786999999999987, 18.493000000000006, 21.772, 24.526999999999983, 24.71500000000001, 16.458000000000006, 17.011999999999993, 23.47300000000001, 21.678, 23.51900000000001, 19.738, 17.83699999999998, 18.525000000000002, 21.22599999999999, 8.734999999999998, 18.867000000000004, 28.082000000000004, 27.261, 26.057000000000006, 20.30999999999999, 20.426000000000005, 28.891000000000012, 14.726000000000004, 21.86499999999999, 17.525000000000013, 33.828999999999986, 31.19400000000001, 19.556999999999988, 7.8839999999999995, 19.984999999999996]}],\n",
              "                        {\"template\": {\"data\": {\"bar\": [{\"error_x\": {\"color\": \"#2a3f5f\"}, \"error_y\": {\"color\": \"#2a3f5f\"}, \"marker\": {\"line\": {\"color\": \"#E5ECF6\", \"width\": 0.5}}, \"type\": \"bar\"}], \"barpolar\": [{\"marker\": {\"line\": {\"color\": \"#E5ECF6\", \"width\": 0.5}}, \"type\": \"barpolar\"}], \"carpet\": [{\"aaxis\": {\"endlinecolor\": \"#2a3f5f\", \"gridcolor\": \"white\", \"linecolor\": \"white\", \"minorgridcolor\": \"white\", \"startlinecolor\": \"#2a3f5f\"}, \"baxis\": {\"endlinecolor\": \"#2a3f5f\", \"gridcolor\": \"white\", \"linecolor\": \"white\", \"minorgridcolor\": \"white\", \"startlinecolor\": \"#2a3f5f\"}, \"type\": \"carpet\"}], \"choropleth\": [{\"colorbar\": {\"outlinewidth\": 0, \"ticks\": \"\"}, \"type\": \"choropleth\"}], \"contour\": [{\"colorbar\": {\"outlinewidth\": 0, \"ticks\": \"\"}, \"colorscale\": [[0.0, \"#0d0887\"], [0.1111111111111111, \"#46039f\"], [0.2222222222222222, \"#7201a8\"], [0.3333333333333333, \"#9c179e\"], [0.4444444444444444, \"#bd3786\"], [0.5555555555555556, \"#d8576b\"], [0.6666666666666666, \"#ed7953\"], [0.7777777777777778, \"#fb9f3a\"], [0.8888888888888888, \"#fdca26\"], [1.0, \"#f0f921\"]], \"type\": \"contour\"}], \"contourcarpet\": [{\"colorbar\": {\"outlinewidth\": 0, \"ticks\": \"\"}, \"type\": \"contourcarpet\"}], \"heatmap\": [{\"colorbar\": {\"outlinewidth\": 0, \"ticks\": \"\"}, \"colorscale\": [[0.0, \"#0d0887\"], [0.1111111111111111, \"#46039f\"], [0.2222222222222222, \"#7201a8\"], [0.3333333333333333, \"#9c179e\"], [0.4444444444444444, \"#bd3786\"], [0.5555555555555556, \"#d8576b\"], [0.6666666666666666, \"#ed7953\"], [0.7777777777777778, \"#fb9f3a\"], [0.8888888888888888, \"#fdca26\"], [1.0, \"#f0f921\"]], \"type\": \"heatmap\"}], \"heatmapgl\": [{\"colorbar\": {\"outlinewidth\": 0, \"ticks\": \"\"}, \"colorscale\": [[0.0, \"#0d0887\"], [0.1111111111111111, \"#46039f\"], [0.2222222222222222, \"#7201a8\"], [0.3333333333333333, \"#9c179e\"], [0.4444444444444444, \"#bd3786\"], [0.5555555555555556, \"#d8576b\"], [0.6666666666666666, \"#ed7953\"], [0.7777777777777778, \"#fb9f3a\"], [0.8888888888888888, \"#fdca26\"], [1.0, \"#f0f921\"]], \"type\": \"heatmapgl\"}], \"histogram\": [{\"marker\": {\"colorbar\": {\"outlinewidth\": 0, \"ticks\": \"\"}}, \"type\": \"histogram\"}], \"histogram2d\": [{\"colorbar\": {\"outlinewidth\": 0, \"ticks\": \"\"}, \"colorscale\": [[0.0, \"#0d0887\"], [0.1111111111111111, \"#46039f\"], [0.2222222222222222, \"#7201a8\"], [0.3333333333333333, \"#9c179e\"], [0.4444444444444444, \"#bd3786\"], [0.5555555555555556, \"#d8576b\"], [0.6666666666666666, \"#ed7953\"], [0.7777777777777778, \"#fb9f3a\"], [0.8888888888888888, \"#fdca26\"], [1.0, \"#f0f921\"]], \"type\": \"histogram2d\"}], \"histogram2dcontour\": [{\"colorbar\": {\"outlinewidth\": 0, \"ticks\": \"\"}, \"colorscale\": [[0.0, \"#0d0887\"], [0.1111111111111111, \"#46039f\"], [0.2222222222222222, \"#7201a8\"], [0.3333333333333333, \"#9c179e\"], [0.4444444444444444, \"#bd3786\"], [0.5555555555555556, \"#d8576b\"], [0.6666666666666666, \"#ed7953\"], [0.7777777777777778, \"#fb9f3a\"], [0.8888888888888888, \"#fdca26\"], [1.0, \"#f0f921\"]], \"type\": \"histogram2dcontour\"}], \"mesh3d\": [{\"colorbar\": {\"outlinewidth\": 0, \"ticks\": \"\"}, \"type\": \"mesh3d\"}], \"parcoords\": [{\"line\": {\"colorbar\": {\"outlinewidth\": 0, \"ticks\": \"\"}}, \"type\": \"parcoords\"}], \"pie\": [{\"automargin\": true, \"type\": \"pie\"}], \"scatter\": [{\"marker\": {\"colorbar\": {\"outlinewidth\": 0, \"ticks\": \"\"}}, \"type\": \"scatter\"}], \"scatter3d\": [{\"line\": {\"colorbar\": {\"outlinewidth\": 0, \"ticks\": \"\"}}, \"marker\": {\"colorbar\": {\"outlinewidth\": 0, \"ticks\": \"\"}}, \"type\": \"scatter3d\"}], \"scattercarpet\": [{\"marker\": {\"colorbar\": {\"outlinewidth\": 0, \"ticks\": \"\"}}, \"type\": \"scattercarpet\"}], \"scattergeo\": [{\"marker\": {\"colorbar\": {\"outlinewidth\": 0, \"ticks\": \"\"}}, \"type\": \"scattergeo\"}], \"scattergl\": [{\"marker\": {\"colorbar\": {\"outlinewidth\": 0, \"ticks\": \"\"}}, \"type\": \"scattergl\"}], \"scattermapbox\": [{\"marker\": {\"colorbar\": {\"outlinewidth\": 0, \"ticks\": \"\"}}, \"type\": \"scattermapbox\"}], \"scatterpolar\": [{\"marker\": {\"colorbar\": {\"outlinewidth\": 0, \"ticks\": \"\"}}, \"type\": \"scatterpolar\"}], \"scatterpolargl\": [{\"marker\": {\"colorbar\": {\"outlinewidth\": 0, \"ticks\": \"\"}}, \"type\": \"scatterpolargl\"}], \"scatterternary\": [{\"marker\": {\"colorbar\": {\"outlinewidth\": 0, \"ticks\": \"\"}}, \"type\": \"scatterternary\"}], \"surface\": [{\"colorbar\": {\"outlinewidth\": 0, \"ticks\": \"\"}, \"colorscale\": [[0.0, \"#0d0887\"], [0.1111111111111111, \"#46039f\"], [0.2222222222222222, \"#7201a8\"], [0.3333333333333333, \"#9c179e\"], [0.4444444444444444, \"#bd3786\"], [0.5555555555555556, \"#d8576b\"], [0.6666666666666666, \"#ed7953\"], [0.7777777777777778, \"#fb9f3a\"], [0.8888888888888888, \"#fdca26\"], [1.0, \"#f0f921\"]], \"type\": \"surface\"}], \"table\": [{\"cells\": {\"fill\": {\"color\": \"#EBF0F8\"}, \"line\": {\"color\": \"white\"}}, \"header\": {\"fill\": {\"color\": \"#C8D4E3\"}, \"line\": {\"color\": \"white\"}}, \"type\": \"table\"}]}, \"layout\": {\"annotationdefaults\": {\"arrowcolor\": \"#2a3f5f\", \"arrowhead\": 0, \"arrowwidth\": 1}, \"coloraxis\": {\"colorbar\": {\"outlinewidth\": 0, \"ticks\": \"\"}}, \"colorscale\": {\"diverging\": [[0, \"#8e0152\"], [0.1, \"#c51b7d\"], [0.2, \"#de77ae\"], [0.3, \"#f1b6da\"], [0.4, \"#fde0ef\"], [0.5, \"#f7f7f7\"], [0.6, \"#e6f5d0\"], [0.7, \"#b8e186\"], [0.8, \"#7fbc41\"], [0.9, \"#4d9221\"], [1, \"#276419\"]], \"sequential\": [[0.0, \"#0d0887\"], [0.1111111111111111, \"#46039f\"], [0.2222222222222222, \"#7201a8\"], [0.3333333333333333, \"#9c179e\"], [0.4444444444444444, \"#bd3786\"], [0.5555555555555556, \"#d8576b\"], [0.6666666666666666, \"#ed7953\"], [0.7777777777777778, \"#fb9f3a\"], [0.8888888888888888, \"#fdca26\"], [1.0, \"#f0f921\"]], \"sequentialminus\": [[0.0, \"#0d0887\"], [0.1111111111111111, \"#46039f\"], [0.2222222222222222, \"#7201a8\"], [0.3333333333333333, \"#9c179e\"], [0.4444444444444444, \"#bd3786\"], [0.5555555555555556, \"#d8576b\"], [0.6666666666666666, \"#ed7953\"], [0.7777777777777778, \"#fb9f3a\"], [0.8888888888888888, \"#fdca26\"], [1.0, \"#f0f921\"]]}, \"colorway\": [\"#636efa\", \"#EF553B\", \"#00cc96\", \"#ab63fa\", \"#FFA15A\", \"#19d3f3\", \"#FF6692\", \"#B6E880\", \"#FF97FF\", \"#FECB52\"], \"font\": {\"color\": \"#2a3f5f\"}, \"geo\": {\"bgcolor\": \"white\", \"lakecolor\": \"white\", \"landcolor\": \"#E5ECF6\", \"showlakes\": true, \"showland\": true, \"subunitcolor\": \"white\"}, \"hoverlabel\": {\"align\": \"left\"}, \"hovermode\": \"closest\", \"mapbox\": {\"style\": \"light\"}, \"paper_bgcolor\": \"white\", \"plot_bgcolor\": \"#E5ECF6\", \"polar\": {\"angularaxis\": {\"gridcolor\": \"white\", \"linecolor\": \"white\", \"ticks\": \"\"}, \"bgcolor\": \"#E5ECF6\", \"radialaxis\": {\"gridcolor\": \"white\", \"linecolor\": \"white\", \"ticks\": \"\"}}, \"scene\": {\"xaxis\": {\"backgroundcolor\": \"#E5ECF6\", \"gridcolor\": \"white\", \"gridwidth\": 2, \"linecolor\": \"white\", \"showbackground\": true, \"ticks\": \"\", \"zerolinecolor\": \"white\"}, \"yaxis\": {\"backgroundcolor\": \"#E5ECF6\", \"gridcolor\": \"white\", \"gridwidth\": 2, \"linecolor\": \"white\", \"showbackground\": true, \"ticks\": \"\", \"zerolinecolor\": \"white\"}, \"zaxis\": {\"backgroundcolor\": \"#E5ECF6\", \"gridcolor\": \"white\", \"gridwidth\": 2, \"linecolor\": \"white\", \"showbackground\": true, \"ticks\": \"\", \"zerolinecolor\": \"white\"}}, \"shapedefaults\": {\"line\": {\"color\": \"#2a3f5f\"}}, \"ternary\": {\"aaxis\": {\"gridcolor\": \"white\", \"linecolor\": \"white\", \"ticks\": \"\"}, \"baxis\": {\"gridcolor\": \"white\", \"linecolor\": \"white\", \"ticks\": \"\"}, \"bgcolor\": \"#E5ECF6\", \"caxis\": {\"gridcolor\": \"white\", \"linecolor\": \"white\", \"ticks\": \"\"}}, \"title\": {\"x\": 0.05}, \"xaxis\": {\"automargin\": true, \"gridcolor\": \"white\", \"linecolor\": \"white\", \"ticks\": \"\", \"title\": {\"standoff\": 15}, \"zerolinecolor\": \"white\", \"zerolinewidth\": 2}, \"yaxis\": {\"automargin\": true, \"gridcolor\": \"white\", \"linecolor\": \"white\", \"ticks\": \"\", \"title\": {\"standoff\": 15}, \"zerolinecolor\": \"white\", \"zerolinewidth\": 2}}}},\n",
              "                        {\"responsive\": true}\n",
              "                    ).then(function(){\n",
              "                            \n",
              "var gd = document.getElementById('85d003bf-9932-49f6-85fa-7314195f190f');\n",
              "var x = new MutationObserver(function (mutations, observer) {{\n",
              "        var display = window.getComputedStyle(gd).display;\n",
              "        if (!display || display === 'none') {{\n",
              "            console.log([gd, 'removed!']);\n",
              "            Plotly.purge(gd);\n",
              "            observer.disconnect();\n",
              "        }}\n",
              "}});\n",
              "\n",
              "// Listen for the removal of the full notebook cells\n",
              "var notebookContainer = gd.closest('#notebook-container');\n",
              "if (notebookContainer) {{\n",
              "    x.observe(notebookContainer, {childList: true});\n",
              "}}\n",
              "\n",
              "// Listen for the clearing of the current output cell\n",
              "var outputEl = gd.closest('.output');\n",
              "if (outputEl) {{\n",
              "    x.observe(outputEl, {childList: true});\n",
              "}}\n",
              "\n",
              "                        })\n",
              "                };\n",
              "                \n",
              "            </script>\n",
              "        </div>\n",
              "</body>\n",
              "</html>"
            ]
          },
          "metadata": {
            "tags": []
          }
        }
      ]
    },
    {
      "cell_type": "markdown",
      "metadata": {
        "id": "udB7k-TMe9tj"
      },
      "source": [
        "### Tunning do Algoritmo de Machine Learning"
      ]
    },
    {
      "cell_type": "markdown",
      "metadata": {
        "id": "-ivExBIzzrmX"
      },
      "source": [
        "**Parâmetros da Random Forest**\n",
        "\n",
        "- `O parâmetro n_estimators define a quantidade de árvores que serão usadas para criação dos modelos. Quanto maior o número de árvores, maior será o número de modelos no ensemble.`\n",
        "\n",
        "- `O parâmtro max_deph define a profundidade da árvore, quanto mais profunda a árvore, mais especializado nos dados de treino o nosso modelo estará.`\n",
        "\n",
        "- `O parâmetro max_features define a quantidade máxima de nós que serão usados para separar os níveis folha da árvore`"
      ]
    },
    {
      "cell_type": "markdown",
      "metadata": {
        "id": "Kt1_TcBfWn31"
      },
      "source": [
        "Deploy da Aplicação"
      ]
    },
    {
      "cell_type": "code",
      "metadata": {
        "id": "o_vwA3soYjYq"
      },
      "source": [
        "X['MEDV'] = y"
      ],
      "execution_count": null,
      "outputs": []
    },
    {
      "cell_type": "code",
      "metadata": {
        "id": "x5-qVIdOZwdt",
        "colab": {
          "base_uri": "https://localhost:8080/",
          "height": 204
        },
        "outputId": "21456bab-f711-4f5e-d5e2-1ce8f2d41129"
      },
      "source": [
        "X.head()"
      ],
      "execution_count": null,
      "outputs": [
        {
          "output_type": "execute_result",
          "data": {
            "text/html": [
              "<div>\n",
              "<style scoped>\n",
              "    .dataframe tbody tr th:only-of-type {\n",
              "        vertical-align: middle;\n",
              "    }\n",
              "\n",
              "    .dataframe tbody tr th {\n",
              "        vertical-align: top;\n",
              "    }\n",
              "\n",
              "    .dataframe thead th {\n",
              "        text-align: right;\n",
              "    }\n",
              "</style>\n",
              "<table border=\"1\" class=\"dataframe\">\n",
              "  <thead>\n",
              "    <tr style=\"text-align: right;\">\n",
              "      <th></th>\n",
              "      <th>CRIM</th>\n",
              "      <th>INDUS</th>\n",
              "      <th>CHAS</th>\n",
              "      <th>NOX</th>\n",
              "      <th>RM</th>\n",
              "      <th>PTRATIO</th>\n",
              "      <th>B</th>\n",
              "      <th>LSTAT</th>\n",
              "      <th>MEDV</th>\n",
              "    </tr>\n",
              "  </thead>\n",
              "  <tbody>\n",
              "    <tr>\n",
              "      <th>0</th>\n",
              "      <td>0.00632</td>\n",
              "      <td>2.31</td>\n",
              "      <td>0.0</td>\n",
              "      <td>0.538</td>\n",
              "      <td>6</td>\n",
              "      <td>15.3</td>\n",
              "      <td>396.90</td>\n",
              "      <td>4.98</td>\n",
              "      <td>24.0</td>\n",
              "    </tr>\n",
              "    <tr>\n",
              "      <th>1</th>\n",
              "      <td>0.02731</td>\n",
              "      <td>7.07</td>\n",
              "      <td>0.0</td>\n",
              "      <td>0.469</td>\n",
              "      <td>6</td>\n",
              "      <td>17.8</td>\n",
              "      <td>396.90</td>\n",
              "      <td>9.14</td>\n",
              "      <td>21.6</td>\n",
              "    </tr>\n",
              "    <tr>\n",
              "      <th>2</th>\n",
              "      <td>0.02729</td>\n",
              "      <td>7.07</td>\n",
              "      <td>0.0</td>\n",
              "      <td>0.469</td>\n",
              "      <td>7</td>\n",
              "      <td>17.8</td>\n",
              "      <td>392.83</td>\n",
              "      <td>4.03</td>\n",
              "      <td>34.7</td>\n",
              "    </tr>\n",
              "    <tr>\n",
              "      <th>3</th>\n",
              "      <td>0.03237</td>\n",
              "      <td>2.18</td>\n",
              "      <td>0.0</td>\n",
              "      <td>0.458</td>\n",
              "      <td>6</td>\n",
              "      <td>18.7</td>\n",
              "      <td>394.63</td>\n",
              "      <td>2.94</td>\n",
              "      <td>33.4</td>\n",
              "    </tr>\n",
              "    <tr>\n",
              "      <th>4</th>\n",
              "      <td>0.06905</td>\n",
              "      <td>2.18</td>\n",
              "      <td>0.0</td>\n",
              "      <td>0.458</td>\n",
              "      <td>7</td>\n",
              "      <td>18.7</td>\n",
              "      <td>396.90</td>\n",
              "      <td>5.33</td>\n",
              "      <td>36.2</td>\n",
              "    </tr>\n",
              "  </tbody>\n",
              "</table>\n",
              "</div>"
            ],
            "text/plain": [
              "      CRIM  INDUS  CHAS    NOX  RM  PTRATIO       B  LSTAT  MEDV\n",
              "0  0.00632   2.31   0.0  0.538   6     15.3  396.90   4.98  24.0\n",
              "1  0.02731   7.07   0.0  0.469   6     17.8  396.90   9.14  21.6\n",
              "2  0.02729   7.07   0.0  0.469   7     17.8  392.83   4.03  34.7\n",
              "3  0.03237   2.18   0.0  0.458   6     18.7  394.63   2.94  33.4\n",
              "4  0.06905   2.18   0.0  0.458   7     18.7  396.90   5.33  36.2"
            ]
          },
          "metadata": {
            "tags": []
          },
          "execution_count": 79
        }
      ]
    },
    {
      "cell_type": "code",
      "metadata": {
        "id": "vbPO7woOa7N0"
      },
      "source": [
        "X.to_csv('data.csv', index=False)"
      ],
      "execution_count": null,
      "outputs": []
    },
    {
      "cell_type": "code",
      "metadata": {
        "id": "deOHNtG106D5"
      },
      "source": [
        ""
      ],
      "execution_count": null,
      "outputs": []
    }
  ]
}